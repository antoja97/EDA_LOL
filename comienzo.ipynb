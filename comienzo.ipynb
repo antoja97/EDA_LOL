{
 "cells": [
  {
   "attachments": {},
   "cell_type": "markdown",
   "metadata": {},
   "source": [
    "<div style=\"text-align:center\"><img src=\"League-Legends-contara-sistema-desafios_1571552855_971917_1440x810.jpeg\" /></div>\n"
   ]
  },
  {
   "attachments": {},
   "cell_type": "markdown",
   "metadata": {},
   "source": [
    "# *CAMBIOS DURANTE UNA SEASON EN LEAGUE OF LEGENDS*\n"
   ]
  },
  {
   "attachments": {},
   "cell_type": "markdown",
   "metadata": {},
   "source": [
    "### En este proyecto vamos a mostrar como el juego League of Legends, comunmente conocido como 'LOL', lleva a cabo muchos cambios durante una temporada en el juego, lo cual repercute a la jugabilidad de este mismo.\n",
    "\n",
    "#### Nos centramos en la temporada 12, donde su primer parche se introdujo el 5 de Enero de 2022 y el último siendo el 6 de Diciembre de 2022.  Dicha temporada ha abarcado nada más y nada menos que 23 parches desde una fecha a la otra, pero vamos a enfocarnos en coger solo 3 parches, el 12.1, el 12.13 y el 12.23, con el fin de poder ver como se inicia la temporada, como se encuentra a mitad de temporada, y con el último poder ver realmente si ha sufrido muchos cambios desde el principio, pudiendo demostrar que dicho juego varía mucho.\n",
    " \n"
   ]
  },
  {
   "attachments": {},
   "cell_type": "markdown",
   "metadata": {},
   "source": [
    "### Importamos las librerías necesarias\n"
   ]
  },
  {
   "cell_type": "code",
   "execution_count": 1,
   "metadata": {},
   "outputs": [],
   "source": [
    "import pandas as pd\n",
    "import numpy as np\n",
    "import matplotlib.pyplot as plt\n",
    "import seaborn as sns\n",
    "import plotly as py\n",
    "import plotly.graph_objs as go\n",
    "\n",
    "\n"
   ]
  },
  {
   "attachments": {},
   "cell_type": "markdown",
   "metadata": {},
   "source": [
    "## Cargamos los 3 parches que vamos a utilizar."
   ]
  },
  {
   "cell_type": "code",
   "execution_count": 2,
   "metadata": {},
   "outputs": [],
   "source": [
    "p1=pd.read_csv(\"/Users/antoniojaenarias/Desktop/DATA SCIENCE/TODO/EDA/EDA-LOL/S12/League of Legends Champion Stats 12.1.csv\",sep=\";\")\n",
    "\n",
    "p13=pd.read_csv(\"/Users/antoniojaenarias/Desktop/DATA SCIENCE/TODO/EDA/EDA-LOL/S12/League of Legends Champion Stats 12.13.csv\",sep=\";\")\n",
    "\n",
    "p23=pd.read_csv(\"/Users/antoniojaenarias/Desktop/DATA SCIENCE/TODO/EDA/EDA-LOL/S12/League of Legends Champion Stats 12.23.csv\",sep=\";\")\n",
    "\n"
   ]
  },
  {
   "attachments": {},
   "cell_type": "markdown",
   "metadata": {},
   "source": [
    "### Mostramos a continuación las cabeceras de los parches para ver que funcionan correctamente y que casi todas sus stats son distintas."
   ]
  },
  {
   "cell_type": "code",
   "execution_count": 3,
   "metadata": {},
   "outputs": [
    {
     "data": {
      "text/html": [
       "<div>\n",
       "<style scoped>\n",
       "    .dataframe tbody tr th:only-of-type {\n",
       "        vertical-align: middle;\n",
       "    }\n",
       "\n",
       "    .dataframe tbody tr th {\n",
       "        vertical-align: top;\n",
       "    }\n",
       "\n",
       "    .dataframe thead th {\n",
       "        text-align: right;\n",
       "    }\n",
       "</style>\n",
       "<table border=\"1\" class=\"dataframe\">\n",
       "  <thead>\n",
       "    <tr style=\"text-align: right;\">\n",
       "      <th></th>\n",
       "      <th>Name</th>\n",
       "      <th>Class</th>\n",
       "      <th>Role</th>\n",
       "      <th>Tier</th>\n",
       "      <th>Score</th>\n",
       "      <th>Trend</th>\n",
       "      <th>Win %</th>\n",
       "      <th>Role %</th>\n",
       "      <th>Pick %</th>\n",
       "      <th>Ban %</th>\n",
       "      <th>KDA</th>\n",
       "    </tr>\n",
       "  </thead>\n",
       "  <tbody>\n",
       "    <tr>\n",
       "      <th>0</th>\n",
       "      <td>Aatrox</td>\n",
       "      <td>Fighter</td>\n",
       "      <td>TOP</td>\n",
       "      <td>A</td>\n",
       "      <td>58.25</td>\n",
       "      <td>6.52</td>\n",
       "      <td>49.97%</td>\n",
       "      <td>94.62%</td>\n",
       "      <td>4.43%</td>\n",
       "      <td>2.03%</td>\n",
       "      <td>1.97</td>\n",
       "    </tr>\n",
       "    <tr>\n",
       "      <th>1</th>\n",
       "      <td>Ahri</td>\n",
       "      <td>Mage</td>\n",
       "      <td>MID</td>\n",
       "      <td>A</td>\n",
       "      <td>53.21</td>\n",
       "      <td>-0.24</td>\n",
       "      <td>49.93%</td>\n",
       "      <td>93.47%</td>\n",
       "      <td>4.62%</td>\n",
       "      <td>1.04%</td>\n",
       "      <td>2.56</td>\n",
       "    </tr>\n",
       "    <tr>\n",
       "      <th>2</th>\n",
       "      <td>Akali</td>\n",
       "      <td>Assassin</td>\n",
       "      <td>MID</td>\n",
       "      <td>S</td>\n",
       "      <td>65.30</td>\n",
       "      <td>6.51</td>\n",
       "      <td>48.59%</td>\n",
       "      <td>65.65%</td>\n",
       "      <td>8.16%</td>\n",
       "      <td>12.88%</td>\n",
       "      <td>2.34</td>\n",
       "    </tr>\n",
       "    <tr>\n",
       "      <th>3</th>\n",
       "      <td>Akali</td>\n",
       "      <td>Assassin</td>\n",
       "      <td>TOP</td>\n",
       "      <td>A</td>\n",
       "      <td>57.87</td>\n",
       "      <td>3.34</td>\n",
       "      <td>48.57%</td>\n",
       "      <td>34.06%</td>\n",
       "      <td>4.24%</td>\n",
       "      <td>12.88%</td>\n",
       "      <td>2.04</td>\n",
       "    </tr>\n",
       "    <tr>\n",
       "      <th>4</th>\n",
       "      <td>Akshan</td>\n",
       "      <td>Marksman</td>\n",
       "      <td>MID</td>\n",
       "      <td>S</td>\n",
       "      <td>59.85</td>\n",
       "      <td>0.65</td>\n",
       "      <td>51.46%</td>\n",
       "      <td>58.01%</td>\n",
       "      <td>4.83%</td>\n",
       "      <td>21.91%</td>\n",
       "      <td>2.23</td>\n",
       "    </tr>\n",
       "  </tbody>\n",
       "</table>\n",
       "</div>"
      ],
      "text/plain": [
       "     Name     Class Role Tier  Score  Trend   Win %  Role % Pick %   Ban %  \\\n",
       "0  Aatrox   Fighter  TOP    A  58.25   6.52  49.97%  94.62%  4.43%   2.03%   \n",
       "1    Ahri      Mage  MID    A  53.21  -0.24  49.93%  93.47%  4.62%   1.04%   \n",
       "2   Akali  Assassin  MID    S  65.30   6.51  48.59%  65.65%  8.16%  12.88%   \n",
       "3   Akali  Assassin  TOP    A  57.87   3.34  48.57%  34.06%  4.24%  12.88%   \n",
       "4  Akshan  Marksman  MID    S  59.85   0.65  51.46%  58.01%  4.83%  21.91%   \n",
       "\n",
       "    KDA  \n",
       "0  1.97  \n",
       "1  2.56  \n",
       "2  2.34  \n",
       "3  2.04  \n",
       "4  2.23  "
      ]
     },
     "execution_count": 3,
     "metadata": {},
     "output_type": "execute_result"
    }
   ],
   "source": [
    "p1.head()"
   ]
  },
  {
   "cell_type": "code",
   "execution_count": 4,
   "metadata": {},
   "outputs": [
    {
     "data": {
      "text/html": [
       "<div>\n",
       "<style scoped>\n",
       "    .dataframe tbody tr th:only-of-type {\n",
       "        vertical-align: middle;\n",
       "    }\n",
       "\n",
       "    .dataframe tbody tr th {\n",
       "        vertical-align: top;\n",
       "    }\n",
       "\n",
       "    .dataframe thead th {\n",
       "        text-align: right;\n",
       "    }\n",
       "</style>\n",
       "<table border=\"1\" class=\"dataframe\">\n",
       "  <thead>\n",
       "    <tr style=\"text-align: right;\">\n",
       "      <th></th>\n",
       "      <th>Name</th>\n",
       "      <th>Class</th>\n",
       "      <th>Role</th>\n",
       "      <th>Tier</th>\n",
       "      <th>Score</th>\n",
       "      <th>Trend</th>\n",
       "      <th>Win %</th>\n",
       "      <th>Role %</th>\n",
       "      <th>Pick %</th>\n",
       "      <th>Ban %</th>\n",
       "      <th>KDA</th>\n",
       "    </tr>\n",
       "  </thead>\n",
       "  <tbody>\n",
       "    <tr>\n",
       "      <th>0</th>\n",
       "      <td>Aatrox</td>\n",
       "      <td>Fighter</td>\n",
       "      <td>TOP</td>\n",
       "      <td>God</td>\n",
       "      <td>69.09</td>\n",
       "      <td>0.40</td>\n",
       "      <td>49.54%</td>\n",
       "      <td>92.37%</td>\n",
       "      <td>7.47%</td>\n",
       "      <td>5.81%</td>\n",
       "      <td>1.95</td>\n",
       "    </tr>\n",
       "    <tr>\n",
       "      <th>1</th>\n",
       "      <td>Ahri</td>\n",
       "      <td>Mage</td>\n",
       "      <td>MID</td>\n",
       "      <td>God</td>\n",
       "      <td>71.47</td>\n",
       "      <td>-1.62</td>\n",
       "      <td>51.08%</td>\n",
       "      <td>94.53%</td>\n",
       "      <td>8.58%</td>\n",
       "      <td>5.88%</td>\n",
       "      <td>2.66</td>\n",
       "    </tr>\n",
       "    <tr>\n",
       "      <th>2</th>\n",
       "      <td>Akali</td>\n",
       "      <td>Assassin</td>\n",
       "      <td>MID</td>\n",
       "      <td>S</td>\n",
       "      <td>66.02</td>\n",
       "      <td>5.61</td>\n",
       "      <td>48.20%</td>\n",
       "      <td>69.28%</td>\n",
       "      <td>8.45%</td>\n",
       "      <td>12.11%</td>\n",
       "      <td>2.37</td>\n",
       "    </tr>\n",
       "    <tr>\n",
       "      <th>3</th>\n",
       "      <td>Akali</td>\n",
       "      <td>Assassin</td>\n",
       "      <td>TOP</td>\n",
       "      <td>B</td>\n",
       "      <td>46.97</td>\n",
       "      <td>5.99</td>\n",
       "      <td>47.26%</td>\n",
       "      <td>29.94%</td>\n",
       "      <td>3.44%</td>\n",
       "      <td>12.11%</td>\n",
       "      <td>2.05</td>\n",
       "    </tr>\n",
       "    <tr>\n",
       "      <th>4</th>\n",
       "      <td>Akshan</td>\n",
       "      <td>Marksman</td>\n",
       "      <td>MID</td>\n",
       "      <td>B</td>\n",
       "      <td>43.54</td>\n",
       "      <td>-5.53</td>\n",
       "      <td>48.29%</td>\n",
       "      <td>58.06%</td>\n",
       "      <td>2.72%</td>\n",
       "      <td>6.43%</td>\n",
       "      <td>2.17</td>\n",
       "    </tr>\n",
       "  </tbody>\n",
       "</table>\n",
       "</div>"
      ],
      "text/plain": [
       "     Name     Class Role Tier  Score  Trend   Win %  Role % Pick %   Ban %  \\\n",
       "0  Aatrox   Fighter  TOP  God  69.09   0.40  49.54%  92.37%  7.47%   5.81%   \n",
       "1    Ahri      Mage  MID  God  71.47  -1.62  51.08%  94.53%  8.58%   5.88%   \n",
       "2   Akali  Assassin  MID    S  66.02   5.61  48.20%  69.28%  8.45%  12.11%   \n",
       "3   Akali  Assassin  TOP    B  46.97   5.99  47.26%  29.94%  3.44%  12.11%   \n",
       "4  Akshan  Marksman  MID    B  43.54  -5.53  48.29%  58.06%  2.72%   6.43%   \n",
       "\n",
       "    KDA  \n",
       "0  1.95  \n",
       "1  2.66  \n",
       "2  2.37  \n",
       "3  2.05  \n",
       "4  2.17  "
      ]
     },
     "execution_count": 4,
     "metadata": {},
     "output_type": "execute_result"
    }
   ],
   "source": [
    "p13.head()\n"
   ]
  },
  {
   "cell_type": "code",
   "execution_count": 5,
   "metadata": {},
   "outputs": [
    {
     "data": {
      "text/html": [
       "<div>\n",
       "<style scoped>\n",
       "    .dataframe tbody tr th:only-of-type {\n",
       "        vertical-align: middle;\n",
       "    }\n",
       "\n",
       "    .dataframe tbody tr th {\n",
       "        vertical-align: top;\n",
       "    }\n",
       "\n",
       "    .dataframe thead th {\n",
       "        text-align: right;\n",
       "    }\n",
       "</style>\n",
       "<table border=\"1\" class=\"dataframe\">\n",
       "  <thead>\n",
       "    <tr style=\"text-align: right;\">\n",
       "      <th></th>\n",
       "      <th>Name</th>\n",
       "      <th>Class</th>\n",
       "      <th>Role</th>\n",
       "      <th>Tier</th>\n",
       "      <th>Score</th>\n",
       "      <th>Trend</th>\n",
       "      <th>Win %</th>\n",
       "      <th>Role %</th>\n",
       "      <th>Pick %</th>\n",
       "      <th>Ban %</th>\n",
       "      <th>KDA</th>\n",
       "    </tr>\n",
       "  </thead>\n",
       "  <tbody>\n",
       "    <tr>\n",
       "      <th>0</th>\n",
       "      <td>Aatrox</td>\n",
       "      <td>Fighter</td>\n",
       "      <td>TOP</td>\n",
       "      <td>God</td>\n",
       "      <td>89.50</td>\n",
       "      <td>0.31</td>\n",
       "      <td>50.10%</td>\n",
       "      <td>90.37%</td>\n",
       "      <td>9.85%</td>\n",
       "      <td>20.80%</td>\n",
       "      <td>1.90</td>\n",
       "    </tr>\n",
       "    <tr>\n",
       "      <th>1</th>\n",
       "      <td>Ahri</td>\n",
       "      <td>Mage</td>\n",
       "      <td>MID</td>\n",
       "      <td>A</td>\n",
       "      <td>52.62</td>\n",
       "      <td>-2.26</td>\n",
       "      <td>49.64%</td>\n",
       "      <td>91.71%</td>\n",
       "      <td>5.37%</td>\n",
       "      <td>2.28%</td>\n",
       "      <td>2.40</td>\n",
       "    </tr>\n",
       "    <tr>\n",
       "      <th>2</th>\n",
       "      <td>Akali</td>\n",
       "      <td>Assassin</td>\n",
       "      <td>MID</td>\n",
       "      <td>S</td>\n",
       "      <td>61.16</td>\n",
       "      <td>-4.15</td>\n",
       "      <td>48.46%</td>\n",
       "      <td>75.48%</td>\n",
       "      <td>9.39%</td>\n",
       "      <td>15.86%</td>\n",
       "      <td>2.30</td>\n",
       "    </tr>\n",
       "    <tr>\n",
       "      <th>3</th>\n",
       "      <td>Akali</td>\n",
       "      <td>Assassin</td>\n",
       "      <td>TOP</td>\n",
       "      <td>B</td>\n",
       "      <td>41.14</td>\n",
       "      <td>-1.83</td>\n",
       "      <td>45.46%</td>\n",
       "      <td>23.39%</td>\n",
       "      <td>2.95%</td>\n",
       "      <td>15.86%</td>\n",
       "      <td>1.98</td>\n",
       "    </tr>\n",
       "    <tr>\n",
       "      <th>4</th>\n",
       "      <td>Akshan</td>\n",
       "      <td>Marksman</td>\n",
       "      <td>MID</td>\n",
       "      <td>A</td>\n",
       "      <td>49.05</td>\n",
       "      <td>-0.97</td>\n",
       "      <td>51.55%</td>\n",
       "      <td>64.06%</td>\n",
       "      <td>2.49%</td>\n",
       "      <td>3.87%</td>\n",
       "      <td>2.18</td>\n",
       "    </tr>\n",
       "  </tbody>\n",
       "</table>\n",
       "</div>"
      ],
      "text/plain": [
       "     Name     Class Role Tier  Score  Trend   Win %  Role % Pick %   Ban %  \\\n",
       "0  Aatrox   Fighter  TOP  God  89.50   0.31  50.10%  90.37%  9.85%  20.80%   \n",
       "1    Ahri      Mage  MID    A  52.62  -2.26  49.64%  91.71%  5.37%   2.28%   \n",
       "2   Akali  Assassin  MID    S  61.16  -4.15  48.46%  75.48%  9.39%  15.86%   \n",
       "3   Akali  Assassin  TOP    B  41.14  -1.83  45.46%  23.39%  2.95%  15.86%   \n",
       "4  Akshan  Marksman  MID    A  49.05  -0.97  51.55%  64.06%  2.49%   3.87%   \n",
       "\n",
       "    KDA  \n",
       "0  1.90  \n",
       "1  2.40  \n",
       "2  2.30  \n",
       "3  1.98  \n",
       "4  2.18  "
      ]
     },
     "execution_count": 5,
     "metadata": {},
     "output_type": "execute_result"
    }
   ],
   "source": [
    "p23.head()"
   ]
  },
  {
   "attachments": {},
   "cell_type": "markdown",
   "metadata": {},
   "source": [
    "### Mostramos las dimensiones de cada uno para ver la variación producida.\n"
   ]
  },
  {
   "cell_type": "code",
   "execution_count": 6,
   "metadata": {},
   "outputs": [
    {
     "name": "stdout",
     "output_type": "stream",
     "text": [
      "(232, 11) \n",
      "\n",
      "(240, 11) \n",
      "\n",
      "(252, 11) \n",
      "\n"
     ]
    }
   ],
   "source": [
    "print(p1.shape, \"\\n\")\n",
    "print(p13.shape, \"\\n\")\n",
    "print(p23.shape, \"\\n\")"
   ]
  },
  {
   "attachments": {},
   "cell_type": "markdown",
   "metadata": {},
   "source": [
    "Como podemos observar, se han añadido filas a los parches, ya que se tratan de personajes nuevos, así como roles que se han ido incluyendo a personajes."
   ]
  },
  {
   "attachments": {},
   "cell_type": "markdown",
   "metadata": {},
   "source": [
    "## Vamos a convertir aquellas columnas que tienen porcentajes en numérico."
   ]
  },
  {
   "cell_type": "code",
   "execution_count": 7,
   "metadata": {},
   "outputs": [
    {
     "data": {
      "text/html": [
       "<div>\n",
       "<style scoped>\n",
       "    .dataframe tbody tr th:only-of-type {\n",
       "        vertical-align: middle;\n",
       "    }\n",
       "\n",
       "    .dataframe tbody tr th {\n",
       "        vertical-align: top;\n",
       "    }\n",
       "\n",
       "    .dataframe thead th {\n",
       "        text-align: right;\n",
       "    }\n",
       "</style>\n",
       "<table border=\"1\" class=\"dataframe\">\n",
       "  <thead>\n",
       "    <tr style=\"text-align: right;\">\n",
       "      <th></th>\n",
       "      <th>Name</th>\n",
       "      <th>Class</th>\n",
       "      <th>Role</th>\n",
       "      <th>Tier</th>\n",
       "      <th>Score</th>\n",
       "      <th>Trend</th>\n",
       "      <th>Win %</th>\n",
       "      <th>Role %</th>\n",
       "      <th>Pick %</th>\n",
       "      <th>Ban %</th>\n",
       "      <th>KDA</th>\n",
       "    </tr>\n",
       "  </thead>\n",
       "  <tbody>\n",
       "    <tr>\n",
       "      <th>0</th>\n",
       "      <td>Aatrox</td>\n",
       "      <td>Fighter</td>\n",
       "      <td>TOP</td>\n",
       "      <td>God</td>\n",
       "      <td>69.09</td>\n",
       "      <td>0.40</td>\n",
       "      <td>49.54</td>\n",
       "      <td>92.37</td>\n",
       "      <td>7.47</td>\n",
       "      <td>5.81</td>\n",
       "      <td>1.95</td>\n",
       "    </tr>\n",
       "    <tr>\n",
       "      <th>1</th>\n",
       "      <td>Ahri</td>\n",
       "      <td>Mage</td>\n",
       "      <td>MID</td>\n",
       "      <td>God</td>\n",
       "      <td>71.47</td>\n",
       "      <td>-1.62</td>\n",
       "      <td>51.08</td>\n",
       "      <td>94.53</td>\n",
       "      <td>8.58</td>\n",
       "      <td>5.88</td>\n",
       "      <td>2.66</td>\n",
       "    </tr>\n",
       "    <tr>\n",
       "      <th>2</th>\n",
       "      <td>Akali</td>\n",
       "      <td>Assassin</td>\n",
       "      <td>MID</td>\n",
       "      <td>S</td>\n",
       "      <td>66.02</td>\n",
       "      <td>5.61</td>\n",
       "      <td>48.20</td>\n",
       "      <td>69.28</td>\n",
       "      <td>8.45</td>\n",
       "      <td>12.11</td>\n",
       "      <td>2.37</td>\n",
       "    </tr>\n",
       "    <tr>\n",
       "      <th>3</th>\n",
       "      <td>Akali</td>\n",
       "      <td>Assassin</td>\n",
       "      <td>TOP</td>\n",
       "      <td>B</td>\n",
       "      <td>46.97</td>\n",
       "      <td>5.99</td>\n",
       "      <td>47.26</td>\n",
       "      <td>29.94</td>\n",
       "      <td>3.44</td>\n",
       "      <td>12.11</td>\n",
       "      <td>2.05</td>\n",
       "    </tr>\n",
       "    <tr>\n",
       "      <th>4</th>\n",
       "      <td>Akshan</td>\n",
       "      <td>Marksman</td>\n",
       "      <td>MID</td>\n",
       "      <td>B</td>\n",
       "      <td>43.54</td>\n",
       "      <td>-5.53</td>\n",
       "      <td>48.29</td>\n",
       "      <td>58.06</td>\n",
       "      <td>2.72</td>\n",
       "      <td>6.43</td>\n",
       "      <td>2.17</td>\n",
       "    </tr>\n",
       "    <tr>\n",
       "      <th>...</th>\n",
       "      <td>...</td>\n",
       "      <td>...</td>\n",
       "      <td>...</td>\n",
       "      <td>...</td>\n",
       "      <td>...</td>\n",
       "      <td>...</td>\n",
       "      <td>...</td>\n",
       "      <td>...</td>\n",
       "      <td>...</td>\n",
       "      <td>...</td>\n",
       "      <td>...</td>\n",
       "    </tr>\n",
       "    <tr>\n",
       "      <th>235</th>\n",
       "      <td>Ziggs</td>\n",
       "      <td>Mage</td>\n",
       "      <td>ADC</td>\n",
       "      <td>D</td>\n",
       "      <td>35.17</td>\n",
       "      <td>2.13</td>\n",
       "      <td>49.97</td>\n",
       "      <td>49.83</td>\n",
       "      <td>1.09</td>\n",
       "      <td>0.28</td>\n",
       "      <td>2.44</td>\n",
       "    </tr>\n",
       "    <tr>\n",
       "      <th>236</th>\n",
       "      <td>Zilean</td>\n",
       "      <td>Support</td>\n",
       "      <td>MID</td>\n",
       "      <td>A</td>\n",
       "      <td>53.68</td>\n",
       "      <td>0.57</td>\n",
       "      <td>53.22</td>\n",
       "      <td>18.17</td>\n",
       "      <td>0.81</td>\n",
       "      <td>2.17</td>\n",
       "      <td>3.47</td>\n",
       "    </tr>\n",
       "    <tr>\n",
       "      <th>237</th>\n",
       "      <td>Zilean</td>\n",
       "      <td>Support</td>\n",
       "      <td>SUPPORT</td>\n",
       "      <td>A</td>\n",
       "      <td>48.10</td>\n",
       "      <td>3.96</td>\n",
       "      <td>49.78</td>\n",
       "      <td>78.18</td>\n",
       "      <td>3.40</td>\n",
       "      <td>2.17</td>\n",
       "      <td>3.14</td>\n",
       "    </tr>\n",
       "    <tr>\n",
       "      <th>238</th>\n",
       "      <td>Zoe</td>\n",
       "      <td>Mage</td>\n",
       "      <td>MID</td>\n",
       "      <td>B</td>\n",
       "      <td>46.72</td>\n",
       "      <td>-0.80</td>\n",
       "      <td>47.93</td>\n",
       "      <td>91.35</td>\n",
       "      <td>3.61</td>\n",
       "      <td>1.69</td>\n",
       "      <td>2.44</td>\n",
       "    </tr>\n",
       "    <tr>\n",
       "      <th>239</th>\n",
       "      <td>Zyra</td>\n",
       "      <td>Mage</td>\n",
       "      <td>SUPPORT</td>\n",
       "      <td>B</td>\n",
       "      <td>47.33</td>\n",
       "      <td>-4.64</td>\n",
       "      <td>51.89</td>\n",
       "      <td>87.78</td>\n",
       "      <td>3.01</td>\n",
       "      <td>1.76</td>\n",
       "      <td>2.20</td>\n",
       "    </tr>\n",
       "  </tbody>\n",
       "</table>\n",
       "<p>240 rows × 11 columns</p>\n",
       "</div>"
      ],
      "text/plain": [
       "       Name     Class     Role Tier  Score  Trend  Win % Role % Pick %  Ban %  \\\n",
       "0    Aatrox   Fighter      TOP  God  69.09   0.40  49.54  92.37   7.47   5.81   \n",
       "1      Ahri      Mage      MID  God  71.47  -1.62  51.08  94.53   8.58   5.88   \n",
       "2     Akali  Assassin      MID    S  66.02   5.61  48.20  69.28   8.45  12.11   \n",
       "3     Akali  Assassin      TOP    B  46.97   5.99  47.26  29.94   3.44  12.11   \n",
       "4    Akshan  Marksman      MID    B  43.54  -5.53  48.29  58.06   2.72   6.43   \n",
       "..      ...       ...      ...  ...    ...    ...    ...    ...    ...    ...   \n",
       "235   Ziggs      Mage      ADC    D  35.17   2.13  49.97  49.83   1.09   0.28   \n",
       "236  Zilean   Support      MID    A  53.68   0.57  53.22  18.17   0.81   2.17   \n",
       "237  Zilean   Support  SUPPORT    A  48.10   3.96  49.78  78.18   3.40   2.17   \n",
       "238     Zoe      Mage      MID    B  46.72  -0.80  47.93  91.35   3.61   1.69   \n",
       "239    Zyra      Mage  SUPPORT    B  47.33  -4.64  51.89  87.78   3.01   1.76   \n",
       "\n",
       "      KDA  \n",
       "0    1.95  \n",
       "1    2.66  \n",
       "2    2.37  \n",
       "3    2.05  \n",
       "4    2.17  \n",
       "..    ...  \n",
       "235  2.44  \n",
       "236  3.47  \n",
       "237  3.14  \n",
       "238  2.44  \n",
       "239  2.20  \n",
       "\n",
       "[240 rows x 11 columns]"
      ]
     },
     "execution_count": 7,
     "metadata": {},
     "output_type": "execute_result"
    }
   ],
   "source": [
    "# Quitamos el símbolo de % \n",
    "\n",
    "for col in [\"Win %\", \"Role %\", \"Pick %\", \"Ban %\"]:\n",
    "    p1[col] = p1[col].str[:-1]\n",
    "    p13[col] = p13[col].str[:-1]\n",
    "    p23[col] = p23[col].str[:-1]\n",
    "\n",
    "p13"
   ]
  },
  {
   "cell_type": "code",
   "execution_count": 8,
   "metadata": {},
   "outputs": [
    {
     "data": {
      "text/plain": [
       "Name       object\n",
       "Class      object\n",
       "Role       object\n",
       "Tier       object\n",
       "Score     float64\n",
       "Trend     float64\n",
       "Win %      object\n",
       "Role %     object\n",
       "Pick %     object\n",
       "Ban %      object\n",
       "KDA       float64\n",
       "dtype: object"
      ]
     },
     "execution_count": 8,
     "metadata": {},
     "output_type": "execute_result"
    }
   ],
   "source": [
    "p13.dtypes"
   ]
  },
  {
   "cell_type": "code",
   "execution_count": 9,
   "metadata": {},
   "outputs": [],
   "source": [
    "# Convertimos a float\n",
    "\n",
    "cols = [\"Win %\", \"Role %\", \"Pick %\", \"Ban %\"]\n",
    "p1[cols] = p1[cols].apply(pd.to_numeric)\n",
    "p13[cols] = p13[cols].apply(pd.to_numeric)\n",
    "p23[cols] = p23[cols].apply(pd.to_numeric)"
   ]
  },
  {
   "cell_type": "code",
   "execution_count": 10,
   "metadata": {},
   "outputs": [
    {
     "data": {
      "text/plain": [
       "Name       object\n",
       "Class      object\n",
       "Role       object\n",
       "Tier       object\n",
       "Score     float64\n",
       "Trend     float64\n",
       "Win %     float64\n",
       "Role %    float64\n",
       "Pick %    float64\n",
       "Ban %     float64\n",
       "KDA       float64\n",
       "dtype: object"
      ]
     },
     "execution_count": 10,
     "metadata": {},
     "output_type": "execute_result"
    }
   ],
   "source": [
    "p13.dtypes"
   ]
  },
  {
   "attachments": {},
   "cell_type": "markdown",
   "metadata": {},
   "source": [
    "# A continuación mostraremos los valores que se encuentran en las columnas Class, Role y Tier.\n",
    "\n",
    "#### La columna Class va a ser siempre la misma, tal y como Role, aunque esta tiene la particularidad como veremos más adelante de que algún personaje puedo tener algún Role nuevo a lo largo de la temporada.\n",
    "\n",
    "#### En el caso de la columna Tier van a ser siempre las mismas etiquetas, solo que variarán de un parche a otro, ya que son aquellas que se establecen a los personajes en función de lo fuerte que sean en dichos parches. En este apartado no tocamos dicha columna, pero poco después sí.\n",
    "\n",
    "\n",
    "\n",
    "## Tras esto con gráficos, veremos cuales son las clases y roles que más aparecen en el parche 1 y veremos si varía en cuanto a roles con el parche 23. "
   ]
  },
  {
   "cell_type": "code",
   "execution_count": 11,
   "metadata": {},
   "outputs": [
    {
     "name": "stdout",
     "output_type": "stream",
     "text": [
      "Las clases de personajes que encontramos son: ['Fighter', 'Mage', 'Assassin', 'Marksman', 'Tank', 'Support'] \n",
      "\n",
      "Los roles de personajes que encontramos son: ['TOP', 'MID', 'SUPPORT', 'JUNGLE', 'ADC'] \n",
      "\n",
      "Las etiquetas que se ponen a los personajes dependiendo de su potencial en ese parche son: ['A', 'S', 'B', 'C', 'D', 'God']\n"
     ]
    }
   ],
   "source": [
    "Class=p1.Class.unique().tolist()\n",
    "Class.pop()    # Al tomar una clase como nula, hemos eliminado dicho valor.\n",
    "print(f\"Las clases de personajes que encontramos son: {Class}\", \"\\n\")\n",
    "\n",
    "Role=p1.Role.unique().tolist()\n",
    "print(f\"Los roles de personajes que encontramos son: {Role}\", \"\\n\")\n",
    "\n",
    "Tier=p1.Tier.unique().tolist()\n",
    "print(f\"Las etiquetas que se ponen a los personajes dependiendo de su potencial en ese parche son: {Tier}\")\n",
    "\n",
    "\n"
   ]
  },
  {
   "cell_type": "code",
   "execution_count": 12,
   "metadata": {},
   "outputs": [
    {
     "data": {
      "image/png": "[encoded data removed]",
      "text/plain": [
       "<Figure size 640x480 with 1 Axes>"
      ]
     },
     "metadata": {},
     "output_type": "display_data"
    }
   ],
   "source": [
    "# Las clases de los personajes no varían, pero a la hora de mostrar un gráfico sí, ya que se añaden nuevos campeones y pueden provocar cambios en los %.\n",
    "\n",
    "tamaño_Class = p1.groupby(\"Class\").size()\n",
    "labels = tamaño_Class.index.tolist()\n",
    "\n",
    "fig, ax = plt.subplots()\n",
    "ax.pie(tamaño_Class, labels=labels, autopct='%1.1f%%')\n",
    "ax.set_title(\"Distribución de cada clase\", y=1.08)\n",
    "\n",
    "plt.show()"
   ]
  },
  {
   "cell_type": "code",
   "execution_count": 13,
   "metadata": {},
   "outputs": [
    {
     "data": {
      "image/png": "[encoded data removed]",
      "text/plain": [
       "<Figure size 640x480 with 1 Axes>"
      ]
     },
     "metadata": {},
     "output_type": "display_data"
    }
   ],
   "source": [
    "# Ahora mostraremos los roles\n",
    "\n",
    "tamaño_Role = p1.groupby(\"Role\").size()\n",
    "labels = tamaño_Role.index.tolist()\n",
    "\n",
    "fig, ax = plt.subplots()\n",
    "ax.pie(tamaño_Role, labels=labels, autopct='%1.1f%%')\n",
    "ax.set_title(\"Distribución de cada rol\", y=1.08)\n",
    "\n",
    "plt.show()\n"
   ]
  },
  {
   "cell_type": "code",
   "execution_count": 14,
   "metadata": {},
   "outputs": [
    {
     "data": {
      "image/png": "[encoded data removed]",
      "text/plain": [
       "<Figure size 640x480 with 1 Axes>"
      ]
     },
     "metadata": {},
     "output_type": "display_data"
    }
   ],
   "source": [
    "# Para el parche 23\n",
    "\n",
    "tamaño_Role23 = p23.groupby(\"Role\").size()\n",
    "labels23 = tamaño_Role23.index.tolist()\n",
    "\n",
    "fig, ax = plt.subplots()\n",
    "ax.pie(tamaño_Role23, labels=labels23, autopct='%1.1f%%')\n",
    "ax.set_title(\"Distribución de cada rol p23\", y=1.08)\n",
    "\n",
    "plt.show()"
   ]
  },
  {
   "attachments": {},
   "cell_type": "markdown",
   "metadata": {},
   "source": [
    "### Claramente podemos mostrar ya un primer cambio que se produce desde el p1 al p23, donde los roles son aquellas posiciones que deben jugar los personajes, pero como podemos observar, durante una temporada pueden implementarse campeones a otras posiciones, y he aquí la demostración de que la variación es verídica."
   ]
  },
  {
   "attachments": {},
   "cell_type": "markdown",
   "metadata": {},
   "source": [
    "# En función de lo anterior, vamos a seguir mostrando más cambios producidos durante una season en League of Legends."
   ]
  },
  {
   "cell_type": "code",
   "execution_count": 15,
   "metadata": {},
   "outputs": [
    {
     "data": {
      "text/html": [
       "<div>\n",
       "<style scoped>\n",
       "    .dataframe tbody tr th:only-of-type {\n",
       "        vertical-align: middle;\n",
       "    }\n",
       "\n",
       "    .dataframe tbody tr th {\n",
       "        vertical-align: top;\n",
       "    }\n",
       "\n",
       "    .dataframe thead th {\n",
       "        text-align: right;\n",
       "    }\n",
       "</style>\n",
       "<table border=\"1\" class=\"dataframe\">\n",
       "  <thead>\n",
       "    <tr style=\"text-align: right;\">\n",
       "      <th></th>\n",
       "      <th>Name</th>\n",
       "      <th>Class</th>\n",
       "      <th>Role</th>\n",
       "      <th>Tier</th>\n",
       "      <th>Score</th>\n",
       "      <th>Trend</th>\n",
       "      <th>Win %</th>\n",
       "      <th>Role %</th>\n",
       "      <th>Pick %</th>\n",
       "      <th>Ban %</th>\n",
       "      <th>KDA</th>\n",
       "    </tr>\n",
       "  </thead>\n",
       "  <tbody>\n",
       "    <tr>\n",
       "      <th>0</th>\n",
       "      <td>Aatrox</td>\n",
       "      <td>Fighter</td>\n",
       "      <td>TOP</td>\n",
       "      <td>A</td>\n",
       "      <td>58.25</td>\n",
       "      <td>6.52</td>\n",
       "      <td>49.97</td>\n",
       "      <td>94.62</td>\n",
       "      <td>4.43</td>\n",
       "      <td>2.03</td>\n",
       "      <td>1.97</td>\n",
       "    </tr>\n",
       "    <tr>\n",
       "      <th>22</th>\n",
       "      <td>Camille</td>\n",
       "      <td>Fighter</td>\n",
       "      <td>TOP</td>\n",
       "      <td>God</td>\n",
       "      <td>84.61</td>\n",
       "      <td>9.60</td>\n",
       "      <td>50.20</td>\n",
       "      <td>96.80</td>\n",
       "      <td>7.17</td>\n",
       "      <td>7.54</td>\n",
       "      <td>1.99</td>\n",
       "    </tr>\n",
       "    <tr>\n",
       "      <th>28</th>\n",
       "      <td>Darius</td>\n",
       "      <td>Fighter</td>\n",
       "      <td>TOP</td>\n",
       "      <td>God</td>\n",
       "      <td>83.96</td>\n",
       "      <td>16.49</td>\n",
       "      <td>50.37</td>\n",
       "      <td>95.85</td>\n",
       "      <td>6.58</td>\n",
       "      <td>15.17</td>\n",
       "      <td>1.87</td>\n",
       "    </tr>\n",
       "    <tr>\n",
       "      <th>39</th>\n",
       "      <td>Fiora</td>\n",
       "      <td>Fighter</td>\n",
       "      <td>TOP</td>\n",
       "      <td>S</td>\n",
       "      <td>75.08</td>\n",
       "      <td>4.32</td>\n",
       "      <td>50.05</td>\n",
       "      <td>97.65</td>\n",
       "      <td>6.08</td>\n",
       "      <td>10.76</td>\n",
       "      <td>1.76</td>\n",
       "    </tr>\n",
       "    <tr>\n",
       "      <th>43</th>\n",
       "      <td>Gangplank</td>\n",
       "      <td>Fighter</td>\n",
       "      <td>TOP</td>\n",
       "      <td>S</td>\n",
       "      <td>65.59</td>\n",
       "      <td>14.31</td>\n",
       "      <td>47.66</td>\n",
       "      <td>87.34</td>\n",
       "      <td>5.92</td>\n",
       "      <td>4.44</td>\n",
       "      <td>1.99</td>\n",
       "    </tr>\n",
       "    <tr>\n",
       "      <th>45</th>\n",
       "      <td>Garen</td>\n",
       "      <td>Fighter</td>\n",
       "      <td>TOP</td>\n",
       "      <td>S</td>\n",
       "      <td>73.99</td>\n",
       "      <td>15.67</td>\n",
       "      <td>51.55</td>\n",
       "      <td>87.46</td>\n",
       "      <td>5.74</td>\n",
       "      <td>2.13</td>\n",
       "      <td>2.10</td>\n",
       "    </tr>\n",
       "    <tr>\n",
       "      <th>46</th>\n",
       "      <td>Gnar</td>\n",
       "      <td>Fighter</td>\n",
       "      <td>TOP</td>\n",
       "      <td>A</td>\n",
       "      <td>47.10</td>\n",
       "      <td>4.58</td>\n",
       "      <td>49.86</td>\n",
       "      <td>97.87</td>\n",
       "      <td>3.05</td>\n",
       "      <td>0.60</td>\n",
       "      <td>2.01</td>\n",
       "    </tr>\n",
       "    <tr>\n",
       "      <th>47</th>\n",
       "      <td>Gragas</td>\n",
       "      <td>Fighter</td>\n",
       "      <td>TOP</td>\n",
       "      <td>C</td>\n",
       "      <td>37.47</td>\n",
       "      <td>-2.35</td>\n",
       "      <td>48.75</td>\n",
       "      <td>39.67</td>\n",
       "      <td>1.96</td>\n",
       "      <td>0.32</td>\n",
       "      <td>2.24</td>\n",
       "    </tr>\n",
       "    <tr>\n",
       "      <th>52</th>\n",
       "      <td>Gwen</td>\n",
       "      <td>Fighter</td>\n",
       "      <td>TOP</td>\n",
       "      <td>A</td>\n",
       "      <td>54.66</td>\n",
       "      <td>13.03</td>\n",
       "      <td>49.82</td>\n",
       "      <td>82.83</td>\n",
       "      <td>4.23</td>\n",
       "      <td>2.43</td>\n",
       "      <td>1.73</td>\n",
       "    </tr>\n",
       "    <tr>\n",
       "      <th>59</th>\n",
       "      <td>Illaoi</td>\n",
       "      <td>Fighter</td>\n",
       "      <td>TOP</td>\n",
       "      <td>C</td>\n",
       "      <td>34.11</td>\n",
       "      <td>-3.45</td>\n",
       "      <td>49.16</td>\n",
       "      <td>92.36</td>\n",
       "      <td>2.07</td>\n",
       "      <td>2.53</td>\n",
       "      <td>1.49</td>\n",
       "    </tr>\n",
       "    <tr>\n",
       "      <th>60</th>\n",
       "      <td>Irelia</td>\n",
       "      <td>Fighter</td>\n",
       "      <td>TOP</td>\n",
       "      <td>God</td>\n",
       "      <td>81.35</td>\n",
       "      <td>-5.02</td>\n",
       "      <td>49.10</td>\n",
       "      <td>60.00</td>\n",
       "      <td>6.24</td>\n",
       "      <td>23.51</td>\n",
       "      <td>1.58</td>\n",
       "    </tr>\n",
       "    <tr>\n",
       "      <th>65</th>\n",
       "      <td>Jax</td>\n",
       "      <td>Fighter</td>\n",
       "      <td>TOP</td>\n",
       "      <td>God</td>\n",
       "      <td>82.16</td>\n",
       "      <td>3.63</td>\n",
       "      <td>50.68</td>\n",
       "      <td>85.79</td>\n",
       "      <td>6.84</td>\n",
       "      <td>10.98</td>\n",
       "      <td>1.63</td>\n",
       "    </tr>\n",
       "    <tr>\n",
       "      <th>67</th>\n",
       "      <td>Jayce</td>\n",
       "      <td>Fighter</td>\n",
       "      <td>TOP</td>\n",
       "      <td>S</td>\n",
       "      <td>73.56</td>\n",
       "      <td>-5.02</td>\n",
       "      <td>49.44</td>\n",
       "      <td>74.77</td>\n",
       "      <td>6.54</td>\n",
       "      <td>4.13</td>\n",
       "      <td>1.78</td>\n",
       "    </tr>\n",
       "    <tr>\n",
       "      <th>79</th>\n",
       "      <td>Kayle</td>\n",
       "      <td>Fighter</td>\n",
       "      <td>TOP</td>\n",
       "      <td>A</td>\n",
       "      <td>48.25</td>\n",
       "      <td>-5.26</td>\n",
       "      <td>50.71</td>\n",
       "      <td>72.51</td>\n",
       "      <td>3.11</td>\n",
       "      <td>1.19</td>\n",
       "      <td>1.80</td>\n",
       "    </tr>\n",
       "    <tr>\n",
       "      <th>87</th>\n",
       "      <td>Kled</td>\n",
       "      <td>Fighter</td>\n",
       "      <td>TOP</td>\n",
       "      <td>B</td>\n",
       "      <td>40.27</td>\n",
       "      <td>-4.86</td>\n",
       "      <td>50.36</td>\n",
       "      <td>88.47</td>\n",
       "      <td>1.69</td>\n",
       "      <td>0.78</td>\n",
       "      <td>2.32</td>\n",
       "    </tr>\n",
       "    <tr>\n",
       "      <th>107</th>\n",
       "      <td>Mordekaiser</td>\n",
       "      <td>Fighter</td>\n",
       "      <td>TOP</td>\n",
       "      <td>S</td>\n",
       "      <td>65.95</td>\n",
       "      <td>14.48</td>\n",
       "      <td>49.82</td>\n",
       "      <td>87.43</td>\n",
       "      <td>5.31</td>\n",
       "      <td>5.99</td>\n",
       "      <td>1.79</td>\n",
       "    </tr>\n",
       "    <tr>\n",
       "      <th>110</th>\n",
       "      <td>Nasus</td>\n",
       "      <td>Fighter</td>\n",
       "      <td>TOP</td>\n",
       "      <td>S</td>\n",
       "      <td>64.96</td>\n",
       "      <td>7.18</td>\n",
       "      <td>51.83</td>\n",
       "      <td>85.10</td>\n",
       "      <td>4.49</td>\n",
       "      <td>4.36</td>\n",
       "      <td>1.98</td>\n",
       "    </tr>\n",
       "    <tr>\n",
       "      <th>118</th>\n",
       "      <td>Olaf</td>\n",
       "      <td>Fighter</td>\n",
       "      <td>TOP</td>\n",
       "      <td>D</td>\n",
       "      <td>11.03</td>\n",
       "      <td>-6.16</td>\n",
       "      <td>45.46</td>\n",
       "      <td>15.64</td>\n",
       "      <td>0.27</td>\n",
       "      <td>0.92</td>\n",
       "      <td>1.63</td>\n",
       "    </tr>\n",
       "    <tr>\n",
       "      <th>123</th>\n",
       "      <td>Pantheon</td>\n",
       "      <td>Fighter</td>\n",
       "      <td>TOP</td>\n",
       "      <td>D</td>\n",
       "      <td>30.79</td>\n",
       "      <td>-10.85</td>\n",
       "      <td>49.68</td>\n",
       "      <td>26.73</td>\n",
       "      <td>0.93</td>\n",
       "      <td>0.89</td>\n",
       "      <td>2.10</td>\n",
       "    </tr>\n",
       "    <tr>\n",
       "      <th>134</th>\n",
       "      <td>Renekton</td>\n",
       "      <td>Fighter</td>\n",
       "      <td>TOP</td>\n",
       "      <td>A</td>\n",
       "      <td>50.60</td>\n",
       "      <td>6.84</td>\n",
       "      <td>48.17</td>\n",
       "      <td>86.48</td>\n",
       "      <td>4.10</td>\n",
       "      <td>2.05</td>\n",
       "      <td>1.91</td>\n",
       "    </tr>\n",
       "    <tr>\n",
       "      <th>138</th>\n",
       "      <td>Riven</td>\n",
       "      <td>Fighter</td>\n",
       "      <td>TOP</td>\n",
       "      <td>S</td>\n",
       "      <td>65.68</td>\n",
       "      <td>6.18</td>\n",
       "      <td>51.30</td>\n",
       "      <td>91.86</td>\n",
       "      <td>4.88</td>\n",
       "      <td>2.30</td>\n",
       "      <td>1.99</td>\n",
       "    </tr>\n",
       "    <tr>\n",
       "      <th>141</th>\n",
       "      <td>Rumble</td>\n",
       "      <td>Fighter</td>\n",
       "      <td>TOP</td>\n",
       "      <td>D</td>\n",
       "      <td>25.32</td>\n",
       "      <td>-2.02</td>\n",
       "      <td>47.57</td>\n",
       "      <td>46.60</td>\n",
       "      <td>1.01</td>\n",
       "      <td>0.26</td>\n",
       "      <td>2.02</td>\n",
       "    </tr>\n",
       "    <tr>\n",
       "      <th>152</th>\n",
       "      <td>Sett</td>\n",
       "      <td>Fighter</td>\n",
       "      <td>TOP</td>\n",
       "      <td>God</td>\n",
       "      <td>90.23</td>\n",
       "      <td>15.56</td>\n",
       "      <td>49.60</td>\n",
       "      <td>83.89</td>\n",
       "      <td>8.23</td>\n",
       "      <td>7.37</td>\n",
       "      <td>1.76</td>\n",
       "    </tr>\n",
       "    <tr>\n",
       "      <th>157</th>\n",
       "      <td>Shyvana</td>\n",
       "      <td>Fighter</td>\n",
       "      <td>TOP</td>\n",
       "      <td>D</td>\n",
       "      <td>23.83</td>\n",
       "      <td>-11.61</td>\n",
       "      <td>49.83</td>\n",
       "      <td>12.59</td>\n",
       "      <td>0.21</td>\n",
       "      <td>0.26</td>\n",
       "      <td>1.88</td>\n",
       "    </tr>\n",
       "    <tr>\n",
       "      <th>162</th>\n",
       "      <td>Skarner</td>\n",
       "      <td>Fighter</td>\n",
       "      <td>TOP</td>\n",
       "      <td>D</td>\n",
       "      <td>23.89</td>\n",
       "      <td>-6.83</td>\n",
       "      <td>48.90</td>\n",
       "      <td>22.21</td>\n",
       "      <td>0.18</td>\n",
       "      <td>0.16</td>\n",
       "      <td>2.22</td>\n",
       "    </tr>\n",
       "    <tr>\n",
       "      <th>183</th>\n",
       "      <td>Trundle</td>\n",
       "      <td>Fighter</td>\n",
       "      <td>TOP</td>\n",
       "      <td>B</td>\n",
       "      <td>44.04</td>\n",
       "      <td>3.38</td>\n",
       "      <td>52.78</td>\n",
       "      <td>31.17</td>\n",
       "      <td>1.84</td>\n",
       "      <td>2.60</td>\n",
       "      <td>1.83</td>\n",
       "    </tr>\n",
       "    <tr>\n",
       "      <th>184</th>\n",
       "      <td>Tryndamere</td>\n",
       "      <td>Fighter</td>\n",
       "      <td>TOP</td>\n",
       "      <td>God</td>\n",
       "      <td>76.60</td>\n",
       "      <td>11.36</td>\n",
       "      <td>51.00</td>\n",
       "      <td>82.71</td>\n",
       "      <td>5.76</td>\n",
       "      <td>12.72</td>\n",
       "      <td>1.89</td>\n",
       "    </tr>\n",
       "    <tr>\n",
       "      <th>189</th>\n",
       "      <td>Urgot</td>\n",
       "      <td>Fighter</td>\n",
       "      <td>TOP</td>\n",
       "      <td>S</td>\n",
       "      <td>63.91</td>\n",
       "      <td>13.10</td>\n",
       "      <td>53.01</td>\n",
       "      <td>96.14</td>\n",
       "      <td>4.10</td>\n",
       "      <td>2.01</td>\n",
       "      <td>2.00</td>\n",
       "    </tr>\n",
       "    <tr>\n",
       "      <th>207</th>\n",
       "      <td>Volibear</td>\n",
       "      <td>Fighter</td>\n",
       "      <td>TOP</td>\n",
       "      <td>D</td>\n",
       "      <td>32.21</td>\n",
       "      <td>-8.58</td>\n",
       "      <td>46.11</td>\n",
       "      <td>56.03</td>\n",
       "      <td>2.58</td>\n",
       "      <td>1.48</td>\n",
       "      <td>1.79</td>\n",
       "    </tr>\n",
       "    <tr>\n",
       "      <th>209</th>\n",
       "      <td>Warwick</td>\n",
       "      <td>Fighter</td>\n",
       "      <td>TOP</td>\n",
       "      <td>D</td>\n",
       "      <td>31.35</td>\n",
       "      <td>-7.37</td>\n",
       "      <td>49.36</td>\n",
       "      <td>24.85</td>\n",
       "      <td>1.20</td>\n",
       "      <td>5.60</td>\n",
       "      <td>1.94</td>\n",
       "    </tr>\n",
       "    <tr>\n",
       "      <th>210</th>\n",
       "      <td>Wukong</td>\n",
       "      <td>Fighter</td>\n",
       "      <td>TOP</td>\n",
       "      <td>B</td>\n",
       "      <td>43.24</td>\n",
       "      <td>-1.75</td>\n",
       "      <td>50.56</td>\n",
       "      <td>78.66</td>\n",
       "      <td>2.22</td>\n",
       "      <td>0.61</td>\n",
       "      <td>2.12</td>\n",
       "    </tr>\n",
       "    <tr>\n",
       "      <th>217</th>\n",
       "      <td>Yasuo</td>\n",
       "      <td>Fighter</td>\n",
       "      <td>TOP</td>\n",
       "      <td>B</td>\n",
       "      <td>39.96</td>\n",
       "      <td>-14.89</td>\n",
       "      <td>47.77</td>\n",
       "      <td>16.35</td>\n",
       "      <td>2.53</td>\n",
       "      <td>24.41</td>\n",
       "      <td>1.45</td>\n",
       "    </tr>\n",
       "    <tr>\n",
       "      <th>221</th>\n",
       "      <td>Yorick</td>\n",
       "      <td>Fighter</td>\n",
       "      <td>TOP</td>\n",
       "      <td>B</td>\n",
       "      <td>46.07</td>\n",
       "      <td>-0.42</td>\n",
       "      <td>51.30</td>\n",
       "      <td>96.77</td>\n",
       "      <td>2.74</td>\n",
       "      <td>2.26</td>\n",
       "      <td>1.65</td>\n",
       "    </tr>\n",
       "  </tbody>\n",
       "</table>\n",
       "</div>"
      ],
      "text/plain": [
       "            Name    Class Role Tier  Score  Trend  Win %  Role %  Pick %  \\\n",
       "0         Aatrox  Fighter  TOP    A  58.25   6.52  49.97   94.62    4.43   \n",
       "22       Camille  Fighter  TOP  God  84.61   9.60  50.20   96.80    7.17   \n",
       "28        Darius  Fighter  TOP  God  83.96  16.49  50.37   95.85    6.58   \n",
       "39         Fiora  Fighter  TOP    S  75.08   4.32  50.05   97.65    6.08   \n",
       "43     Gangplank  Fighter  TOP    S  65.59  14.31  47.66   87.34    5.92   \n",
       "45         Garen  Fighter  TOP    S  73.99  15.67  51.55   87.46    5.74   \n",
       "46          Gnar  Fighter  TOP    A  47.10   4.58  49.86   97.87    3.05   \n",
       "47        Gragas  Fighter  TOP    C  37.47  -2.35  48.75   39.67    1.96   \n",
       "52          Gwen  Fighter  TOP    A  54.66  13.03  49.82   82.83    4.23   \n",
       "59        Illaoi  Fighter  TOP    C  34.11  -3.45  49.16   92.36    2.07   \n",
       "60        Irelia  Fighter  TOP  God  81.35  -5.02  49.10   60.00    6.24   \n",
       "65           Jax  Fighter  TOP  God  82.16   3.63  50.68   85.79    6.84   \n",
       "67         Jayce  Fighter  TOP    S  73.56  -5.02  49.44   74.77    6.54   \n",
       "79         Kayle  Fighter  TOP    A  48.25  -5.26  50.71   72.51    3.11   \n",
       "87          Kled  Fighter  TOP    B  40.27  -4.86  50.36   88.47    1.69   \n",
       "107  Mordekaiser  Fighter  TOP    S  65.95  14.48  49.82   87.43    5.31   \n",
       "110        Nasus  Fighter  TOP    S  64.96   7.18  51.83   85.10    4.49   \n",
       "118         Olaf  Fighter  TOP    D  11.03  -6.16  45.46   15.64    0.27   \n",
       "123     Pantheon  Fighter  TOP    D  30.79 -10.85  49.68   26.73    0.93   \n",
       "134     Renekton  Fighter  TOP    A  50.60   6.84  48.17   86.48    4.10   \n",
       "138        Riven  Fighter  TOP    S  65.68   6.18  51.30   91.86    4.88   \n",
       "141       Rumble  Fighter  TOP    D  25.32  -2.02  47.57   46.60    1.01   \n",
       "152         Sett  Fighter  TOP  God  90.23  15.56  49.60   83.89    8.23   \n",
       "157      Shyvana  Fighter  TOP    D  23.83 -11.61  49.83   12.59    0.21   \n",
       "162      Skarner  Fighter  TOP    D  23.89  -6.83  48.90   22.21    0.18   \n",
       "183      Trundle  Fighter  TOP    B  44.04   3.38  52.78   31.17    1.84   \n",
       "184   Tryndamere  Fighter  TOP  God  76.60  11.36  51.00   82.71    5.76   \n",
       "189        Urgot  Fighter  TOP    S  63.91  13.10  53.01   96.14    4.10   \n",
       "207     Volibear  Fighter  TOP    D  32.21  -8.58  46.11   56.03    2.58   \n",
       "209      Warwick  Fighter  TOP    D  31.35  -7.37  49.36   24.85    1.20   \n",
       "210       Wukong  Fighter  TOP    B  43.24  -1.75  50.56   78.66    2.22   \n",
       "217        Yasuo  Fighter  TOP    B  39.96 -14.89  47.77   16.35    2.53   \n",
       "221       Yorick  Fighter  TOP    B  46.07  -0.42  51.30   96.77    2.74   \n",
       "\n",
       "     Ban %   KDA  \n",
       "0     2.03  1.97  \n",
       "22    7.54  1.99  \n",
       "28   15.17  1.87  \n",
       "39   10.76  1.76  \n",
       "43    4.44  1.99  \n",
       "45    2.13  2.10  \n",
       "46    0.60  2.01  \n",
       "47    0.32  2.24  \n",
       "52    2.43  1.73  \n",
       "59    2.53  1.49  \n",
       "60   23.51  1.58  \n",
       "65   10.98  1.63  \n",
       "67    4.13  1.78  \n",
       "79    1.19  1.80  \n",
       "87    0.78  2.32  \n",
       "107   5.99  1.79  \n",
       "110   4.36  1.98  \n",
       "118   0.92  1.63  \n",
       "123   0.89  2.10  \n",
       "134   2.05  1.91  \n",
       "138   2.30  1.99  \n",
       "141   0.26  2.02  \n",
       "152   7.37  1.76  \n",
       "157   0.26  1.88  \n",
       "162   0.16  2.22  \n",
       "183   2.60  1.83  \n",
       "184  12.72  1.89  \n",
       "189   2.01  2.00  \n",
       "207   1.48  1.79  \n",
       "209   5.60  1.94  \n",
       "210   0.61  2.12  \n",
       "217  24.41  1.45  \n",
       "221   2.26  1.65  "
      ]
     },
     "execution_count": 15,
     "metadata": {},
     "output_type": "execute_result"
    }
   ],
   "source": [
    "# Vemos aquellos personajes que cumplen con ambas condiciones de class y role del parche 1.\n",
    "\n",
    "\n",
    "fighter_top= p1[(p1[\"Class\"] == \"Fighter\") & (p1[\"Role\"] == \"TOP\")]\n",
    "fighter_top\n"
   ]
  },
  {
   "attachments": {},
   "cell_type": "markdown",
   "metadata": {},
   "source": [
    "## Una vez conseguido esta tabla, vamos a mostrar el por qué hay personajes con menos de un 60 % de ROLE %"
   ]
  },
  {
   "cell_type": "code",
   "execution_count": 16,
   "metadata": {},
   "outputs": [
    {
     "data": {
      "text/html": [
       "<div>\n",
       "<style scoped>\n",
       "    .dataframe tbody tr th:only-of-type {\n",
       "        vertical-align: middle;\n",
       "    }\n",
       "\n",
       "    .dataframe tbody tr th {\n",
       "        vertical-align: top;\n",
       "    }\n",
       "\n",
       "    .dataframe thead th {\n",
       "        text-align: right;\n",
       "    }\n",
       "</style>\n",
       "<table border=\"1\" class=\"dataframe\">\n",
       "  <thead>\n",
       "    <tr style=\"text-align: right;\">\n",
       "      <th></th>\n",
       "      <th>Name</th>\n",
       "      <th>Class</th>\n",
       "      <th>Role</th>\n",
       "      <th>Tier</th>\n",
       "      <th>Score</th>\n",
       "      <th>Trend</th>\n",
       "      <th>Win %</th>\n",
       "      <th>Role %</th>\n",
       "      <th>Pick %</th>\n",
       "      <th>Ban %</th>\n",
       "      <th>KDA</th>\n",
       "    </tr>\n",
       "  </thead>\n",
       "  <tbody>\n",
       "    <tr>\n",
       "      <th>47</th>\n",
       "      <td>Gragas</td>\n",
       "      <td>Fighter</td>\n",
       "      <td>TOP</td>\n",
       "      <td>C</td>\n",
       "      <td>37.47</td>\n",
       "      <td>-2.35</td>\n",
       "      <td>48.75</td>\n",
       "      <td>39.67</td>\n",
       "      <td>1.96</td>\n",
       "      <td>0.32</td>\n",
       "      <td>2.24</td>\n",
       "    </tr>\n",
       "    <tr>\n",
       "      <th>60</th>\n",
       "      <td>Irelia</td>\n",
       "      <td>Fighter</td>\n",
       "      <td>TOP</td>\n",
       "      <td>God</td>\n",
       "      <td>81.35</td>\n",
       "      <td>-5.02</td>\n",
       "      <td>49.10</td>\n",
       "      <td>60.00</td>\n",
       "      <td>6.24</td>\n",
       "      <td>23.51</td>\n",
       "      <td>1.58</td>\n",
       "    </tr>\n",
       "    <tr>\n",
       "      <th>118</th>\n",
       "      <td>Olaf</td>\n",
       "      <td>Fighter</td>\n",
       "      <td>TOP</td>\n",
       "      <td>D</td>\n",
       "      <td>11.03</td>\n",
       "      <td>-6.16</td>\n",
       "      <td>45.46</td>\n",
       "      <td>15.64</td>\n",
       "      <td>0.27</td>\n",
       "      <td>0.92</td>\n",
       "      <td>1.63</td>\n",
       "    </tr>\n",
       "    <tr>\n",
       "      <th>123</th>\n",
       "      <td>Pantheon</td>\n",
       "      <td>Fighter</td>\n",
       "      <td>TOP</td>\n",
       "      <td>D</td>\n",
       "      <td>30.79</td>\n",
       "      <td>-10.85</td>\n",
       "      <td>49.68</td>\n",
       "      <td>26.73</td>\n",
       "      <td>0.93</td>\n",
       "      <td>0.89</td>\n",
       "      <td>2.10</td>\n",
       "    </tr>\n",
       "    <tr>\n",
       "      <th>141</th>\n",
       "      <td>Rumble</td>\n",
       "      <td>Fighter</td>\n",
       "      <td>TOP</td>\n",
       "      <td>D</td>\n",
       "      <td>25.32</td>\n",
       "      <td>-2.02</td>\n",
       "      <td>47.57</td>\n",
       "      <td>46.60</td>\n",
       "      <td>1.01</td>\n",
       "      <td>0.26</td>\n",
       "      <td>2.02</td>\n",
       "    </tr>\n",
       "    <tr>\n",
       "      <th>157</th>\n",
       "      <td>Shyvana</td>\n",
       "      <td>Fighter</td>\n",
       "      <td>TOP</td>\n",
       "      <td>D</td>\n",
       "      <td>23.83</td>\n",
       "      <td>-11.61</td>\n",
       "      <td>49.83</td>\n",
       "      <td>12.59</td>\n",
       "      <td>0.21</td>\n",
       "      <td>0.26</td>\n",
       "      <td>1.88</td>\n",
       "    </tr>\n",
       "    <tr>\n",
       "      <th>162</th>\n",
       "      <td>Skarner</td>\n",
       "      <td>Fighter</td>\n",
       "      <td>TOP</td>\n",
       "      <td>D</td>\n",
       "      <td>23.89</td>\n",
       "      <td>-6.83</td>\n",
       "      <td>48.90</td>\n",
       "      <td>22.21</td>\n",
       "      <td>0.18</td>\n",
       "      <td>0.16</td>\n",
       "      <td>2.22</td>\n",
       "    </tr>\n",
       "    <tr>\n",
       "      <th>183</th>\n",
       "      <td>Trundle</td>\n",
       "      <td>Fighter</td>\n",
       "      <td>TOP</td>\n",
       "      <td>B</td>\n",
       "      <td>44.04</td>\n",
       "      <td>3.38</td>\n",
       "      <td>52.78</td>\n",
       "      <td>31.17</td>\n",
       "      <td>1.84</td>\n",
       "      <td>2.60</td>\n",
       "      <td>1.83</td>\n",
       "    </tr>\n",
       "    <tr>\n",
       "      <th>207</th>\n",
       "      <td>Volibear</td>\n",
       "      <td>Fighter</td>\n",
       "      <td>TOP</td>\n",
       "      <td>D</td>\n",
       "      <td>32.21</td>\n",
       "      <td>-8.58</td>\n",
       "      <td>46.11</td>\n",
       "      <td>56.03</td>\n",
       "      <td>2.58</td>\n",
       "      <td>1.48</td>\n",
       "      <td>1.79</td>\n",
       "    </tr>\n",
       "    <tr>\n",
       "      <th>209</th>\n",
       "      <td>Warwick</td>\n",
       "      <td>Fighter</td>\n",
       "      <td>TOP</td>\n",
       "      <td>D</td>\n",
       "      <td>31.35</td>\n",
       "      <td>-7.37</td>\n",
       "      <td>49.36</td>\n",
       "      <td>24.85</td>\n",
       "      <td>1.20</td>\n",
       "      <td>5.60</td>\n",
       "      <td>1.94</td>\n",
       "    </tr>\n",
       "    <tr>\n",
       "      <th>217</th>\n",
       "      <td>Yasuo</td>\n",
       "      <td>Fighter</td>\n",
       "      <td>TOP</td>\n",
       "      <td>B</td>\n",
       "      <td>39.96</td>\n",
       "      <td>-14.89</td>\n",
       "      <td>47.77</td>\n",
       "      <td>16.35</td>\n",
       "      <td>2.53</td>\n",
       "      <td>24.41</td>\n",
       "      <td>1.45</td>\n",
       "    </tr>\n",
       "  </tbody>\n",
       "</table>\n",
       "</div>"
      ],
      "text/plain": [
       "         Name    Class Role Tier  Score  Trend  Win %  Role %  Pick %  Ban %  \\\n",
       "47     Gragas  Fighter  TOP    C  37.47  -2.35  48.75   39.67    1.96   0.32   \n",
       "60     Irelia  Fighter  TOP  God  81.35  -5.02  49.10   60.00    6.24  23.51   \n",
       "118      Olaf  Fighter  TOP    D  11.03  -6.16  45.46   15.64    0.27   0.92   \n",
       "123  Pantheon  Fighter  TOP    D  30.79 -10.85  49.68   26.73    0.93   0.89   \n",
       "141    Rumble  Fighter  TOP    D  25.32  -2.02  47.57   46.60    1.01   0.26   \n",
       "157   Shyvana  Fighter  TOP    D  23.83 -11.61  49.83   12.59    0.21   0.26   \n",
       "162   Skarner  Fighter  TOP    D  23.89  -6.83  48.90   22.21    0.18   0.16   \n",
       "183   Trundle  Fighter  TOP    B  44.04   3.38  52.78   31.17    1.84   2.60   \n",
       "207  Volibear  Fighter  TOP    D  32.21  -8.58  46.11   56.03    2.58   1.48   \n",
       "209   Warwick  Fighter  TOP    D  31.35  -7.37  49.36   24.85    1.20   5.60   \n",
       "217     Yasuo  Fighter  TOP    B  39.96 -14.89  47.77   16.35    2.53  24.41   \n",
       "\n",
       "      KDA  \n",
       "47   2.24  \n",
       "60   1.58  \n",
       "118  1.63  \n",
       "123  2.10  \n",
       "141  2.02  \n",
       "157  1.88  \n",
       "162  2.22  \n",
       "183  1.83  \n",
       "207  1.79  \n",
       "209  1.94  \n",
       "217  1.45  "
      ]
     },
     "execution_count": 16,
     "metadata": {},
     "output_type": "execute_result"
    }
   ],
   "source": [
    "# Filtramos con una mascara de booleanos para sacar los valores menores a 60\n",
    "\n",
    "fighter_top_menos60=fighter_top.loc[fighter_top[\"Role %\"] <= 60]\n",
    "fighter_top_menos60"
   ]
  },
  {
   "cell_type": "code",
   "execution_count": 17,
   "metadata": {},
   "outputs": [
    {
     "data": {
      "text/html": [
       "<div>\n",
       "<style scoped>\n",
       "    .dataframe tbody tr th:only-of-type {\n",
       "        vertical-align: middle;\n",
       "    }\n",
       "\n",
       "    .dataframe tbody tr th {\n",
       "        vertical-align: top;\n",
       "    }\n",
       "\n",
       "    .dataframe thead th {\n",
       "        text-align: right;\n",
       "    }\n",
       "</style>\n",
       "<table border=\"1\" class=\"dataframe\">\n",
       "  <thead>\n",
       "    <tr style=\"text-align: right;\">\n",
       "      <th></th>\n",
       "      <th>Name</th>\n",
       "      <th>Class</th>\n",
       "      <th>Role</th>\n",
       "      <th>Tier</th>\n",
       "      <th>Score</th>\n",
       "      <th>Trend</th>\n",
       "      <th>Win %</th>\n",
       "      <th>Role %</th>\n",
       "      <th>Pick %</th>\n",
       "      <th>Ban %</th>\n",
       "      <th>KDA</th>\n",
       "    </tr>\n",
       "  </thead>\n",
       "  <tbody>\n",
       "    <tr>\n",
       "      <th>47</th>\n",
       "      <td>Gragas</td>\n",
       "      <td>Fighter</td>\n",
       "      <td>TOP</td>\n",
       "      <td>C</td>\n",
       "      <td>37.47</td>\n",
       "      <td>-2.35</td>\n",
       "      <td>48.75</td>\n",
       "      <td>39.67</td>\n",
       "      <td>1.96</td>\n",
       "      <td>0.32</td>\n",
       "      <td>2.24</td>\n",
       "    </tr>\n",
       "    <tr>\n",
       "      <th>48</th>\n",
       "      <td>Gragas</td>\n",
       "      <td>Fighter</td>\n",
       "      <td>JUNGLE</td>\n",
       "      <td>C</td>\n",
       "      <td>36.10</td>\n",
       "      <td>-7.55</td>\n",
       "      <td>48.00</td>\n",
       "      <td>40.60</td>\n",
       "      <td>1.64</td>\n",
       "      <td>0.32</td>\n",
       "      <td>2.70</td>\n",
       "    </tr>\n",
       "    <tr>\n",
       "      <th>49</th>\n",
       "      <td>Gragas</td>\n",
       "      <td>Fighter</td>\n",
       "      <td>SUPPORT</td>\n",
       "      <td>D</td>\n",
       "      <td>32.15</td>\n",
       "      <td>-2.55</td>\n",
       "      <td>47.64</td>\n",
       "      <td>11.54</td>\n",
       "      <td>0.49</td>\n",
       "      <td>0.32</td>\n",
       "      <td>2.25</td>\n",
       "    </tr>\n",
       "    <tr>\n",
       "      <th>60</th>\n",
       "      <td>Irelia</td>\n",
       "      <td>Fighter</td>\n",
       "      <td>TOP</td>\n",
       "      <td>God</td>\n",
       "      <td>81.35</td>\n",
       "      <td>-5.02</td>\n",
       "      <td>49.10</td>\n",
       "      <td>60.00</td>\n",
       "      <td>6.24</td>\n",
       "      <td>23.51</td>\n",
       "      <td>1.58</td>\n",
       "    </tr>\n",
       "    <tr>\n",
       "      <th>61</th>\n",
       "      <td>Irelia</td>\n",
       "      <td>Fighter</td>\n",
       "      <td>MID</td>\n",
       "      <td>A</td>\n",
       "      <td>48.07</td>\n",
       "      <td>-1.08</td>\n",
       "      <td>48.24</td>\n",
       "      <td>39.17</td>\n",
       "      <td>4.10</td>\n",
       "      <td>23.51</td>\n",
       "      <td>1.75</td>\n",
       "    </tr>\n",
       "    <tr>\n",
       "      <th>117</th>\n",
       "      <td>Olaf</td>\n",
       "      <td>Fighter</td>\n",
       "      <td>JUNGLE</td>\n",
       "      <td>C</td>\n",
       "      <td>36.61</td>\n",
       "      <td>5.55</td>\n",
       "      <td>49.07</td>\n",
       "      <td>84.79</td>\n",
       "      <td>1.48</td>\n",
       "      <td>0.85</td>\n",
       "      <td>2.45</td>\n",
       "    </tr>\n",
       "    <tr>\n",
       "      <th>118</th>\n",
       "      <td>Olaf</td>\n",
       "      <td>Fighter</td>\n",
       "      <td>TOP</td>\n",
       "      <td>D</td>\n",
       "      <td>11.03</td>\n",
       "      <td>-6.16</td>\n",
       "      <td>45.46</td>\n",
       "      <td>15.64</td>\n",
       "      <td>0.27</td>\n",
       "      <td>0.92</td>\n",
       "      <td>1.63</td>\n",
       "    </tr>\n",
       "    <tr>\n",
       "      <th>121</th>\n",
       "      <td>Pantheon</td>\n",
       "      <td>Fighter</td>\n",
       "      <td>MID</td>\n",
       "      <td>B</td>\n",
       "      <td>41.54</td>\n",
       "      <td>-2.49</td>\n",
       "      <td>50.80</td>\n",
       "      <td>27.31</td>\n",
       "      <td>1.16</td>\n",
       "      <td>0.89</td>\n",
       "      <td>2.25</td>\n",
       "    </tr>\n",
       "    <tr>\n",
       "      <th>122</th>\n",
       "      <td>Pantheon</td>\n",
       "      <td>Fighter</td>\n",
       "      <td>SUPPORT</td>\n",
       "      <td>D</td>\n",
       "      <td>32.78</td>\n",
       "      <td>-2.48</td>\n",
       "      <td>47.00</td>\n",
       "      <td>39.76</td>\n",
       "      <td>1.78</td>\n",
       "      <td>0.89</td>\n",
       "      <td>1.89</td>\n",
       "    </tr>\n",
       "    <tr>\n",
       "      <th>123</th>\n",
       "      <td>Pantheon</td>\n",
       "      <td>Fighter</td>\n",
       "      <td>TOP</td>\n",
       "      <td>D</td>\n",
       "      <td>30.79</td>\n",
       "      <td>-10.85</td>\n",
       "      <td>49.68</td>\n",
       "      <td>26.73</td>\n",
       "      <td>0.93</td>\n",
       "      <td>0.89</td>\n",
       "      <td>2.10</td>\n",
       "    </tr>\n",
       "    <tr>\n",
       "      <th>139</th>\n",
       "      <td>Rumble</td>\n",
       "      <td>Fighter</td>\n",
       "      <td>MID</td>\n",
       "      <td>B</td>\n",
       "      <td>45.65</td>\n",
       "      <td>1.36</td>\n",
       "      <td>52.28</td>\n",
       "      <td>37.76</td>\n",
       "      <td>0.95</td>\n",
       "      <td>0.26</td>\n",
       "      <td>2.64</td>\n",
       "    </tr>\n",
       "    <tr>\n",
       "      <th>140</th>\n",
       "      <td>Rumble</td>\n",
       "      <td>Fighter</td>\n",
       "      <td>JUNGLE</td>\n",
       "      <td>C</td>\n",
       "      <td>36.12</td>\n",
       "      <td>1.29</td>\n",
       "      <td>49.65</td>\n",
       "      <td>13.54</td>\n",
       "      <td>0.31</td>\n",
       "      <td>0.26</td>\n",
       "      <td>2.82</td>\n",
       "    </tr>\n",
       "    <tr>\n",
       "      <th>141</th>\n",
       "      <td>Rumble</td>\n",
       "      <td>Fighter</td>\n",
       "      <td>TOP</td>\n",
       "      <td>D</td>\n",
       "      <td>25.32</td>\n",
       "      <td>-2.02</td>\n",
       "      <td>47.57</td>\n",
       "      <td>46.60</td>\n",
       "      <td>1.01</td>\n",
       "      <td>0.26</td>\n",
       "      <td>2.02</td>\n",
       "    </tr>\n",
       "    <tr>\n",
       "      <th>156</th>\n",
       "      <td>Shyvana</td>\n",
       "      <td>Fighter</td>\n",
       "      <td>JUNGLE</td>\n",
       "      <td>C</td>\n",
       "      <td>35.87</td>\n",
       "      <td>-5.10</td>\n",
       "      <td>48.72</td>\n",
       "      <td>82.59</td>\n",
       "      <td>1.49</td>\n",
       "      <td>0.25</td>\n",
       "      <td>2.45</td>\n",
       "    </tr>\n",
       "    <tr>\n",
       "      <th>157</th>\n",
       "      <td>Shyvana</td>\n",
       "      <td>Fighter</td>\n",
       "      <td>TOP</td>\n",
       "      <td>D</td>\n",
       "      <td>23.83</td>\n",
       "      <td>-11.61</td>\n",
       "      <td>49.83</td>\n",
       "      <td>12.59</td>\n",
       "      <td>0.21</td>\n",
       "      <td>0.26</td>\n",
       "      <td>1.88</td>\n",
       "    </tr>\n",
       "    <tr>\n",
       "      <th>161</th>\n",
       "      <td>Skarner</td>\n",
       "      <td>Fighter</td>\n",
       "      <td>JUNGLE</td>\n",
       "      <td>C</td>\n",
       "      <td>33.16</td>\n",
       "      <td>-7.62</td>\n",
       "      <td>47.83</td>\n",
       "      <td>76.00</td>\n",
       "      <td>0.74</td>\n",
       "      <td>0.16</td>\n",
       "      <td>2.76</td>\n",
       "    </tr>\n",
       "    <tr>\n",
       "      <th>162</th>\n",
       "      <td>Skarner</td>\n",
       "      <td>Fighter</td>\n",
       "      <td>TOP</td>\n",
       "      <td>D</td>\n",
       "      <td>23.89</td>\n",
       "      <td>-6.83</td>\n",
       "      <td>48.90</td>\n",
       "      <td>22.21</td>\n",
       "      <td>0.18</td>\n",
       "      <td>0.16</td>\n",
       "      <td>2.22</td>\n",
       "    </tr>\n",
       "    <tr>\n",
       "      <th>182</th>\n",
       "      <td>Trundle</td>\n",
       "      <td>Fighter</td>\n",
       "      <td>JUNGLE</td>\n",
       "      <td>A</td>\n",
       "      <td>55.13</td>\n",
       "      <td>1.44</td>\n",
       "      <td>52.85</td>\n",
       "      <td>62.99</td>\n",
       "      <td>3.86</td>\n",
       "      <td>2.60</td>\n",
       "      <td>2.84</td>\n",
       "    </tr>\n",
       "    <tr>\n",
       "      <th>183</th>\n",
       "      <td>Trundle</td>\n",
       "      <td>Fighter</td>\n",
       "      <td>TOP</td>\n",
       "      <td>B</td>\n",
       "      <td>44.04</td>\n",
       "      <td>3.38</td>\n",
       "      <td>52.78</td>\n",
       "      <td>31.17</td>\n",
       "      <td>1.84</td>\n",
       "      <td>2.60</td>\n",
       "      <td>1.83</td>\n",
       "    </tr>\n",
       "    <tr>\n",
       "      <th>216</th>\n",
       "      <td>Yasuo</td>\n",
       "      <td>Fighter</td>\n",
       "      <td>MID</td>\n",
       "      <td>God</td>\n",
       "      <td>86.16</td>\n",
       "      <td>-0.04</td>\n",
       "      <td>49.56</td>\n",
       "      <td>71.44</td>\n",
       "      <td>11.77</td>\n",
       "      <td>24.41</td>\n",
       "      <td>1.74</td>\n",
       "    </tr>\n",
       "    <tr>\n",
       "      <th>217</th>\n",
       "      <td>Yasuo</td>\n",
       "      <td>Fighter</td>\n",
       "      <td>TOP</td>\n",
       "      <td>B</td>\n",
       "      <td>39.96</td>\n",
       "      <td>-14.89</td>\n",
       "      <td>47.77</td>\n",
       "      <td>16.35</td>\n",
       "      <td>2.53</td>\n",
       "      <td>24.41</td>\n",
       "      <td>1.45</td>\n",
       "    </tr>\n",
       "    <tr>\n",
       "      <th>218</th>\n",
       "      <td>Yasuo</td>\n",
       "      <td>Fighter</td>\n",
       "      <td>ADC</td>\n",
       "      <td>C</td>\n",
       "      <td>34.41</td>\n",
       "      <td>-3.91</td>\n",
       "      <td>50.52</td>\n",
       "      <td>11.70</td>\n",
       "      <td>1.82</td>\n",
       "      <td>24.41</td>\n",
       "      <td>1.95</td>\n",
       "    </tr>\n",
       "  </tbody>\n",
       "</table>\n",
       "</div>"
      ],
      "text/plain": [
       "         Name    Class     Role Tier  Score  Trend  Win %  Role %  Pick %  \\\n",
       "47     Gragas  Fighter      TOP    C  37.47  -2.35  48.75   39.67    1.96   \n",
       "48     Gragas  Fighter   JUNGLE    C  36.10  -7.55  48.00   40.60    1.64   \n",
       "49     Gragas  Fighter  SUPPORT    D  32.15  -2.55  47.64   11.54    0.49   \n",
       "60     Irelia  Fighter      TOP  God  81.35  -5.02  49.10   60.00    6.24   \n",
       "61     Irelia  Fighter      MID    A  48.07  -1.08  48.24   39.17    4.10   \n",
       "117      Olaf  Fighter   JUNGLE    C  36.61   5.55  49.07   84.79    1.48   \n",
       "118      Olaf  Fighter      TOP    D  11.03  -6.16  45.46   15.64    0.27   \n",
       "121  Pantheon  Fighter      MID    B  41.54  -2.49  50.80   27.31    1.16   \n",
       "122  Pantheon  Fighter  SUPPORT    D  32.78  -2.48  47.00   39.76    1.78   \n",
       "123  Pantheon  Fighter      TOP    D  30.79 -10.85  49.68   26.73    0.93   \n",
       "139    Rumble  Fighter      MID    B  45.65   1.36  52.28   37.76    0.95   \n",
       "140    Rumble  Fighter   JUNGLE    C  36.12   1.29  49.65   13.54    0.31   \n",
       "141    Rumble  Fighter      TOP    D  25.32  -2.02  47.57   46.60    1.01   \n",
       "156   Shyvana  Fighter   JUNGLE    C  35.87  -5.10  48.72   82.59    1.49   \n",
       "157   Shyvana  Fighter      TOP    D  23.83 -11.61  49.83   12.59    0.21   \n",
       "161   Skarner  Fighter   JUNGLE    C  33.16  -7.62  47.83   76.00    0.74   \n",
       "162   Skarner  Fighter      TOP    D  23.89  -6.83  48.90   22.21    0.18   \n",
       "182   Trundle  Fighter   JUNGLE    A  55.13   1.44  52.85   62.99    3.86   \n",
       "183   Trundle  Fighter      TOP    B  44.04   3.38  52.78   31.17    1.84   \n",
       "216     Yasuo  Fighter      MID  God  86.16  -0.04  49.56   71.44   11.77   \n",
       "217     Yasuo  Fighter      TOP    B  39.96 -14.89  47.77   16.35    2.53   \n",
       "218     Yasuo  Fighter      ADC    C  34.41  -3.91  50.52   11.70    1.82   \n",
       "\n",
       "     Ban %   KDA  \n",
       "47    0.32  2.24  \n",
       "48    0.32  2.70  \n",
       "49    0.32  2.25  \n",
       "60   23.51  1.58  \n",
       "61   23.51  1.75  \n",
       "117   0.85  2.45  \n",
       "118   0.92  1.63  \n",
       "121   0.89  2.25  \n",
       "122   0.89  1.89  \n",
       "123   0.89  2.10  \n",
       "139   0.26  2.64  \n",
       "140   0.26  2.82  \n",
       "141   0.26  2.02  \n",
       "156   0.25  2.45  \n",
       "157   0.26  1.88  \n",
       "161   0.16  2.76  \n",
       "162   0.16  2.22  \n",
       "182   2.60  2.84  \n",
       "183   2.60  1.83  \n",
       "216  24.41  1.74  \n",
       "217  24.41  1.45  \n",
       "218  24.41  1.95  "
      ]
     },
     "execution_count": 17,
     "metadata": {},
     "output_type": "execute_result"
    }
   ],
   "source": [
    "# Aplicamos a la columna name, aquellos valores de la máscara de booleanos de la misma columna\n",
    "\n",
    "masc_ftm60=p1.loc[p1[\"Name\"].isin([\"Gragas\",\"Irelia\",\"Olaf\",\"Pantheon\",\n",
    "                                   \"Rumble\",\"Shyvana\",\"Skarner\",\n",
    "                                   \"Trundle\",\"Volibear\"\n",
    "                                   \"Warwick\",\"Yasuo\"])]\n",
    "masc_ftm60"
   ]
  },
  {
   "cell_type": "code",
   "execution_count": 18,
   "metadata": {},
   "outputs": [
    {
     "data": {
      "text/html": [
       "<div>\n",
       "<style scoped>\n",
       "    .dataframe tbody tr th:only-of-type {\n",
       "        vertical-align: middle;\n",
       "    }\n",
       "\n",
       "    .dataframe tbody tr th {\n",
       "        vertical-align: top;\n",
       "    }\n",
       "\n",
       "    .dataframe thead th {\n",
       "        text-align: right;\n",
       "    }\n",
       "</style>\n",
       "<table border=\"1\" class=\"dataframe\">\n",
       "  <thead>\n",
       "    <tr style=\"text-align: right;\">\n",
       "      <th></th>\n",
       "      <th>Name</th>\n",
       "      <th>Role</th>\n",
       "      <th>Tier</th>\n",
       "      <th>Role %</th>\n",
       "    </tr>\n",
       "  </thead>\n",
       "  <tbody>\n",
       "    <tr>\n",
       "      <th>47</th>\n",
       "      <td>Gragas</td>\n",
       "      <td>TOP</td>\n",
       "      <td>C</td>\n",
       "      <td>39.67</td>\n",
       "    </tr>\n",
       "    <tr>\n",
       "      <th>48</th>\n",
       "      <td>Gragas</td>\n",
       "      <td>JUNGLE</td>\n",
       "      <td>C</td>\n",
       "      <td>40.60</td>\n",
       "    </tr>\n",
       "    <tr>\n",
       "      <th>49</th>\n",
       "      <td>Gragas</td>\n",
       "      <td>SUPPORT</td>\n",
       "      <td>D</td>\n",
       "      <td>11.54</td>\n",
       "    </tr>\n",
       "    <tr>\n",
       "      <th>60</th>\n",
       "      <td>Irelia</td>\n",
       "      <td>TOP</td>\n",
       "      <td>God</td>\n",
       "      <td>60.00</td>\n",
       "    </tr>\n",
       "    <tr>\n",
       "      <th>61</th>\n",
       "      <td>Irelia</td>\n",
       "      <td>MID</td>\n",
       "      <td>A</td>\n",
       "      <td>39.17</td>\n",
       "    </tr>\n",
       "    <tr>\n",
       "      <th>117</th>\n",
       "      <td>Olaf</td>\n",
       "      <td>JUNGLE</td>\n",
       "      <td>C</td>\n",
       "      <td>84.79</td>\n",
       "    </tr>\n",
       "    <tr>\n",
       "      <th>118</th>\n",
       "      <td>Olaf</td>\n",
       "      <td>TOP</td>\n",
       "      <td>D</td>\n",
       "      <td>15.64</td>\n",
       "    </tr>\n",
       "    <tr>\n",
       "      <th>121</th>\n",
       "      <td>Pantheon</td>\n",
       "      <td>MID</td>\n",
       "      <td>B</td>\n",
       "      <td>27.31</td>\n",
       "    </tr>\n",
       "    <tr>\n",
       "      <th>122</th>\n",
       "      <td>Pantheon</td>\n",
       "      <td>SUPPORT</td>\n",
       "      <td>D</td>\n",
       "      <td>39.76</td>\n",
       "    </tr>\n",
       "    <tr>\n",
       "      <th>123</th>\n",
       "      <td>Pantheon</td>\n",
       "      <td>TOP</td>\n",
       "      <td>D</td>\n",
       "      <td>26.73</td>\n",
       "    </tr>\n",
       "    <tr>\n",
       "      <th>139</th>\n",
       "      <td>Rumble</td>\n",
       "      <td>MID</td>\n",
       "      <td>B</td>\n",
       "      <td>37.76</td>\n",
       "    </tr>\n",
       "    <tr>\n",
       "      <th>140</th>\n",
       "      <td>Rumble</td>\n",
       "      <td>JUNGLE</td>\n",
       "      <td>C</td>\n",
       "      <td>13.54</td>\n",
       "    </tr>\n",
       "    <tr>\n",
       "      <th>141</th>\n",
       "      <td>Rumble</td>\n",
       "      <td>TOP</td>\n",
       "      <td>D</td>\n",
       "      <td>46.60</td>\n",
       "    </tr>\n",
       "    <tr>\n",
       "      <th>156</th>\n",
       "      <td>Shyvana</td>\n",
       "      <td>JUNGLE</td>\n",
       "      <td>C</td>\n",
       "      <td>82.59</td>\n",
       "    </tr>\n",
       "    <tr>\n",
       "      <th>157</th>\n",
       "      <td>Shyvana</td>\n",
       "      <td>TOP</td>\n",
       "      <td>D</td>\n",
       "      <td>12.59</td>\n",
       "    </tr>\n",
       "    <tr>\n",
       "      <th>161</th>\n",
       "      <td>Skarner</td>\n",
       "      <td>JUNGLE</td>\n",
       "      <td>C</td>\n",
       "      <td>76.00</td>\n",
       "    </tr>\n",
       "    <tr>\n",
       "      <th>162</th>\n",
       "      <td>Skarner</td>\n",
       "      <td>TOP</td>\n",
       "      <td>D</td>\n",
       "      <td>22.21</td>\n",
       "    </tr>\n",
       "    <tr>\n",
       "      <th>182</th>\n",
       "      <td>Trundle</td>\n",
       "      <td>JUNGLE</td>\n",
       "      <td>A</td>\n",
       "      <td>62.99</td>\n",
       "    </tr>\n",
       "    <tr>\n",
       "      <th>183</th>\n",
       "      <td>Trundle</td>\n",
       "      <td>TOP</td>\n",
       "      <td>B</td>\n",
       "      <td>31.17</td>\n",
       "    </tr>\n",
       "    <tr>\n",
       "      <th>216</th>\n",
       "      <td>Yasuo</td>\n",
       "      <td>MID</td>\n",
       "      <td>God</td>\n",
       "      <td>71.44</td>\n",
       "    </tr>\n",
       "    <tr>\n",
       "      <th>217</th>\n",
       "      <td>Yasuo</td>\n",
       "      <td>TOP</td>\n",
       "      <td>B</td>\n",
       "      <td>16.35</td>\n",
       "    </tr>\n",
       "    <tr>\n",
       "      <th>218</th>\n",
       "      <td>Yasuo</td>\n",
       "      <td>ADC</td>\n",
       "      <td>C</td>\n",
       "      <td>11.70</td>\n",
       "    </tr>\n",
       "  </tbody>\n",
       "</table>\n",
       "</div>"
      ],
      "text/plain": [
       "         Name     Role Tier  Role %\n",
       "47     Gragas      TOP    C   39.67\n",
       "48     Gragas   JUNGLE    C   40.60\n",
       "49     Gragas  SUPPORT    D   11.54\n",
       "60     Irelia      TOP  God   60.00\n",
       "61     Irelia      MID    A   39.17\n",
       "117      Olaf   JUNGLE    C   84.79\n",
       "118      Olaf      TOP    D   15.64\n",
       "121  Pantheon      MID    B   27.31\n",
       "122  Pantheon  SUPPORT    D   39.76\n",
       "123  Pantheon      TOP    D   26.73\n",
       "139    Rumble      MID    B   37.76\n",
       "140    Rumble   JUNGLE    C   13.54\n",
       "141    Rumble      TOP    D   46.60\n",
       "156   Shyvana   JUNGLE    C   82.59\n",
       "157   Shyvana      TOP    D   12.59\n",
       "161   Skarner   JUNGLE    C   76.00\n",
       "162   Skarner      TOP    D   22.21\n",
       "182   Trundle   JUNGLE    A   62.99\n",
       "183   Trundle      TOP    B   31.17\n",
       "216     Yasuo      MID  God   71.44\n",
       "217     Yasuo      TOP    B   16.35\n",
       "218     Yasuo      ADC    C   11.70"
      ]
     },
     "execution_count": 18,
     "metadata": {},
     "output_type": "execute_result"
    }
   ],
   "source": [
    "# Nos quedamos con aquellas columnas que realmente nos interesan\n",
    "\n",
    "masc_ftm60_rz=masc_ftm60.iloc[:,[0,2,3,7]]\n",
    "masc_ftm60_rz"
   ]
  },
  {
   "cell_type": "code",
   "execution_count": 19,
   "metadata": {},
   "outputs": [
    {
     "data": {
      "text/html": [
       "<div>\n",
       "<style scoped>\n",
       "    .dataframe tbody tr th:only-of-type {\n",
       "        vertical-align: middle;\n",
       "    }\n",
       "\n",
       "    .dataframe tbody tr th {\n",
       "        vertical-align: top;\n",
       "    }\n",
       "\n",
       "    .dataframe thead th {\n",
       "        text-align: right;\n",
       "    }\n",
       "</style>\n",
       "<table border=\"1\" class=\"dataframe\">\n",
       "  <thead>\n",
       "    <tr style=\"text-align: right;\">\n",
       "      <th></th>\n",
       "      <th>Name</th>\n",
       "      <th>Role</th>\n",
       "      <th>Tier</th>\n",
       "      <th>Role %</th>\n",
       "    </tr>\n",
       "  </thead>\n",
       "  <tbody>\n",
       "    <tr>\n",
       "      <th>60</th>\n",
       "      <td>Irelia</td>\n",
       "      <td>TOP</td>\n",
       "      <td>God</td>\n",
       "      <td>60.00</td>\n",
       "    </tr>\n",
       "    <tr>\n",
       "      <th>61</th>\n",
       "      <td>Irelia</td>\n",
       "      <td>MID</td>\n",
       "      <td>A</td>\n",
       "      <td>39.17</td>\n",
       "    </tr>\n",
       "    <tr>\n",
       "      <th>117</th>\n",
       "      <td>Olaf</td>\n",
       "      <td>JUNGLE</td>\n",
       "      <td>C</td>\n",
       "      <td>84.79</td>\n",
       "    </tr>\n",
       "    <tr>\n",
       "      <th>118</th>\n",
       "      <td>Olaf</td>\n",
       "      <td>TOP</td>\n",
       "      <td>D</td>\n",
       "      <td>15.64</td>\n",
       "    </tr>\n",
       "    <tr>\n",
       "      <th>156</th>\n",
       "      <td>Shyvana</td>\n",
       "      <td>JUNGLE</td>\n",
       "      <td>C</td>\n",
       "      <td>82.59</td>\n",
       "    </tr>\n",
       "    <tr>\n",
       "      <th>157</th>\n",
       "      <td>Shyvana</td>\n",
       "      <td>TOP</td>\n",
       "      <td>D</td>\n",
       "      <td>12.59</td>\n",
       "    </tr>\n",
       "    <tr>\n",
       "      <th>182</th>\n",
       "      <td>Trundle</td>\n",
       "      <td>JUNGLE</td>\n",
       "      <td>A</td>\n",
       "      <td>62.99</td>\n",
       "    </tr>\n",
       "    <tr>\n",
       "      <th>183</th>\n",
       "      <td>Trundle</td>\n",
       "      <td>TOP</td>\n",
       "      <td>B</td>\n",
       "      <td>31.17</td>\n",
       "    </tr>\n",
       "  </tbody>\n",
       "</table>\n",
       "</div>"
      ],
      "text/plain": [
       "        Name    Role Tier  Role %\n",
       "60    Irelia     TOP  God   60.00\n",
       "61    Irelia     MID    A   39.17\n",
       "117     Olaf  JUNGLE    C   84.79\n",
       "118     Olaf     TOP    D   15.64\n",
       "156  Shyvana  JUNGLE    C   82.59\n",
       "157  Shyvana     TOP    D   12.59\n",
       "182  Trundle  JUNGLE    A   62.99\n",
       "183  Trundle     TOP    B   31.17"
      ]
     },
     "execution_count": 19,
     "metadata": {},
     "output_type": "execute_result"
    }
   ],
   "source": [
    "# Sacamos manualmente aquellos valores que nos interesan para la muestra.\n",
    "\n",
    "muestra1=masc_ftm60_rz.loc[masc_ftm60_rz[\"Name\"].isin([\"Irelia\",\"Olaf\",\n",
    "                                               \"Shyvana\",\"Skaner\",\"Trundle\"])]\n",
    "muestra1"
   ]
  },
  {
   "attachments": {},
   "cell_type": "markdown",
   "metadata": {},
   "source": [
    "### Podemos observar en la tabla que según los filtros aplicados, aquellos que tenían menos de un 60 % en la columna \"Role %\", es porque tienen más roles.\n",
    "### Esto quiere decir que son personajes que se utilizan en varias posiciones y por ello no son específicos para una sola, pero sí que se pueden apreciar 2 cosas a simple vista, y es que aquellos que solo tienen 2 posiciones, tienen un rol más predominante y el de menor % es el que en algún momento desde los comienzos del juego, se empezó a jugar en otra posición pero no es la mejor opción a jugar en este parche.\n"
   ]
  },
  {
   "attachments": {},
   "cell_type": "markdown",
   "metadata": {},
   "source": [
    "## Por ello vamos a comparar estos personajes cuyos datos pertenecen al parche 1, con los del parche 13 y 23, para ver si varían realmente."
   ]
  },
  {
   "cell_type": "code",
   "execution_count": 20,
   "metadata": {},
   "outputs": [
    {
     "data": {
      "text/html": [
       "<div>\n",
       "<style scoped>\n",
       "    .dataframe tbody tr th:only-of-type {\n",
       "        vertical-align: middle;\n",
       "    }\n",
       "\n",
       "    .dataframe tbody tr th {\n",
       "        vertical-align: top;\n",
       "    }\n",
       "\n",
       "    .dataframe thead th {\n",
       "        text-align: right;\n",
       "    }\n",
       "</style>\n",
       "<table border=\"1\" class=\"dataframe\">\n",
       "  <thead>\n",
       "    <tr style=\"text-align: right;\">\n",
       "      <th></th>\n",
       "      <th>Name</th>\n",
       "      <th>Role</th>\n",
       "      <th>Tier</th>\n",
       "      <th>Role %</th>\n",
       "    </tr>\n",
       "  </thead>\n",
       "  <tbody>\n",
       "    <tr>\n",
       "      <th>60</th>\n",
       "      <td>Irelia</td>\n",
       "      <td>TOP</td>\n",
       "      <td>God</td>\n",
       "      <td>60.00</td>\n",
       "    </tr>\n",
       "    <tr>\n",
       "      <th>61</th>\n",
       "      <td>Irelia</td>\n",
       "      <td>MID</td>\n",
       "      <td>A</td>\n",
       "      <td>39.17</td>\n",
       "    </tr>\n",
       "    <tr>\n",
       "      <th>117</th>\n",
       "      <td>Olaf</td>\n",
       "      <td>JUNGLE</td>\n",
       "      <td>C</td>\n",
       "      <td>84.79</td>\n",
       "    </tr>\n",
       "    <tr>\n",
       "      <th>118</th>\n",
       "      <td>Olaf</td>\n",
       "      <td>TOP</td>\n",
       "      <td>D</td>\n",
       "      <td>15.64</td>\n",
       "    </tr>\n",
       "    <tr>\n",
       "      <th>156</th>\n",
       "      <td>Shyvana</td>\n",
       "      <td>JUNGLE</td>\n",
       "      <td>C</td>\n",
       "      <td>82.59</td>\n",
       "    </tr>\n",
       "    <tr>\n",
       "      <th>157</th>\n",
       "      <td>Shyvana</td>\n",
       "      <td>TOP</td>\n",
       "      <td>D</td>\n",
       "      <td>12.59</td>\n",
       "    </tr>\n",
       "    <tr>\n",
       "      <th>182</th>\n",
       "      <td>Trundle</td>\n",
       "      <td>JUNGLE</td>\n",
       "      <td>A</td>\n",
       "      <td>62.99</td>\n",
       "    </tr>\n",
       "    <tr>\n",
       "      <th>183</th>\n",
       "      <td>Trundle</td>\n",
       "      <td>TOP</td>\n",
       "      <td>B</td>\n",
       "      <td>31.17</td>\n",
       "    </tr>\n",
       "  </tbody>\n",
       "</table>\n",
       "</div>"
      ],
      "text/plain": [
       "        Name    Role Tier  Role %\n",
       "60    Irelia     TOP  God   60.00\n",
       "61    Irelia     MID    A   39.17\n",
       "117     Olaf  JUNGLE    C   84.79\n",
       "118     Olaf     TOP    D   15.64\n",
       "156  Shyvana  JUNGLE    C   82.59\n",
       "157  Shyvana     TOP    D   12.59\n",
       "182  Trundle  JUNGLE    A   62.99\n",
       "183  Trundle     TOP    B   31.17"
      ]
     },
     "execution_count": 20,
     "metadata": {},
     "output_type": "execute_result"
    }
   ],
   "source": [
    "# Parche 1\n",
    "\n",
    "muestra1"
   ]
  },
  {
   "cell_type": "code",
   "execution_count": 21,
   "metadata": {},
   "outputs": [
    {
     "data": {
      "text/html": [
       "<div>\n",
       "<style scoped>\n",
       "    .dataframe tbody tr th:only-of-type {\n",
       "        vertical-align: middle;\n",
       "    }\n",
       "\n",
       "    .dataframe tbody tr th {\n",
       "        vertical-align: top;\n",
       "    }\n",
       "\n",
       "    .dataframe thead th {\n",
       "        text-align: right;\n",
       "    }\n",
       "</style>\n",
       "<table border=\"1\" class=\"dataframe\">\n",
       "  <thead>\n",
       "    <tr style=\"text-align: right;\">\n",
       "      <th></th>\n",
       "      <th>Name</th>\n",
       "      <th>Role</th>\n",
       "      <th>Tier</th>\n",
       "      <th>Role %</th>\n",
       "    </tr>\n",
       "  </thead>\n",
       "  <tbody>\n",
       "    <tr>\n",
       "      <th>61</th>\n",
       "      <td>Irelia</td>\n",
       "      <td>TOP</td>\n",
       "      <td>S</td>\n",
       "      <td>54.23</td>\n",
       "    </tr>\n",
       "    <tr>\n",
       "      <th>62</th>\n",
       "      <td>Irelia</td>\n",
       "      <td>MID</td>\n",
       "      <td>A</td>\n",
       "      <td>44.10</td>\n",
       "    </tr>\n",
       "    <tr>\n",
       "      <th>122</th>\n",
       "      <td>Olaf</td>\n",
       "      <td>TOP</td>\n",
       "      <td>A</td>\n",
       "      <td>72.01</td>\n",
       "    </tr>\n",
       "    <tr>\n",
       "      <th>123</th>\n",
       "      <td>Olaf</td>\n",
       "      <td>JUNGLE</td>\n",
       "      <td>D</td>\n",
       "      <td>24.12</td>\n",
       "    </tr>\n",
       "    <tr>\n",
       "      <th>161</th>\n",
       "      <td>Shyvana</td>\n",
       "      <td>JUNGLE</td>\n",
       "      <td>A</td>\n",
       "      <td>58.17</td>\n",
       "    </tr>\n",
       "    <tr>\n",
       "      <th>162</th>\n",
       "      <td>Shyvana</td>\n",
       "      <td>TOP</td>\n",
       "      <td>A</td>\n",
       "      <td>39.80</td>\n",
       "    </tr>\n",
       "    <tr>\n",
       "      <th>190</th>\n",
       "      <td>Trundle</td>\n",
       "      <td>JUNGLE</td>\n",
       "      <td>A</td>\n",
       "      <td>71.68</td>\n",
       "    </tr>\n",
       "    <tr>\n",
       "      <th>191</th>\n",
       "      <td>Trundle</td>\n",
       "      <td>TOP</td>\n",
       "      <td>B</td>\n",
       "      <td>24.24</td>\n",
       "    </tr>\n",
       "  </tbody>\n",
       "</table>\n",
       "</div>"
      ],
      "text/plain": [
       "        Name    Role Tier  Role %\n",
       "61    Irelia     TOP    S   54.23\n",
       "62    Irelia     MID    A   44.10\n",
       "122     Olaf     TOP    A   72.01\n",
       "123     Olaf  JUNGLE    D   24.12\n",
       "161  Shyvana  JUNGLE    A   58.17\n",
       "162  Shyvana     TOP    A   39.80\n",
       "190  Trundle  JUNGLE    A   71.68\n",
       "191  Trundle     TOP    B   24.24"
      ]
     },
     "execution_count": 21,
     "metadata": {},
     "output_type": "execute_result"
    }
   ],
   "source": [
    "# Parche 13\n",
    "\n",
    "muestra2=p13.loc[p13[\"Name\"].isin([\"Irelia\",\"Olaf\",\n",
    "                                    \"Shyvana\",\"Skaner\",\"Trundle\"])]\n",
    "muestra2=muestra2.iloc[:,[0,2,3,7]]\n",
    "muestra2\n"
   ]
  },
  {
   "cell_type": "code",
   "execution_count": 22,
   "metadata": {},
   "outputs": [
    {
     "data": {
      "text/html": [
       "<div>\n",
       "<style scoped>\n",
       "    .dataframe tbody tr th:only-of-type {\n",
       "        vertical-align: middle;\n",
       "    }\n",
       "\n",
       "    .dataframe tbody tr th {\n",
       "        vertical-align: top;\n",
       "    }\n",
       "\n",
       "    .dataframe thead th {\n",
       "        text-align: right;\n",
       "    }\n",
       "</style>\n",
       "<table border=\"1\" class=\"dataframe\">\n",
       "  <thead>\n",
       "    <tr style=\"text-align: right;\">\n",
       "      <th></th>\n",
       "      <th>Name</th>\n",
       "      <th>Role</th>\n",
       "      <th>Tier</th>\n",
       "      <th>Role %</th>\n",
       "    </tr>\n",
       "  </thead>\n",
       "  <tbody>\n",
       "    <tr>\n",
       "      <th>65</th>\n",
       "      <td>Irelia</td>\n",
       "      <td>TOP</td>\n",
       "      <td>S</td>\n",
       "      <td>45.65</td>\n",
       "    </tr>\n",
       "    <tr>\n",
       "      <th>66</th>\n",
       "      <td>Irelia</td>\n",
       "      <td>MID</td>\n",
       "      <td>A</td>\n",
       "      <td>52.11</td>\n",
       "    </tr>\n",
       "    <tr>\n",
       "      <th>129</th>\n",
       "      <td>Olaf</td>\n",
       "      <td>TOP</td>\n",
       "      <td>A</td>\n",
       "      <td>72.96</td>\n",
       "    </tr>\n",
       "    <tr>\n",
       "      <th>130</th>\n",
       "      <td>Olaf</td>\n",
       "      <td>JUNGLE</td>\n",
       "      <td>D</td>\n",
       "      <td>22.73</td>\n",
       "    </tr>\n",
       "    <tr>\n",
       "      <th>171</th>\n",
       "      <td>Shyvana</td>\n",
       "      <td>JUNGLE</td>\n",
       "      <td>C</td>\n",
       "      <td>81.05</td>\n",
       "    </tr>\n",
       "    <tr>\n",
       "      <th>172</th>\n",
       "      <td>Shyvana</td>\n",
       "      <td>TOP</td>\n",
       "      <td>D</td>\n",
       "      <td>11.84</td>\n",
       "    </tr>\n",
       "    <tr>\n",
       "      <th>198</th>\n",
       "      <td>Trundle</td>\n",
       "      <td>JUNGLE</td>\n",
       "      <td>C</td>\n",
       "      <td>70.84</td>\n",
       "    </tr>\n",
       "    <tr>\n",
       "      <th>199</th>\n",
       "      <td>Trundle</td>\n",
       "      <td>TOP</td>\n",
       "      <td>D</td>\n",
       "      <td>21.97</td>\n",
       "    </tr>\n",
       "  </tbody>\n",
       "</table>\n",
       "</div>"
      ],
      "text/plain": [
       "        Name    Role Tier  Role %\n",
       "65    Irelia     TOP    S   45.65\n",
       "66    Irelia     MID    A   52.11\n",
       "129     Olaf     TOP    A   72.96\n",
       "130     Olaf  JUNGLE    D   22.73\n",
       "171  Shyvana  JUNGLE    C   81.05\n",
       "172  Shyvana     TOP    D   11.84\n",
       "198  Trundle  JUNGLE    C   70.84\n",
       "199  Trundle     TOP    D   21.97"
      ]
     },
     "execution_count": 22,
     "metadata": {},
     "output_type": "execute_result"
    }
   ],
   "source": [
    "# Parche 23\n",
    "\n",
    "muestra3=p23.loc[p23[\"Name\"].isin([\"Irelia\",\"Olaf\",\n",
    "                                    \"Shyvana\",\"Skaner\",\"Trundle\"])]\n",
    "muestra3=muestra3.iloc[:,[0,2,3,7]]\n",
    "muestra3"
   ]
  },
  {
   "attachments": {},
   "cell_type": "markdown",
   "metadata": {},
   "source": [
    "### Una vez tenemos las 3 muestras vamos a selecionar de cada parche, aquellas filas cuyo Role % sea > 50 y realizaremos un gráfico para ver su variación"
   ]
  },
  {
   "cell_type": "code",
   "execution_count": 23,
   "metadata": {},
   "outputs": [
    {
     "data": {
      "text/html": [
       "<div>\n",
       "<style scoped>\n",
       "    .dataframe tbody tr th:only-of-type {\n",
       "        vertical-align: middle;\n",
       "    }\n",
       "\n",
       "    .dataframe tbody tr th {\n",
       "        vertical-align: top;\n",
       "    }\n",
       "\n",
       "    .dataframe thead th {\n",
       "        text-align: right;\n",
       "    }\n",
       "</style>\n",
       "<table border=\"1\" class=\"dataframe\">\n",
       "  <thead>\n",
       "    <tr style=\"text-align: right;\">\n",
       "      <th></th>\n",
       "      <th>Name</th>\n",
       "      <th>Role</th>\n",
       "      <th>Tier</th>\n",
       "      <th>Role %</th>\n",
       "    </tr>\n",
       "  </thead>\n",
       "  <tbody>\n",
       "    <tr>\n",
       "      <th>60</th>\n",
       "      <td>Irelia</td>\n",
       "      <td>TOP</td>\n",
       "      <td>God</td>\n",
       "      <td>60.00</td>\n",
       "    </tr>\n",
       "    <tr>\n",
       "      <th>117</th>\n",
       "      <td>Olaf</td>\n",
       "      <td>JUNGLE</td>\n",
       "      <td>C</td>\n",
       "      <td>84.79</td>\n",
       "    </tr>\n",
       "    <tr>\n",
       "      <th>156</th>\n",
       "      <td>Shyvana</td>\n",
       "      <td>JUNGLE</td>\n",
       "      <td>C</td>\n",
       "      <td>82.59</td>\n",
       "    </tr>\n",
       "    <tr>\n",
       "      <th>182</th>\n",
       "      <td>Trundle</td>\n",
       "      <td>JUNGLE</td>\n",
       "      <td>A</td>\n",
       "      <td>62.99</td>\n",
       "    </tr>\n",
       "  </tbody>\n",
       "</table>\n",
       "</div>"
      ],
      "text/plain": [
       "        Name    Role Tier  Role %\n",
       "60    Irelia     TOP  God   60.00\n",
       "117     Olaf  JUNGLE    C   84.79\n",
       "156  Shyvana  JUNGLE    C   82.59\n",
       "182  Trundle  JUNGLE    A   62.99"
      ]
     },
     "execution_count": 23,
     "metadata": {},
     "output_type": "execute_result"
    }
   ],
   "source": [
    "# Aplicamos máscara para seleccionar solo aquellos que deseamos mostrar\n",
    "\n",
    "var1=muestra1.loc[muestra1[\"Role %\"] > 50]\n",
    "var2=muestra2.loc[muestra2[\"Role %\"] > 50]\n",
    "var3=muestra3.loc[muestra3[\"Role %\"] > 50]\n",
    "var1"
   ]
  },
  {
   "cell_type": "code",
   "execution_count": 24,
   "metadata": {},
   "outputs": [
    {
     "data": {
      "image/png": "[encoded data removed]",
      "text/plain": [
       "<Figure size 800x600 with 1 Axes>"
      ]
     },
     "metadata": {},
     "output_type": "display_data"
    }
   ],
   "source": [
    "# En este mostramos la variación del Role %\n",
    "\n",
    "names = [\"Irelia\", \"Olaf\", \"Shyvana\", \"Trundle\"]\n",
    "\n",
    "role_percentages_var1 = [60.0, 84.7, 82.5, 62.9]\n",
    "role_percentages_var2 = [54.2, 72.0, 58.1, 71.6]\n",
    "role_percentages_var3 = [52.1, 72.9, 81.0, 70.8]\n",
    "\n",
    "fig, ax = plt.subplots()\n",
    "\n",
    "fig.set_size_inches(8, 6)\n",
    "\n",
    "bar_width = 0.2\n",
    "bar_gap = 0.05\n",
    "\n",
    "# Agregamos barras para cada variable, con los valores de \"Role %\" y el ancho de cada barra\n",
    "\n",
    "ax.bar([i - bar_gap - bar_width for i in range(len(names))], role_percentages_var1, width=bar_width, label=\"Parche 1\")\n",
    "ax.bar([i - bar_gap for i in range(len(names))], role_percentages_var2, width=bar_width, label=\"Parche 13\")\n",
    "ax.bar([i + bar_gap for i in range(len(names))], role_percentages_var3, width=bar_width, label=\"Parche 23\")\n",
    "\n",
    "ax.set_xticks(range(len(names)))\n",
    "ax.set_xticklabels(names)\n",
    "\n",
    "ax.set_xlabel(\"Personajes\")\n",
    "ax.set_ylabel(\"Role %\")\n",
    "ax.set_title(\"Variación de Role % para cada personaje\")\n",
    "\n",
    "ax.legend()\n",
    "\n",
    "plt.show()"
   ]
  },
  {
   "cell_type": "code",
   "execution_count": 25,
   "metadata": {},
   "outputs": [
    {
     "data": {
      "image/png": "[encoded data removed]",
      "text/plain": [
       "<Figure size 800x600 with 1 Axes>"
      ]
     },
     "metadata": {},
     "output_type": "display_data"
    }
   ],
   "source": [
    "# Procedemos a meter los datos manualmente para hacer el gráfico de la Tier y ver como varían\n",
    "\n",
    "names = [\"Irelia\", \"Olaf\", \"Shyvana\", \"Trundle\"]\n",
    "tiers1 = pd.Categorical([\"God\", \"C\", \"C\", \"A\"], categories=[\"God\", \"S\", \"A\", \"C\"])\n",
    "tiers2 = pd.Categorical([\"S\", \"A\", \"A\", \"A\"], categories=[\"God\", \"S\", \"A\", \"C\"])\n",
    "tiers3 = pd.Categorical([\"A\", \"A\", \"C\", \"C\"], categories=[\"God\", \"S\", \"A\", \"C\"])\n",
    "\n",
    "\n",
    "fig, ax = plt.subplots()\n",
    "\n",
    "fig.set_size_inches(8, 6)\n",
    "\n",
    "# Configurar la trama de dispersión para cada variable\n",
    "\n",
    "ax.scatter(np.arange(len(names)), tiers1.codes + np.random.uniform(-0.1, 0.1, len(names)), c='red', label='Parche 1')\n",
    "ax.scatter(np.arange(len(names)), tiers2.codes + np.random.uniform(-0.1, 0.1, len(names)), c='blue', label='Parche 13')\n",
    "ax.scatter(np.arange(len(names)), tiers3.codes + np.random.uniform(-0.1, 0.1, len(names)), c='green', label='Parche 23')\n",
    "\n",
    "\n",
    "ax.set_xticks(np.arange(len(names)))\n",
    "ax.set_xticklabels(names)\n",
    "ax.set_xlabel('Name')\n",
    "ax.set_ylabel('Tier')\n",
    "ax.set_title('Variación de Tier por Parche')\n",
    "\n",
    "ax.set_yticks([0, 1, 2, 3])\n",
    "ax.set_yticklabels([\"God\", \"S\", \"A\", \"C\"])\n",
    "\n",
    "\n",
    "ax.legend()\n",
    "\n",
    "\n",
    "plt.show()\n"
   ]
  },
  {
   "attachments": {},
   "cell_type": "markdown",
   "metadata": {},
   "source": [
    "# A continuación vamos a mostrar el Top 5 de personajes de la posición MID, para ver si han variado desde el parche 1 al parche 23."
   ]
  },
  {
   "cell_type": "code",
   "execution_count": 26,
   "metadata": {},
   "outputs": [
    {
     "data": {
      "text/html": [
       "<div>\n",
       "<style scoped>\n",
       "    .dataframe tbody tr th:only-of-type {\n",
       "        vertical-align: middle;\n",
       "    }\n",
       "\n",
       "    .dataframe tbody tr th {\n",
       "        vertical-align: top;\n",
       "    }\n",
       "\n",
       "    .dataframe thead th {\n",
       "        text-align: right;\n",
       "    }\n",
       "</style>\n",
       "<table border=\"1\" class=\"dataframe\">\n",
       "  <thead>\n",
       "    <tr style=\"text-align: right;\">\n",
       "      <th></th>\n",
       "      <th>Name</th>\n",
       "      <th>Class</th>\n",
       "      <th>Role</th>\n",
       "      <th>Tier</th>\n",
       "      <th>Score</th>\n",
       "      <th>Trend</th>\n",
       "      <th>Win %</th>\n",
       "      <th>Role %</th>\n",
       "      <th>Pick %</th>\n",
       "      <th>Ban %</th>\n",
       "      <th>KDA</th>\n",
       "    </tr>\n",
       "  </thead>\n",
       "  <tbody>\n",
       "    <tr>\n",
       "      <th>1</th>\n",
       "      <td>Ahri</td>\n",
       "      <td>Mage</td>\n",
       "      <td>MID</td>\n",
       "      <td>A</td>\n",
       "      <td>52.62</td>\n",
       "      <td>-2.26</td>\n",
       "      <td>49.64</td>\n",
       "      <td>91.71</td>\n",
       "      <td>5.37</td>\n",
       "      <td>2.28</td>\n",
       "      <td>2.40</td>\n",
       "    </tr>\n",
       "    <tr>\n",
       "      <th>2</th>\n",
       "      <td>Akali</td>\n",
       "      <td>Assassin</td>\n",
       "      <td>MID</td>\n",
       "      <td>S</td>\n",
       "      <td>61.16</td>\n",
       "      <td>-4.15</td>\n",
       "      <td>48.46</td>\n",
       "      <td>75.48</td>\n",
       "      <td>9.39</td>\n",
       "      <td>15.86</td>\n",
       "      <td>2.30</td>\n",
       "    </tr>\n",
       "    <tr>\n",
       "      <th>4</th>\n",
       "      <td>Akshan</td>\n",
       "      <td>Marksman</td>\n",
       "      <td>MID</td>\n",
       "      <td>A</td>\n",
       "      <td>49.05</td>\n",
       "      <td>-0.97</td>\n",
       "      <td>51.55</td>\n",
       "      <td>64.06</td>\n",
       "      <td>2.49</td>\n",
       "      <td>3.87</td>\n",
       "      <td>2.18</td>\n",
       "    </tr>\n",
       "    <tr>\n",
       "      <th>9</th>\n",
       "      <td>Anivia</td>\n",
       "      <td>Mage</td>\n",
       "      <td>MID</td>\n",
       "      <td>A</td>\n",
       "      <td>50.12</td>\n",
       "      <td>-0.46</td>\n",
       "      <td>51.53</td>\n",
       "      <td>76.09</td>\n",
       "      <td>1.92</td>\n",
       "      <td>1.78</td>\n",
       "      <td>2.69</td>\n",
       "    </tr>\n",
       "    <tr>\n",
       "      <th>11</th>\n",
       "      <td>Annie</td>\n",
       "      <td>Mage</td>\n",
       "      <td>MID</td>\n",
       "      <td>B</td>\n",
       "      <td>44.34</td>\n",
       "      <td>1.40</td>\n",
       "      <td>49.95</td>\n",
       "      <td>75.60</td>\n",
       "      <td>1.30</td>\n",
       "      <td>0.49</td>\n",
       "      <td>2.22</td>\n",
       "    </tr>\n",
       "    <tr>\n",
       "      <th>...</th>\n",
       "      <td>...</td>\n",
       "      <td>...</td>\n",
       "      <td>...</td>\n",
       "      <td>...</td>\n",
       "      <td>...</td>\n",
       "      <td>...</td>\n",
       "      <td>...</td>\n",
       "      <td>...</td>\n",
       "      <td>...</td>\n",
       "      <td>...</td>\n",
       "      <td>...</td>\n",
       "    </tr>\n",
       "    <tr>\n",
       "      <th>235</th>\n",
       "      <td>Yone</td>\n",
       "      <td>Assassin</td>\n",
       "      <td>MID</td>\n",
       "      <td>S</td>\n",
       "      <td>61.43</td>\n",
       "      <td>-3.39</td>\n",
       "      <td>50.60</td>\n",
       "      <td>62.97</td>\n",
       "      <td>9.30</td>\n",
       "      <td>11.43</td>\n",
       "      <td>1.89</td>\n",
       "    </tr>\n",
       "    <tr>\n",
       "      <th>241</th>\n",
       "      <td>Zed</td>\n",
       "      <td>Assassin</td>\n",
       "      <td>MID</td>\n",
       "      <td>God</td>\n",
       "      <td>87.21</td>\n",
       "      <td>-4.61</td>\n",
       "      <td>49.89</td>\n",
       "      <td>73.36</td>\n",
       "      <td>12.43</td>\n",
       "      <td>47.72</td>\n",
       "      <td>2.22</td>\n",
       "    </tr>\n",
       "    <tr>\n",
       "      <th>244</th>\n",
       "      <td>Ziggs</td>\n",
       "      <td>Mage</td>\n",
       "      <td>MID</td>\n",
       "      <td>B</td>\n",
       "      <td>48.01</td>\n",
       "      <td>1.73</td>\n",
       "      <td>51.68</td>\n",
       "      <td>52.33</td>\n",
       "      <td>1.41</td>\n",
       "      <td>0.34</td>\n",
       "      <td>2.40</td>\n",
       "    </tr>\n",
       "    <tr>\n",
       "      <th>247</th>\n",
       "      <td>Zilean</td>\n",
       "      <td>Support</td>\n",
       "      <td>MID</td>\n",
       "      <td>A</td>\n",
       "      <td>54.98</td>\n",
       "      <td>4.06</td>\n",
       "      <td>54.42</td>\n",
       "      <td>12.95</td>\n",
       "      <td>0.53</td>\n",
       "      <td>1.78</td>\n",
       "      <td>3.39</td>\n",
       "    </tr>\n",
       "    <tr>\n",
       "      <th>249</th>\n",
       "      <td>Zoe</td>\n",
       "      <td>Mage</td>\n",
       "      <td>MID</td>\n",
       "      <td>B</td>\n",
       "      <td>46.03</td>\n",
       "      <td>0.43</td>\n",
       "      <td>48.15</td>\n",
       "      <td>82.83</td>\n",
       "      <td>3.19</td>\n",
       "      <td>1.21</td>\n",
       "      <td>2.40</td>\n",
       "    </tr>\n",
       "  </tbody>\n",
       "</table>\n",
       "<p>62 rows × 11 columns</p>\n",
       "</div>"
      ],
      "text/plain": [
       "       Name     Class Role Tier  Score  Trend  Win %  Role %  Pick %  Ban %  \\\n",
       "1      Ahri      Mage  MID    A  52.62  -2.26  49.64   91.71    5.37   2.28   \n",
       "2     Akali  Assassin  MID    S  61.16  -4.15  48.46   75.48    9.39  15.86   \n",
       "4    Akshan  Marksman  MID    A  49.05  -0.97  51.55   64.06    2.49   3.87   \n",
       "9    Anivia      Mage  MID    A  50.12  -0.46  51.53   76.09    1.92   1.78   \n",
       "11    Annie      Mage  MID    B  44.34   1.40  49.95   75.60    1.30   0.49   \n",
       "..      ...       ...  ...  ...    ...    ...    ...     ...     ...    ...   \n",
       "235    Yone  Assassin  MID    S  61.43  -3.39  50.60   62.97    9.30  11.43   \n",
       "241     Zed  Assassin  MID  God  87.21  -4.61  49.89   73.36   12.43  47.72   \n",
       "244   Ziggs      Mage  MID    B  48.01   1.73  51.68   52.33    1.41   0.34   \n",
       "247  Zilean   Support  MID    A  54.98   4.06  54.42   12.95    0.53   1.78   \n",
       "249     Zoe      Mage  MID    B  46.03   0.43  48.15   82.83    3.19   1.21   \n",
       "\n",
       "      KDA  \n",
       "1    2.40  \n",
       "2    2.30  \n",
       "4    2.18  \n",
       "9    2.69  \n",
       "11   2.22  \n",
       "..    ...  \n",
       "235  1.89  \n",
       "241  2.22  \n",
       "244  2.40  \n",
       "247  3.39  \n",
       "249  2.40  \n",
       "\n",
       "[62 rows x 11 columns]"
      ]
     },
     "execution_count": 26,
     "metadata": {},
     "output_type": "execute_result"
    }
   ],
   "source": [
    "# Filtramos con máscara para saber aquellos personajes cuyo rol es MID en ambos parches\n",
    "\n",
    "p1_mid=p1.loc[p1[\"Role\"]== \"MID\"]\n",
    "p13_mid=p13.loc[p13[\"Role\"]== \"MID\"]\n",
    "p23_mid=p23.loc[p23[\"Role\"] == \"MID\"]\n",
    "p23_mid"
   ]
  },
  {
   "cell_type": "code",
   "execution_count": 27,
   "metadata": {},
   "outputs": [
    {
     "data": {
      "text/html": [
       "<div>\n",
       "<style scoped>\n",
       "    .dataframe tbody tr th:only-of-type {\n",
       "        vertical-align: middle;\n",
       "    }\n",
       "\n",
       "    .dataframe tbody tr th {\n",
       "        vertical-align: top;\n",
       "    }\n",
       "\n",
       "    .dataframe thead th {\n",
       "        text-align: right;\n",
       "    }\n",
       "</style>\n",
       "<table border=\"1\" class=\"dataframe\">\n",
       "  <thead>\n",
       "    <tr style=\"text-align: right;\">\n",
       "      <th></th>\n",
       "      <th>Name</th>\n",
       "      <th>Class</th>\n",
       "      <th>Role</th>\n",
       "      <th>Tier</th>\n",
       "      <th>Score</th>\n",
       "      <th>Trend</th>\n",
       "      <th>Win %</th>\n",
       "      <th>Role %</th>\n",
       "      <th>Pick %</th>\n",
       "      <th>Ban %</th>\n",
       "      <th>KDA</th>\n",
       "    </tr>\n",
       "  </thead>\n",
       "  <tbody>\n",
       "    <tr>\n",
       "      <th>241</th>\n",
       "      <td>Zed</td>\n",
       "      <td>Assassin</td>\n",
       "      <td>MID</td>\n",
       "      <td>God</td>\n",
       "      <td>87.21</td>\n",
       "      <td>-4.61</td>\n",
       "      <td>49.89</td>\n",
       "      <td>73.36</td>\n",
       "      <td>12.43</td>\n",
       "      <td>47.72</td>\n",
       "      <td>2.22</td>\n",
       "    </tr>\n",
       "    <tr>\n",
       "      <th>232</th>\n",
       "      <td>Yasuo</td>\n",
       "      <td>Fighter</td>\n",
       "      <td>MID</td>\n",
       "      <td>S</td>\n",
       "      <td>68.71</td>\n",
       "      <td>-3.04</td>\n",
       "      <td>49.39</td>\n",
       "      <td>69.55</td>\n",
       "      <td>12.59</td>\n",
       "      <td>19.16</td>\n",
       "      <td>1.70</td>\n",
       "    </tr>\n",
       "    <tr>\n",
       "      <th>84</th>\n",
       "      <td>Kassadin</td>\n",
       "      <td>Assassin</td>\n",
       "      <td>MID</td>\n",
       "      <td>S</td>\n",
       "      <td>62.01</td>\n",
       "      <td>7.71</td>\n",
       "      <td>52.61</td>\n",
       "      <td>96.64</td>\n",
       "      <td>6.69</td>\n",
       "      <td>11.02</td>\n",
       "      <td>2.56</td>\n",
       "    </tr>\n",
       "    <tr>\n",
       "      <th>235</th>\n",
       "      <td>Yone</td>\n",
       "      <td>Assassin</td>\n",
       "      <td>MID</td>\n",
       "      <td>S</td>\n",
       "      <td>61.43</td>\n",
       "      <td>-3.39</td>\n",
       "      <td>50.60</td>\n",
       "      <td>62.97</td>\n",
       "      <td>9.30</td>\n",
       "      <td>11.43</td>\n",
       "      <td>1.89</td>\n",
       "    </tr>\n",
       "    <tr>\n",
       "      <th>184</th>\n",
       "      <td>Sylas</td>\n",
       "      <td>Mage</td>\n",
       "      <td>MID</td>\n",
       "      <td>S</td>\n",
       "      <td>61.27</td>\n",
       "      <td>-6.41</td>\n",
       "      <td>50.12</td>\n",
       "      <td>44.63</td>\n",
       "      <td>8.48</td>\n",
       "      <td>17.41</td>\n",
       "      <td>2.11</td>\n",
       "    </tr>\n",
       "    <tr>\n",
       "      <th>...</th>\n",
       "      <td>...</td>\n",
       "      <td>...</td>\n",
       "      <td>...</td>\n",
       "      <td>...</td>\n",
       "      <td>...</td>\n",
       "      <td>...</td>\n",
       "      <td>...</td>\n",
       "      <td>...</td>\n",
       "      <td>...</td>\n",
       "      <td>...</td>\n",
       "      <td>...</td>\n",
       "    </tr>\n",
       "    <tr>\n",
       "      <th>22</th>\n",
       "      <td>Brand</td>\n",
       "      <td>Mage</td>\n",
       "      <td>MID</td>\n",
       "      <td>B</td>\n",
       "      <td>41.94</td>\n",
       "      <td>-3.46</td>\n",
       "      <td>49.74</td>\n",
       "      <td>13.23</td>\n",
       "      <td>0.78</td>\n",
       "      <td>5.49</td>\n",
       "      <td>1.96</td>\n",
       "    </tr>\n",
       "    <tr>\n",
       "      <th>140</th>\n",
       "      <td>Qiyana</td>\n",
       "      <td>Assassin</td>\n",
       "      <td>MID</td>\n",
       "      <td>B</td>\n",
       "      <td>41.54</td>\n",
       "      <td>-1.16</td>\n",
       "      <td>46.67</td>\n",
       "      <td>79.70</td>\n",
       "      <td>2.96</td>\n",
       "      <td>1.12</td>\n",
       "      <td>2.01</td>\n",
       "    </tr>\n",
       "    <tr>\n",
       "      <th>158</th>\n",
       "      <td>Ryze</td>\n",
       "      <td>Mage</td>\n",
       "      <td>MID</td>\n",
       "      <td>B</td>\n",
       "      <td>40.93</td>\n",
       "      <td>-5.80</td>\n",
       "      <td>46.23</td>\n",
       "      <td>82.74</td>\n",
       "      <td>2.83</td>\n",
       "      <td>0.27</td>\n",
       "      <td>2.09</td>\n",
       "    </tr>\n",
       "    <tr>\n",
       "      <th>202</th>\n",
       "      <td>Twisted Fate</td>\n",
       "      <td>Mage</td>\n",
       "      <td>MID</td>\n",
       "      <td>C</td>\n",
       "      <td>40.26</td>\n",
       "      <td>0.56</td>\n",
       "      <td>46.94</td>\n",
       "      <td>86.01</td>\n",
       "      <td>1.90</td>\n",
       "      <td>0.11</td>\n",
       "      <td>2.09</td>\n",
       "    </tr>\n",
       "    <tr>\n",
       "      <th>17</th>\n",
       "      <td>Azir</td>\n",
       "      <td>Mage</td>\n",
       "      <td>MID</td>\n",
       "      <td>C</td>\n",
       "      <td>37.89</td>\n",
       "      <td>-2.50</td>\n",
       "      <td>45.21</td>\n",
       "      <td>87.01</td>\n",
       "      <td>2.46</td>\n",
       "      <td>0.73</td>\n",
       "      <td>1.91</td>\n",
       "    </tr>\n",
       "  </tbody>\n",
       "</table>\n",
       "<p>62 rows × 11 columns</p>\n",
       "</div>"
      ],
      "text/plain": [
       "             Name     Class Role Tier  Score  Trend  Win %  Role %  Pick %  \\\n",
       "241           Zed  Assassin  MID  God  87.21  -4.61  49.89   73.36   12.43   \n",
       "232         Yasuo   Fighter  MID    S  68.71  -3.04  49.39   69.55   12.59   \n",
       "84       Kassadin  Assassin  MID    S  62.01   7.71  52.61   96.64    6.69   \n",
       "235          Yone  Assassin  MID    S  61.43  -3.39  50.60   62.97    9.30   \n",
       "184         Sylas      Mage  MID    S  61.27  -6.41  50.12   44.63    8.48   \n",
       "..            ...       ...  ...  ...    ...    ...    ...     ...     ...   \n",
       "22          Brand      Mage  MID    B  41.94  -3.46  49.74   13.23    0.78   \n",
       "140        Qiyana  Assassin  MID    B  41.54  -1.16  46.67   79.70    2.96   \n",
       "158          Ryze      Mage  MID    B  40.93  -5.80  46.23   82.74    2.83   \n",
       "202  Twisted Fate      Mage  MID    C  40.26   0.56  46.94   86.01    1.90   \n",
       "17           Azir      Mage  MID    C  37.89  -2.50  45.21   87.01    2.46   \n",
       "\n",
       "     Ban %   KDA  \n",
       "241  47.72  2.22  \n",
       "232  19.16  1.70  \n",
       "84   11.02  2.56  \n",
       "235  11.43  1.89  \n",
       "184  17.41  2.11  \n",
       "..     ...   ...  \n",
       "22    5.49  1.96  \n",
       "140   1.12  2.01  \n",
       "158   0.27  2.09  \n",
       "202   0.11  2.09  \n",
       "17    0.73  1.91  \n",
       "\n",
       "[62 rows x 11 columns]"
      ]
     },
     "execution_count": 27,
     "metadata": {},
     "output_type": "execute_result"
    }
   ],
   "source": [
    "# Ordenamos la columna Score para ver de arriba a abajo los valores.\n",
    "\n",
    "p1_mid=p1_mid.sort_values(\"Score\", ascending=False)\n",
    "p13_mid=p13_mid.sort_values(\"Score\", ascending=False)\n",
    "p23_mid=p23_mid.sort_values(\"Score\", ascending=False)\n",
    "p23_mid"
   ]
  },
  {
   "cell_type": "code",
   "execution_count": 28,
   "metadata": {},
   "outputs": [
    {
     "data": {
      "text/html": [
       "<div>\n",
       "<style scoped>\n",
       "    .dataframe tbody tr th:only-of-type {\n",
       "        vertical-align: middle;\n",
       "    }\n",
       "\n",
       "    .dataframe tbody tr th {\n",
       "        vertical-align: top;\n",
       "    }\n",
       "\n",
       "    .dataframe thead th {\n",
       "        text-align: right;\n",
       "    }\n",
       "</style>\n",
       "<table border=\"1\" class=\"dataframe\">\n",
       "  <thead>\n",
       "    <tr style=\"text-align: right;\">\n",
       "      <th></th>\n",
       "      <th>Name</th>\n",
       "      <th>Class</th>\n",
       "      <th>Role</th>\n",
       "      <th>Tier</th>\n",
       "      <th>Score</th>\n",
       "      <th>Trend</th>\n",
       "      <th>Win %</th>\n",
       "      <th>Role %</th>\n",
       "      <th>Pick %</th>\n",
       "      <th>Ban %</th>\n",
       "      <th>KDA</th>\n",
       "    </tr>\n",
       "  </thead>\n",
       "  <tbody>\n",
       "    <tr>\n",
       "      <th>224</th>\n",
       "      <td>Zed</td>\n",
       "      <td>Assassin</td>\n",
       "      <td>MID</td>\n",
       "      <td>God</td>\n",
       "      <td>90.50</td>\n",
       "      <td>-0.27</td>\n",
       "      <td>50.87</td>\n",
       "      <td>67.21</td>\n",
       "      <td>8.84</td>\n",
       "      <td>41.88</td>\n",
       "      <td>2.31</td>\n",
       "    </tr>\n",
       "    <tr>\n",
       "      <th>216</th>\n",
       "      <td>Yasuo</td>\n",
       "      <td>Fighter</td>\n",
       "      <td>MID</td>\n",
       "      <td>God</td>\n",
       "      <td>86.16</td>\n",
       "      <td>-0.04</td>\n",
       "      <td>49.56</td>\n",
       "      <td>71.44</td>\n",
       "      <td>11.77</td>\n",
       "      <td>24.41</td>\n",
       "      <td>1.74</td>\n",
       "    </tr>\n",
       "    <tr>\n",
       "      <th>202</th>\n",
       "      <td>Viktor</td>\n",
       "      <td>Mage</td>\n",
       "      <td>MID</td>\n",
       "      <td>God</td>\n",
       "      <td>81.46</td>\n",
       "      <td>-0.14</td>\n",
       "      <td>51.10</td>\n",
       "      <td>84.98</td>\n",
       "      <td>10.55</td>\n",
       "      <td>16.00</td>\n",
       "      <td>2.35</td>\n",
       "    </tr>\n",
       "    <tr>\n",
       "      <th>198</th>\n",
       "      <td>Vex</td>\n",
       "      <td>Mage</td>\n",
       "      <td>MID</td>\n",
       "      <td>God</td>\n",
       "      <td>76.85</td>\n",
       "      <td>10.71</td>\n",
       "      <td>50.76</td>\n",
       "      <td>84.52</td>\n",
       "      <td>9.15</td>\n",
       "      <td>19.25</td>\n",
       "      <td>2.48</td>\n",
       "    </tr>\n",
       "    <tr>\n",
       "      <th>219</th>\n",
       "      <td>Yone</td>\n",
       "      <td>Assassin</td>\n",
       "      <td>MID</td>\n",
       "      <td>S</td>\n",
       "      <td>74.16</td>\n",
       "      <td>-7.47</td>\n",
       "      <td>48.42</td>\n",
       "      <td>60.52</td>\n",
       "      <td>9.35</td>\n",
       "      <td>27.32</td>\n",
       "      <td>1.84</td>\n",
       "    </tr>\n",
       "  </tbody>\n",
       "</table>\n",
       "</div>"
      ],
      "text/plain": [
       "       Name     Class Role Tier  Score  Trend  Win %  Role %  Pick %  Ban %  \\\n",
       "224     Zed  Assassin  MID  God  90.50  -0.27  50.87   67.21    8.84  41.88   \n",
       "216   Yasuo   Fighter  MID  God  86.16  -0.04  49.56   71.44   11.77  24.41   \n",
       "202  Viktor      Mage  MID  God  81.46  -0.14  51.10   84.98   10.55  16.00   \n",
       "198     Vex      Mage  MID  God  76.85  10.71  50.76   84.52    9.15  19.25   \n",
       "219    Yone  Assassin  MID    S  74.16  -7.47  48.42   60.52    9.35  27.32   \n",
       "\n",
       "      KDA  \n",
       "224  2.31  \n",
       "216  1.74  \n",
       "202  2.35  \n",
       "198  2.48  \n",
       "219  1.84  "
      ]
     },
     "execution_count": 28,
     "metadata": {},
     "output_type": "execute_result"
    }
   ],
   "source": [
    "# Cogemos la cabecera, lo cual incluye los 5 con más valor en la columna score\n",
    "\n",
    "p1_mid=p1_mid.head()\n",
    "p13_mid=p13_mid.head()\n",
    "p23_mid=p23_mid.head()\n",
    "p1_mid"
   ]
  },
  {
   "attachments": {},
   "cell_type": "markdown",
   "metadata": {},
   "source": [
    "### Vamos a mostrar un gráfico con dichas variaciones"
   ]
  },
  {
   "cell_type": "code",
   "execution_count": 29,
   "metadata": {},
   "outputs": [],
   "source": [
    "# Seleccionamos las columnas que queremos\n",
    "\n",
    "p1_mid=p1_mid.iloc[:,[0,4]]\n",
    "p13_mid=p13_mid.iloc[:,[0,4]]\n",
    "p23_mid=p23_mid.iloc[:,[0,4]]"
   ]
  },
  {
   "cell_type": "code",
   "execution_count": 30,
   "metadata": {},
   "outputs": [
    {
     "data": {
      "image/png": "[encoded data removed]",
      "text/plain": [
       "<Figure size 640x480 with 1 Axes>"
      ]
     },
     "metadata": {},
     "output_type": "display_data"
    }
   ],
   "source": [
    "fig, ax = plt.subplots()\n",
    "\n",
    "ax.scatter(p1_mid['Name'], p1_mid['Score'], label='Parche 1')\n",
    "ax.scatter(p13_mid['Name'], p13_mid['Score'], label='Parche 13')\n",
    "ax.scatter(p23_mid['Name'], p23_mid['Score'], label='Parche 23')\n",
    "\n",
    "ax.set_xlabel(\"Name\")\n",
    "ax.set_ylabel(\"Score\")\n",
    "ax.set_title(\"Variación TOP 5 MIDLANERS\")\n",
    "\n",
    "ax.legend()\n",
    "\n",
    "plt.show()\n",
    "\n",
    "\n",
    "\n",
    "\n"
   ]
  },
  {
   "attachments": {},
   "cell_type": "markdown",
   "metadata": {},
   "source": [
    "#### Como podemos observar se produce una gran variación, ya que hemos incluido todos los personajes que aparecían en los 3 Top5 y vemos como hay personajes que no aparecen en todos y que además varios de ellos muestran gran cambio en sus puntuaciones."
   ]
  },
  {
   "attachments": {},
   "cell_type": "markdown",
   "metadata": {},
   "source": [
    "# Procedemos a mostrar como comentamos al principio, el por qué las filas cambian de un parche a otro."
   ]
  },
  {
   "cell_type": "code",
   "execution_count": 31,
   "metadata": {},
   "outputs": [
    {
     "data": {
      "text/html": [
       "<div>\n",
       "<style scoped>\n",
       "    .dataframe tbody tr th:only-of-type {\n",
       "        vertical-align: middle;\n",
       "    }\n",
       "\n",
       "    .dataframe tbody tr th {\n",
       "        vertical-align: top;\n",
       "    }\n",
       "\n",
       "    .dataframe thead th {\n",
       "        text-align: right;\n",
       "    }\n",
       "</style>\n",
       "<table border=\"1\" class=\"dataframe\">\n",
       "  <thead>\n",
       "    <tr style=\"text-align: right;\">\n",
       "      <th></th>\n",
       "      <th>Name</th>\n",
       "    </tr>\n",
       "  </thead>\n",
       "  <tbody>\n",
       "    <tr>\n",
       "      <th>0</th>\n",
       "      <td>Aatrox</td>\n",
       "    </tr>\n",
       "    <tr>\n",
       "      <th>1</th>\n",
       "      <td>Ahri</td>\n",
       "    </tr>\n",
       "    <tr>\n",
       "      <th>2</th>\n",
       "      <td>Akali</td>\n",
       "    </tr>\n",
       "    <tr>\n",
       "      <th>3</th>\n",
       "      <td>Akali</td>\n",
       "    </tr>\n",
       "    <tr>\n",
       "      <th>4</th>\n",
       "      <td>Akshan</td>\n",
       "    </tr>\n",
       "    <tr>\n",
       "      <th>...</th>\n",
       "      <td>...</td>\n",
       "    </tr>\n",
       "    <tr>\n",
       "      <th>227</th>\n",
       "      <td>Ziggs</td>\n",
       "    </tr>\n",
       "    <tr>\n",
       "      <th>228</th>\n",
       "      <td>Zilean</td>\n",
       "    </tr>\n",
       "    <tr>\n",
       "      <th>229</th>\n",
       "      <td>Zilean</td>\n",
       "    </tr>\n",
       "    <tr>\n",
       "      <th>230</th>\n",
       "      <td>Zoe</td>\n",
       "    </tr>\n",
       "    <tr>\n",
       "      <th>231</th>\n",
       "      <td>Zyra</td>\n",
       "    </tr>\n",
       "  </tbody>\n",
       "</table>\n",
       "<p>232 rows × 1 columns</p>\n",
       "</div>"
      ],
      "text/plain": [
       "       Name\n",
       "0    Aatrox\n",
       "1      Ahri\n",
       "2     Akali\n",
       "3     Akali\n",
       "4    Akshan\n",
       "..      ...\n",
       "227   Ziggs\n",
       "228  Zilean\n",
       "229  Zilean\n",
       "230     Zoe\n",
       "231    Zyra\n",
       "\n",
       "[232 rows x 1 columns]"
      ]
     },
     "execution_count": 31,
     "metadata": {},
     "output_type": "execute_result"
    }
   ],
   "source": [
    "# Sacamos las filas que se encuentran en la columna Name del p1\n",
    "\n",
    "# pd.set_option('display.max_rows', 20)\n",
    "\n",
    "names1=p1.copy()\n",
    "\n",
    "names1=names1[[\"Name\"]]\n",
    "\n",
    "names1"
   ]
  },
  {
   "cell_type": "code",
   "execution_count": 32,
   "metadata": {},
   "outputs": [
    {
     "data": {
      "text/html": [
       "<div>\n",
       "<style scoped>\n",
       "    .dataframe tbody tr th:only-of-type {\n",
       "        vertical-align: middle;\n",
       "    }\n",
       "\n",
       "    .dataframe tbody tr th {\n",
       "        vertical-align: top;\n",
       "    }\n",
       "\n",
       "    .dataframe thead th {\n",
       "        text-align: right;\n",
       "    }\n",
       "</style>\n",
       "<table border=\"1\" class=\"dataframe\">\n",
       "  <thead>\n",
       "    <tr style=\"text-align: right;\">\n",
       "      <th></th>\n",
       "      <th>Name</th>\n",
       "    </tr>\n",
       "  </thead>\n",
       "  <tbody>\n",
       "    <tr>\n",
       "      <th>0</th>\n",
       "      <td>Aatrox</td>\n",
       "    </tr>\n",
       "    <tr>\n",
       "      <th>1</th>\n",
       "      <td>Ahri</td>\n",
       "    </tr>\n",
       "    <tr>\n",
       "      <th>2</th>\n",
       "      <td>Akali</td>\n",
       "    </tr>\n",
       "    <tr>\n",
       "      <th>3</th>\n",
       "      <td>Akali</td>\n",
       "    </tr>\n",
       "    <tr>\n",
       "      <th>4</th>\n",
       "      <td>Akshan</td>\n",
       "    </tr>\n",
       "    <tr>\n",
       "      <th>...</th>\n",
       "      <td>...</td>\n",
       "    </tr>\n",
       "    <tr>\n",
       "      <th>235</th>\n",
       "      <td>Ziggs</td>\n",
       "    </tr>\n",
       "    <tr>\n",
       "      <th>236</th>\n",
       "      <td>Zilean</td>\n",
       "    </tr>\n",
       "    <tr>\n",
       "      <th>237</th>\n",
       "      <td>Zilean</td>\n",
       "    </tr>\n",
       "    <tr>\n",
       "      <th>238</th>\n",
       "      <td>Zoe</td>\n",
       "    </tr>\n",
       "    <tr>\n",
       "      <th>239</th>\n",
       "      <td>Zyra</td>\n",
       "    </tr>\n",
       "  </tbody>\n",
       "</table>\n",
       "<p>240 rows × 1 columns</p>\n",
       "</div>"
      ],
      "text/plain": [
       "       Name\n",
       "0    Aatrox\n",
       "1      Ahri\n",
       "2     Akali\n",
       "3     Akali\n",
       "4    Akshan\n",
       "..      ...\n",
       "235   Ziggs\n",
       "236  Zilean\n",
       "237  Zilean\n",
       "238     Zoe\n",
       "239    Zyra\n",
       "\n",
       "[240 rows x 1 columns]"
      ]
     },
     "execution_count": 32,
     "metadata": {},
     "output_type": "execute_result"
    }
   ],
   "source": [
    "# Para p13\n",
    "\n",
    "# pd.set_option('display.max_rows', 20)\n",
    "\n",
    "names13=p13.copy()\n",
    "\n",
    "names13=names13[[\"Name\"]]\n",
    "\n",
    "names13"
   ]
  },
  {
   "cell_type": "code",
   "execution_count": 33,
   "metadata": {},
   "outputs": [
    {
     "data": {
      "text/html": [
       "<div>\n",
       "<style scoped>\n",
       "    .dataframe tbody tr th:only-of-type {\n",
       "        vertical-align: middle;\n",
       "    }\n",
       "\n",
       "    .dataframe tbody tr th {\n",
       "        vertical-align: top;\n",
       "    }\n",
       "\n",
       "    .dataframe thead th {\n",
       "        text-align: right;\n",
       "    }\n",
       "</style>\n",
       "<table border=\"1\" class=\"dataframe\">\n",
       "  <thead>\n",
       "    <tr style=\"text-align: right;\">\n",
       "      <th></th>\n",
       "      <th>Name</th>\n",
       "    </tr>\n",
       "  </thead>\n",
       "  <tbody>\n",
       "    <tr>\n",
       "      <th>0</th>\n",
       "      <td>Aatrox</td>\n",
       "    </tr>\n",
       "    <tr>\n",
       "      <th>1</th>\n",
       "      <td>Ahri</td>\n",
       "    </tr>\n",
       "    <tr>\n",
       "      <th>2</th>\n",
       "      <td>Akali</td>\n",
       "    </tr>\n",
       "    <tr>\n",
       "      <th>3</th>\n",
       "      <td>Akali</td>\n",
       "    </tr>\n",
       "    <tr>\n",
       "      <th>4</th>\n",
       "      <td>Akshan</td>\n",
       "    </tr>\n",
       "    <tr>\n",
       "      <th>...</th>\n",
       "      <td>...</td>\n",
       "    </tr>\n",
       "    <tr>\n",
       "      <th>247</th>\n",
       "      <td>Zilean</td>\n",
       "    </tr>\n",
       "    <tr>\n",
       "      <th>248</th>\n",
       "      <td>Zilean</td>\n",
       "    </tr>\n",
       "    <tr>\n",
       "      <th>249</th>\n",
       "      <td>Zoe</td>\n",
       "    </tr>\n",
       "    <tr>\n",
       "      <th>250</th>\n",
       "      <td>Zoe</td>\n",
       "    </tr>\n",
       "    <tr>\n",
       "      <th>251</th>\n",
       "      <td>Zyra</td>\n",
       "    </tr>\n",
       "  </tbody>\n",
       "</table>\n",
       "<p>252 rows × 1 columns</p>\n",
       "</div>"
      ],
      "text/plain": [
       "       Name\n",
       "0    Aatrox\n",
       "1      Ahri\n",
       "2     Akali\n",
       "3     Akali\n",
       "4    Akshan\n",
       "..      ...\n",
       "247  Zilean\n",
       "248  Zilean\n",
       "249     Zoe\n",
       "250     Zoe\n",
       "251    Zyra\n",
       "\n",
       "[252 rows x 1 columns]"
      ]
     },
     "execution_count": 33,
     "metadata": {},
     "output_type": "execute_result"
    }
   ],
   "source": [
    "# Para p23\n",
    "\n",
    "# pd.set_option('display.max_rows', 20)\n",
    "\n",
    "names23=p23.copy()\n",
    "\n",
    "names23=names23[[\"Name\"]]\n",
    "\n",
    "names23"
   ]
  },
  {
   "attachments": {},
   "cell_type": "markdown",
   "metadata": {},
   "source": [
    "### Hemos sacado a mano todas las veces que salen cada personaje en cada parche, contando los nuevos roles incorporados a algunos personajes y además de ello, los personajes que se han incorporado nuevo.\n",
    "Las razones de que se añadan nuevos roles a personajes suele ser por ítems que se hacen más fuertes en cada parche, por algún buff que le hayan metido a un campeón (hacer más fuerte) y por ello se pueda adaptar bien a ese rol, o bien por el simple hecho de que profesionales del juego, lo hayan jugado en partidos oficiales y hayan mostrado que el potencial es grande.\n",
    "Al igual que se añaden, también se suprimen aquellos roles que en dichos parches sean totalmente inviables.\n",
    "\n",
    "#### Con esto vamos a mostrar sus % de Win Rate, Ban y Pick, para ver como le afectan los nuevos roles incorporados, así como de fuerte están los nuevos champs.\n"
   ]
  },
  {
   "attachments": {},
   "cell_type": "markdown",
   "metadata": {},
   "source": [
    "## Las diferencias que hemos encontrado del parche 13 al 1 son 8 filas de variación (de 232 a 240) y serían las siguientes:\n",
    "- Se le ha añadido roles a Mordekaiser,Nasus, Neeko, Singed, Tahm Kench (2), Taric y Varus.\n",
    "- Se le ha quitado roles a Graves, Gwen,Kled, Senna, Taliyah, Veigar, Vex y Viktor.\n",
    "- Se han añadido Bel'Veth, Nilah, Renata Glasc y Zeri (2)."
   ]
  },
  {
   "cell_type": "code",
   "execution_count": 34,
   "metadata": {},
   "outputs": [
    {
     "data": {
      "text/html": [
       "<div>\n",
       "<style scoped>\n",
       "    .dataframe tbody tr th:only-of-type {\n",
       "        vertical-align: middle;\n",
       "    }\n",
       "\n",
       "    .dataframe tbody tr th {\n",
       "        vertical-align: top;\n",
       "    }\n",
       "\n",
       "    .dataframe thead th {\n",
       "        text-align: right;\n",
       "    }\n",
       "</style>\n",
       "<table border=\"1\" class=\"dataframe\">\n",
       "  <thead>\n",
       "    <tr style=\"text-align: right;\">\n",
       "      <th></th>\n",
       "      <th>Name</th>\n",
       "      <th>Win %</th>\n",
       "      <th>Pick %</th>\n",
       "      <th>Ban %</th>\n",
       "    </tr>\n",
       "  </thead>\n",
       "  <tbody>\n",
       "    <tr>\n",
       "      <th>19</th>\n",
       "      <td>Bel'Veth</td>\n",
       "      <td>51.38</td>\n",
       "      <td>7.65</td>\n",
       "      <td>45.27</td>\n",
       "    </tr>\n",
       "    <tr>\n",
       "      <th>119</th>\n",
       "      <td>Nilah</td>\n",
       "      <td>50.72</td>\n",
       "      <td>14.42</td>\n",
       "      <td>47.92</td>\n",
       "    </tr>\n",
       "    <tr>\n",
       "      <th>139</th>\n",
       "      <td>Renata Glasc</td>\n",
       "      <td>52.87</td>\n",
       "      <td>9.53</td>\n",
       "      <td>9.01</td>\n",
       "    </tr>\n",
       "    <tr>\n",
       "      <th>232</th>\n",
       "      <td>Zeri</td>\n",
       "      <td>49.45</td>\n",
       "      <td>8.41</td>\n",
       "      <td>9.10</td>\n",
       "    </tr>\n",
       "    <tr>\n",
       "      <th>233</th>\n",
       "      <td>Zeri</td>\n",
       "      <td>48.43</td>\n",
       "      <td>1.67</td>\n",
       "      <td>9.10</td>\n",
       "    </tr>\n",
       "  </tbody>\n",
       "</table>\n",
       "</div>"
      ],
      "text/plain": [
       "             Name  Win %  Pick %  Ban %\n",
       "19       Bel'Veth  51.38    7.65  45.27\n",
       "119         Nilah  50.72   14.42  47.92\n",
       "139  Renata Glasc  52.87    9.53   9.01\n",
       "232          Zeri  49.45    8.41   9.10\n",
       "233          Zeri  48.43    1.67   9.10"
      ]
     },
     "execution_count": 34,
     "metadata": {},
     "output_type": "execute_result"
    }
   ],
   "source": [
    "# Aún sabiendo que filas se han añadido y cuales quitado, nos vamos a centrar en aquellos personajes nuevos para ver su repercusión .\n",
    "\n",
    "mask1=p13[p13[\"Name\"].isin([\"Bel'Veth\",\"Nilah\",\"Renata Glasc\", \"Zeri\"])]\n",
    "mask1=mask1.iloc[:,[0,6,8,9]]\n",
    "mask1"
   ]
  },
  {
   "cell_type": "code",
   "execution_count": 35,
   "metadata": {},
   "outputs": [
    {
     "data": {
      "application/vnd.plotly.v1+json": {
       "config": {
        "plotlyServerURL": "https://plot.ly"
       },
       "data": [
        {
         "marker": {
          "color": "rgba(255, 174, 255, 0.5)",
          "line": {
           "color": "rgb(0,0,0)",
           "width": 1.5
          }
         },
         "name": "Win %",
         "text": [
          51.38,
          50.72,
          52.87,
          49.45,
          48.43
         ],
         "type": "bar",
         "x": [
          "Bel'Veth",
          "Nilah",
          "Renata Glasc",
          "Zeri",
          "Zeri"
         ],
         "y": [
          51.38,
          50.72,
          52.87,
          49.45,
          48.43
         ]
        },
        {
         "marker": {
          "color": "rgba(255, 255, 128, 0.5)",
          "line": {
           "color": "rgb(0,0,0)",
           "width": 1.5
          }
         },
         "name": "Pick %",
         "text": [
          7.65,
          14.42,
          9.53,
          8.41,
          1.67
         ],
         "type": "bar",
         "x": [
          "Bel'Veth",
          "Nilah",
          "Renata Glasc",
          "Zeri",
          "Zeri"
         ],
         "y": [
          7.65,
          14.42,
          9.53,
          8.41,
          1.67
         ]
        },
        {
         "marker": {
          "color": "rgba(140, 230, 50, 0.5)",
          "line": {
           "color": "rgb(0,0,0)",
           "width": 1.5
          }
         },
         "name": "Ban %",
         "text": [
          45.27,
          47.92,
          9.01,
          9.1,
          9.1
         ],
         "type": "bar",
         "x": [
          "Bel'Veth",
          "Nilah",
          "Renata Glasc",
          "Zeri",
          "Zeri"
         ],
         "y": [
          45.27,
          47.92,
          9.01,
          9.1,
          9.1
         ]
        }
       ],
       "layout": {
        "barmode": "group",
        "template": {
         "data": {
          "bar": [
           {
            "error_x": {
             "color": "#2a3f5f"
            },
            "error_y": {
             "color": "#2a3f5f"
            },
            "marker": {
             "line": {
              "color": "#E5ECF6",
              "width": 0.5
             },
             "pattern": {
              "fillmode": "overlay",
              "size": 10,
              "solidity": 0.2
             }
            },
            "type": "bar"
           }
          ],
          "barpolar": [
           {
            "marker": {
             "line": {
              "color": "#E5ECF6",
              "width": 0.5
             },
             "pattern": {
              "fillmode": "overlay",
              "size": 10,
              "solidity": 0.2
             }
            },
            "type": "barpolar"
           }
          ],
          "carpet": [
           {
            "aaxis": {
             "endlinecolor": "#2a3f5f",
             "gridcolor": "white",
             "linecolor": "white",
             "minorgridcolor": "white",
             "startlinecolor": "#2a3f5f"
            },
            "baxis": {
             "endlinecolor": "#2a3f5f",
             "gridcolor": "white",
             "linecolor": "white",
             "minorgridcolor": "white",
             "startlinecolor": "#2a3f5f"
            },
            "type": "carpet"
           }
          ],
          "choropleth": [
           {
            "colorbar": {
             "outlinewidth": 0,
             "ticks": ""
            },
            "type": "choropleth"
           }
          ],
          "contour": [
           {
            "colorbar": {
             "outlinewidth": 0,
             "ticks": ""
            },
            "colorscale": [
             [
              0,
              "#0d0887"
             ],
             [
              0.1111111111111111,
              "#46039f"
             ],
             [
              0.2222222222222222,
              "#7201a8"
             ],
             [
              0.3333333333333333,
              "#9c179e"
             ],
             [
              0.4444444444444444,
              "#bd3786"
             ],
             [
              0.5555555555555556,
              "#d8576b"
             ],
             [
              0.6666666666666666,
              "#ed7953"
             ],
             [
              0.7777777777777778,
              "#fb9f3a"
             ],
             [
              0.8888888888888888,
              "#fdca26"
             ],
             [
              1,
              "#f0f921"
             ]
            ],
            "type": "contour"
           }
          ],
          "contourcarpet": [
           {
            "colorbar": {
             "outlinewidth": 0,
             "ticks": ""
            },
            "type": "contourcarpet"
           }
          ],
          "heatmap": [
           {
            "colorbar": {
             "outlinewidth": 0,
             "ticks": ""
            },
            "colorscale": [
             [
              0,
              "#0d0887"
             ],
             [
              0.1111111111111111,
              "#46039f"
             ],
             [
              0.2222222222222222,
              "#7201a8"
             ],
             [
              0.3333333333333333,
              "#9c179e"
             ],
             [
              0.4444444444444444,
              "#bd3786"
             ],
             [
              0.5555555555555556,
              "#d8576b"
             ],
             [
              0.6666666666666666,
              "#ed7953"
             ],
             [
              0.7777777777777778,
              "#fb9f3a"
             ],
             [
              0.8888888888888888,
              "#fdca26"
             ],
             [
              1,
              "#f0f921"
             ]
            ],
            "type": "heatmap"
           }
          ],
          "heatmapgl": [
           {
            "colorbar": {
             "outlinewidth": 0,
             "ticks": ""
            },
            "colorscale": [
             [
              0,
              "#0d0887"
             ],
             [
              0.1111111111111111,
              "#46039f"
             ],
             [
              0.2222222222222222,
              "#7201a8"
             ],
             [
              0.3333333333333333,
              "#9c179e"
             ],
             [
              0.4444444444444444,
              "#bd3786"
             ],
             [
              0.5555555555555556,
              "#d8576b"
             ],
             [
              0.6666666666666666,
              "#ed7953"
             ],
             [
              0.7777777777777778,
              "#fb9f3a"
             ],
             [
              0.8888888888888888,
              "#fdca26"
             ],
             [
              1,
              "#f0f921"
             ]
            ],
            "type": "heatmapgl"
           }
          ],
          "histogram": [
           {
            "marker": {
             "pattern": {
              "fillmode": "overlay",
              "size": 10,
              "solidity": 0.2
             }
            },
            "type": "histogram"
           }
          ],
          "histogram2d": [
           {
            "colorbar": {
             "outlinewidth": 0,
             "ticks": ""
            },
            "colorscale": [
             [
              0,
              "#0d0887"
             ],
             [
              0.1111111111111111,
              "#46039f"
             ],
             [
              0.2222222222222222,
              "#7201a8"
             ],
             [
              0.3333333333333333,
              "#9c179e"
             ],
             [
              0.4444444444444444,
              "#bd3786"
             ],
             [
              0.5555555555555556,
              "#d8576b"
             ],
             [
              0.6666666666666666,
              "#ed7953"
             ],
             [
              0.7777777777777778,
              "#fb9f3a"
             ],
             [
              0.8888888888888888,
              "#fdca26"
             ],
             [
              1,
              "#f0f921"
             ]
            ],
            "type": "histogram2d"
           }
          ],
          "histogram2dcontour": [
           {
            "colorbar": {
             "outlinewidth": 0,
             "ticks": ""
            },
            "colorscale": [
             [
              0,
              "#0d0887"
             ],
             [
              0.1111111111111111,
              "#46039f"
             ],
             [
              0.2222222222222222,
              "#7201a8"
             ],
             [
              0.3333333333333333,
              "#9c179e"
             ],
             [
              0.4444444444444444,
              "#bd3786"
             ],
             [
              0.5555555555555556,
              "#d8576b"
             ],
             [
              0.6666666666666666,
              "#ed7953"
             ],
             [
              0.7777777777777778,
              "#fb9f3a"
             ],
             [
              0.8888888888888888,
              "#fdca26"
             ],
             [
              1,
              "#f0f921"
             ]
            ],
            "type": "histogram2dcontour"
           }
          ],
          "mesh3d": [
           {
            "colorbar": {
             "outlinewidth": 0,
             "ticks": ""
            },
            "type": "mesh3d"
           }
          ],
          "parcoords": [
           {
            "line": {
             "colorbar": {
              "outlinewidth": 0,
              "ticks": ""
             }
            },
            "type": "parcoords"
           }
          ],
          "pie": [
           {
            "automargin": true,
            "type": "pie"
           }
          ],
          "scatter": [
           {
            "fillpattern": {
             "fillmode": "overlay",
             "size": 10,
             "solidity": 0.2
            },
            "type": "scatter"
           }
          ],
          "scatter3d": [
           {
            "line": {
             "colorbar": {
              "outlinewidth": 0,
              "ticks": ""
             }
            },
            "marker": {
             "colorbar": {
              "outlinewidth": 0,
              "ticks": ""
             }
            },
            "type": "scatter3d"
           }
          ],
          "scattercarpet": [
           {
            "marker": {
             "colorbar": {
              "outlinewidth": 0,
              "ticks": ""
             }
            },
            "type": "scattercarpet"
           }
          ],
          "scattergeo": [
           {
            "marker": {
             "colorbar": {
              "outlinewidth": 0,
              "ticks": ""
             }
            },
            "type": "scattergeo"
           }
          ],
          "scattergl": [
           {
            "marker": {
             "colorbar": {
              "outlinewidth": 0,
              "ticks": ""
             }
            },
            "type": "scattergl"
           }
          ],
          "scattermapbox": [
           {
            "marker": {
             "colorbar": {
              "outlinewidth": 0,
              "ticks": ""
             }
            },
            "type": "scattermapbox"
           }
          ],
          "scatterpolar": [
           {
            "marker": {
             "colorbar": {
              "outlinewidth": 0,
              "ticks": ""
             }
            },
            "type": "scatterpolar"
           }
          ],
          "scatterpolargl": [
           {
            "marker": {
             "colorbar": {
              "outlinewidth": 0,
              "ticks": ""
             }
            },
            "type": "scatterpolargl"
           }
          ],
          "scatterternary": [
           {
            "marker": {
             "colorbar": {
              "outlinewidth": 0,
              "ticks": ""
             }
            },
            "type": "scatterternary"
           }
          ],
          "surface": [
           {
            "colorbar": {
             "outlinewidth": 0,
             "ticks": ""
            },
            "colorscale": [
             [
              0,
              "#0d0887"
             ],
             [
              0.1111111111111111,
              "#46039f"
             ],
             [
              0.2222222222222222,
              "#7201a8"
             ],
             [
              0.3333333333333333,
              "#9c179e"
             ],
             [
              0.4444444444444444,
              "#bd3786"
             ],
             [
              0.5555555555555556,
              "#d8576b"
             ],
             [
              0.6666666666666666,
              "#ed7953"
             ],
             [
              0.7777777777777778,
              "#fb9f3a"
             ],
             [
              0.8888888888888888,
              "#fdca26"
             ],
             [
              1,
              "#f0f921"
             ]
            ],
            "type": "surface"
           }
          ],
          "table": [
           {
            "cells": {
             "fill": {
              "color": "#EBF0F8"
             },
             "line": {
              "color": "white"
             }
            },
            "header": {
             "fill": {
              "color": "#C8D4E3"
             },
             "line": {
              "color": "white"
             }
            },
            "type": "table"
           }
          ]
         },
         "layout": {
          "annotationdefaults": {
           "arrowcolor": "#2a3f5f",
           "arrowhead": 0,
           "arrowwidth": 1
          },
          "autotypenumbers": "strict",
          "coloraxis": {
           "colorbar": {
            "outlinewidth": 0,
            "ticks": ""
           }
          },
          "colorscale": {
           "diverging": [
            [
             0,
             "#8e0152"
            ],
            [
             0.1,
             "#c51b7d"
            ],
            [
             0.2,
             "#de77ae"
            ],
            [
             0.3,
             "#f1b6da"
            ],
            [
             0.4,
             "#fde0ef"
            ],
            [
             0.5,
             "#f7f7f7"
            ],
            [
             0.6,
             "#e6f5d0"
            ],
            [
             0.7,
             "#b8e186"
            ],
            [
             0.8,
             "#7fbc41"
            ],
            [
             0.9,
             "#4d9221"
            ],
            [
             1,
             "#276419"
            ]
           ],
           "sequential": [
            [
             0,
             "#0d0887"
            ],
            [
             0.1111111111111111,
             "#46039f"
            ],
            [
             0.2222222222222222,
             "#7201a8"
            ],
            [
             0.3333333333333333,
             "#9c179e"
            ],
            [
             0.4444444444444444,
             "#bd3786"
            ],
            [
             0.5555555555555556,
             "#d8576b"
            ],
            [
             0.6666666666666666,
             "#ed7953"
            ],
            [
             0.7777777777777778,
             "#fb9f3a"
            ],
            [
             0.8888888888888888,
             "#fdca26"
            ],
            [
             1,
             "#f0f921"
            ]
           ],
           "sequentialminus": [
            [
             0,
             "#0d0887"
            ],
            [
             0.1111111111111111,
             "#46039f"
            ],
            [
             0.2222222222222222,
             "#7201a8"
            ],
            [
             0.3333333333333333,
             "#9c179e"
            ],
            [
             0.4444444444444444,
             "#bd3786"
            ],
            [
             0.5555555555555556,
             "#d8576b"
            ],
            [
             0.6666666666666666,
             "#ed7953"
            ],
            [
             0.7777777777777778,
             "#fb9f3a"
            ],
            [
             0.8888888888888888,
             "#fdca26"
            ],
            [
             1,
             "#f0f921"
            ]
           ]
          },
          "colorway": [
           "#636efa",
           "#EF553B",
           "#00cc96",
           "#ab63fa",
           "#FFA15A",
           "#19d3f3",
           "#FF6692",
           "#B6E880",
           "#FF97FF",
           "#FECB52"
          ],
          "font": {
           "color": "#2a3f5f"
          },
          "geo": {
           "bgcolor": "white",
           "lakecolor": "white",
           "landcolor": "#E5ECF6",
           "showlakes": true,
           "showland": true,
           "subunitcolor": "white"
          },
          "hoverlabel": {
           "align": "left"
          },
          "hovermode": "closest",
          "mapbox": {
           "style": "light"
          },
          "paper_bgcolor": "white",
          "plot_bgcolor": "#E5ECF6",
          "polar": {
           "angularaxis": {
            "gridcolor": "white",
            "linecolor": "white",
            "ticks": ""
           },
           "bgcolor": "#E5ECF6",
           "radialaxis": {
            "gridcolor": "white",
            "linecolor": "white",
            "ticks": ""
           }
          },
          "scene": {
           "xaxis": {
            "backgroundcolor": "#E5ECF6",
            "gridcolor": "white",
            "gridwidth": 2,
            "linecolor": "white",
            "showbackground": true,
            "ticks": "",
            "zerolinecolor": "white"
           },
           "yaxis": {
            "backgroundcolor": "#E5ECF6",
            "gridcolor": "white",
            "gridwidth": 2,
            "linecolor": "white",
            "showbackground": true,
            "ticks": "",
            "zerolinecolor": "white"
           },
           "zaxis": {
            "backgroundcolor": "#E5ECF6",
            "gridcolor": "white",
            "gridwidth": 2,
            "linecolor": "white",
            "showbackground": true,
            "ticks": "",
            "zerolinecolor": "white"
           }
          },
          "shapedefaults": {
           "line": {
            "color": "#2a3f5f"
           }
          },
          "ternary": {
           "aaxis": {
            "gridcolor": "white",
            "linecolor": "white",
            "ticks": ""
           },
           "baxis": {
            "gridcolor": "white",
            "linecolor": "white",
            "ticks": ""
           },
           "bgcolor": "#E5ECF6",
           "caxis": {
            "gridcolor": "white",
            "linecolor": "white",
            "ticks": ""
           }
          },
          "title": {
           "x": 0.05
          },
          "xaxis": {
           "automargin": true,
           "gridcolor": "white",
           "linecolor": "white",
           "ticks": "",
           "title": {
            "standoff": 15
           },
           "zerolinecolor": "white",
           "zerolinewidth": 2
          },
          "yaxis": {
           "automargin": true,
           "gridcolor": "white",
           "linecolor": "white",
           "ticks": "",
           "title": {
            "standoff": 15
           },
           "zerolinecolor": "white",
           "zerolinewidth": 2
          }
         }
        },
        "title": {
         "text": "Estadísticas de cada campeón"
        },
        "xaxis": {
         "title": {
          "text": "Name"
         }
        },
        "yaxis": {
         "title": {
          "text": "Porcentaje"
         }
        }
       }
      }
     },
     "metadata": {},
     "output_type": "display_data"
    }
   ],
   "source": [
    "# Creamos un gráfico de barras para ver aquellas estadísticas principales de los nuevos personajes\n",
    " \n",
    "trace1 = go.Bar(x = mask1[\"Name\"],\n",
    "               y = mask1['Win %'],\n",
    "               name = 'Win %',\n",
    "               marker = dict(color = 'rgba(255, 174, 255, 0.5)',\n",
    "                            line = dict(color='rgb(0,0,0)', width = 1.5)),\n",
    "               text = mask1[\"Win %\"])\n",
    "\n",
    "trace2 = go.Bar(x = mask1[\"Name\"],\n",
    "               y = mask1[\"Pick %\"],\n",
    "               name = 'Pick %',\n",
    "               marker = dict(color = 'rgba(255, 255, 128, 0.5)',\n",
    "                            line = dict(color='rgb(0,0,0)', width = 1.5)),\n",
    "               text = mask1['Pick %'])\n",
    "\n",
    "trace3 = go.Bar(x = mask1[\"Name\"],\n",
    "               y = mask1[\"Ban %\"],\n",
    "               name = 'Ban %',\n",
    "               marker = dict(color = 'rgba(140, 230, 50, 0.5)',\n",
    "                            line = dict(color='rgb(0,0,0)', width = 1.5)),\n",
    "               text = mask1['Ban %'])\n",
    "\n",
    "\n",
    "\n",
    "\n",
    "data = [trace1, trace2, trace3]\n",
    "\n",
    "layout = {\n",
    "    'xaxis': {'title': 'Name'},\n",
    "    'yaxis': {'title': 'Porcentaje'},\n",
    "    'barmode': 'group',\n",
    "    'title': 'Estadísticas de cada campeón'\n",
    "}\n",
    "\n",
    "fig = go.Figure(data = data, layout = layout)\n",
    "\n",
    "fig"
   ]
  },
  {
   "attachments": {},
   "cell_type": "markdown",
   "metadata": {},
   "source": [
    "## Las diferencias que hemos encontrado del parche 23 al 13 son 12 filas de variación (de 240 a 252) y serían las siguientes:\n",
    "- Se le ha añadido roles a Cassiopeia,Fiddlestick, Gragas, Gwen, Kled, Maokai,Poppy, Quinn (2), Shen, Taliyah, Twitch, Vel'Koz,Zed, Ziggs y Zoe.\n",
    "- Se le ha quitado roles a Heimerdinger, Swain, Tahm Kench, Taric y Zeri.\n",
    "- Se ha añadido a K'Sante."
   ]
  },
  {
   "cell_type": "code",
   "execution_count": 36,
   "metadata": {},
   "outputs": [
    {
     "data": {
      "text/html": [
       "<div>\n",
       "<style scoped>\n",
       "    .dataframe tbody tr th:only-of-type {\n",
       "        vertical-align: middle;\n",
       "    }\n",
       "\n",
       "    .dataframe tbody tr th {\n",
       "        vertical-align: top;\n",
       "    }\n",
       "\n",
       "    .dataframe thead th {\n",
       "        text-align: right;\n",
       "    }\n",
       "</style>\n",
       "<table border=\"1\" class=\"dataframe\">\n",
       "  <thead>\n",
       "    <tr style=\"text-align: right;\">\n",
       "      <th></th>\n",
       "      <th>Name</th>\n",
       "      <th>Win %</th>\n",
       "      <th>Pick %</th>\n",
       "      <th>Ban %</th>\n",
       "    </tr>\n",
       "  </thead>\n",
       "  <tbody>\n",
       "    <tr>\n",
       "      <th>19</th>\n",
       "      <td>Bel'Veth</td>\n",
       "      <td>51.20</td>\n",
       "      <td>4.15</td>\n",
       "      <td>12.23</td>\n",
       "    </tr>\n",
       "    <tr>\n",
       "      <th>77</th>\n",
       "      <td>K'Sante</td>\n",
       "      <td>48.94</td>\n",
       "      <td>8.18</td>\n",
       "      <td>15.65</td>\n",
       "    </tr>\n",
       "    <tr>\n",
       "      <th>126</th>\n",
       "      <td>Nilah</td>\n",
       "      <td>54.28</td>\n",
       "      <td>4.33</td>\n",
       "      <td>9.23</td>\n",
       "    </tr>\n",
       "    <tr>\n",
       "      <th>149</th>\n",
       "      <td>Renata Glasc</td>\n",
       "      <td>51.53</td>\n",
       "      <td>4.26</td>\n",
       "      <td>2.72</td>\n",
       "    </tr>\n",
       "    <tr>\n",
       "      <th>243</th>\n",
       "      <td>Zeri</td>\n",
       "      <td>51.48</td>\n",
       "      <td>9.20</td>\n",
       "      <td>3.90</td>\n",
       "    </tr>\n",
       "  </tbody>\n",
       "</table>\n",
       "</div>"
      ],
      "text/plain": [
       "             Name  Win %  Pick %  Ban %\n",
       "19       Bel'Veth  51.20    4.15  12.23\n",
       "77        K'Sante  48.94    8.18  15.65\n",
       "126         Nilah  54.28    4.33   9.23\n",
       "149  Renata Glasc  51.53    4.26   2.72\n",
       "243          Zeri  51.48    9.20   3.90"
      ]
     },
     "execution_count": 36,
     "metadata": {},
     "output_type": "execute_result"
    }
   ],
   "source": [
    "\n",
    "mask2=p23[p23[\"Name\"].isin([\"Bel'Veth\",\"Nilah\",\"Renata Glasc\", \"Zeri\",\"K'Sante\"])]\n",
    "mask2.iloc[:,[0,6,8,9]]"
   ]
  },
  {
   "cell_type": "code",
   "execution_count": 37,
   "metadata": {},
   "outputs": [
    {
     "data": {
      "application/vnd.plotly.v1+json": {
       "config": {
        "plotlyServerURL": "https://plot.ly"
       },
       "data": [
        {
         "marker": {
          "color": "rgba(255, 174, 255, 0.5)",
          "line": {
           "color": "rgb(0,0,0)",
           "width": 1.5
          }
         },
         "name": "Win %",
         "text": [
          51.2,
          48.94,
          54.28,
          51.53,
          51.48
         ],
         "type": "bar",
         "x": [
          "Bel'Veth",
          "K'Sante",
          "Nilah",
          "Renata Glasc",
          "Zeri"
         ],
         "y": [
          51.2,
          48.94,
          54.28,
          51.53,
          51.48
         ]
        },
        {
         "marker": {
          "color": "rgba(255, 255, 128, 0.5)",
          "line": {
           "color": "rgb(0,0,0)",
           "width": 1.5
          }
         },
         "name": "Pick %",
         "text": [
          4.15,
          8.18,
          4.33,
          4.26,
          9.2
         ],
         "type": "bar",
         "x": [
          "Bel'Veth",
          "K'Sante",
          "Nilah",
          "Renata Glasc",
          "Zeri"
         ],
         "y": [
          4.15,
          8.18,
          4.33,
          4.26,
          9.2
         ]
        },
        {
         "marker": {
          "color": "rgba(140, 230, 50, 0.5)",
          "line": {
           "color": "rgb(0,0,0)",
           "width": 1.5
          }
         },
         "name": "Ban %",
         "text": [
          12.23,
          15.65,
          9.23,
          2.72,
          3.9
         ],
         "type": "bar",
         "x": [
          "Bel'Veth",
          "K'Sante",
          "Nilah",
          "Renata Glasc",
          "Zeri"
         ],
         "y": [
          12.23,
          15.65,
          9.23,
          2.72,
          3.9
         ]
        }
       ],
       "layout": {
        "barmode": "group",
        "template": {
         "data": {
          "bar": [
           {
            "error_x": {
             "color": "#2a3f5f"
            },
            "error_y": {
             "color": "#2a3f5f"
            },
            "marker": {
             "line": {
              "color": "#E5ECF6",
              "width": 0.5
             },
             "pattern": {
              "fillmode": "overlay",
              "size": 10,
              "solidity": 0.2
             }
            },
            "type": "bar"
           }
          ],
          "barpolar": [
           {
            "marker": {
             "line": {
              "color": "#E5ECF6",
              "width": 0.5
             },
             "pattern": {
              "fillmode": "overlay",
              "size": 10,
              "solidity": 0.2
             }
            },
            "type": "barpolar"
           }
          ],
          "carpet": [
           {
            "aaxis": {
             "endlinecolor": "#2a3f5f",
             "gridcolor": "white",
             "linecolor": "white",
             "minorgridcolor": "white",
             "startlinecolor": "#2a3f5f"
            },
            "baxis": {
             "endlinecolor": "#2a3f5f",
             "gridcolor": "white",
             "linecolor": "white",
             "minorgridcolor": "white",
             "startlinecolor": "#2a3f5f"
            },
            "type": "carpet"
           }
          ],
          "choropleth": [
           {
            "colorbar": {
             "outlinewidth": 0,
             "ticks": ""
            },
            "type": "choropleth"
           }
          ],
          "contour": [
           {
            "colorbar": {
             "outlinewidth": 0,
             "ticks": ""
            },
            "colorscale": [
             [
              0,
              "#0d0887"
             ],
             [
              0.1111111111111111,
              "#46039f"
             ],
             [
              0.2222222222222222,
              "#7201a8"
             ],
             [
              0.3333333333333333,
              "#9c179e"
             ],
             [
              0.4444444444444444,
              "#bd3786"
             ],
             [
              0.5555555555555556,
              "#d8576b"
             ],
             [
              0.6666666666666666,
              "#ed7953"
             ],
             [
              0.7777777777777778,
              "#fb9f3a"
             ],
             [
              0.8888888888888888,
              "#fdca26"
             ],
             [
              1,
              "#f0f921"
             ]
            ],
            "type": "contour"
           }
          ],
          "contourcarpet": [
           {
            "colorbar": {
             "outlinewidth": 0,
             "ticks": ""
            },
            "type": "contourcarpet"
           }
          ],
          "heatmap": [
           {
            "colorbar": {
             "outlinewidth": 0,
             "ticks": ""
            },
            "colorscale": [
             [
              0,
              "#0d0887"
             ],
             [
              0.1111111111111111,
              "#46039f"
             ],
             [
              0.2222222222222222,
              "#7201a8"
             ],
             [
              0.3333333333333333,
              "#9c179e"
             ],
             [
              0.4444444444444444,
              "#bd3786"
             ],
             [
              0.5555555555555556,
              "#d8576b"
             ],
             [
              0.6666666666666666,
              "#ed7953"
             ],
             [
              0.7777777777777778,
              "#fb9f3a"
             ],
             [
              0.8888888888888888,
              "#fdca26"
             ],
             [
              1,
              "#f0f921"
             ]
            ],
            "type": "heatmap"
           }
          ],
          "heatmapgl": [
           {
            "colorbar": {
             "outlinewidth": 0,
             "ticks": ""
            },
            "colorscale": [
             [
              0,
              "#0d0887"
             ],
             [
              0.1111111111111111,
              "#46039f"
             ],
             [
              0.2222222222222222,
              "#7201a8"
             ],
             [
              0.3333333333333333,
              "#9c179e"
             ],
             [
              0.4444444444444444,
              "#bd3786"
             ],
             [
              0.5555555555555556,
              "#d8576b"
             ],
             [
              0.6666666666666666,
              "#ed7953"
             ],
             [
              0.7777777777777778,
              "#fb9f3a"
             ],
             [
              0.8888888888888888,
              "#fdca26"
             ],
             [
              1,
              "#f0f921"
             ]
            ],
            "type": "heatmapgl"
           }
          ],
          "histogram": [
           {
            "marker": {
             "pattern": {
              "fillmode": "overlay",
              "size": 10,
              "solidity": 0.2
             }
            },
            "type": "histogram"
           }
          ],
          "histogram2d": [
           {
            "colorbar": {
             "outlinewidth": 0,
             "ticks": ""
            },
            "colorscale": [
             [
              0,
              "#0d0887"
             ],
             [
              0.1111111111111111,
              "#46039f"
             ],
             [
              0.2222222222222222,
              "#7201a8"
             ],
             [
              0.3333333333333333,
              "#9c179e"
             ],
             [
              0.4444444444444444,
              "#bd3786"
             ],
             [
              0.5555555555555556,
              "#d8576b"
             ],
             [
              0.6666666666666666,
              "#ed7953"
             ],
             [
              0.7777777777777778,
              "#fb9f3a"
             ],
             [
              0.8888888888888888,
              "#fdca26"
             ],
             [
              1,
              "#f0f921"
             ]
            ],
            "type": "histogram2d"
           }
          ],
          "histogram2dcontour": [
           {
            "colorbar": {
             "outlinewidth": 0,
             "ticks": ""
            },
            "colorscale": [
             [
              0,
              "#0d0887"
             ],
             [
              0.1111111111111111,
              "#46039f"
             ],
             [
              0.2222222222222222,
              "#7201a8"
             ],
             [
              0.3333333333333333,
              "#9c179e"
             ],
             [
              0.4444444444444444,
              "#bd3786"
             ],
             [
              0.5555555555555556,
              "#d8576b"
             ],
             [
              0.6666666666666666,
              "#ed7953"
             ],
             [
              0.7777777777777778,
              "#fb9f3a"
             ],
             [
              0.8888888888888888,
              "#fdca26"
             ],
             [
              1,
              "#f0f921"
             ]
            ],
            "type": "histogram2dcontour"
           }
          ],
          "mesh3d": [
           {
            "colorbar": {
             "outlinewidth": 0,
             "ticks": ""
            },
            "type": "mesh3d"
           }
          ],
          "parcoords": [
           {
            "line": {
             "colorbar": {
              "outlinewidth": 0,
              "ticks": ""
             }
            },
            "type": "parcoords"
           }
          ],
          "pie": [
           {
            "automargin": true,
            "type": "pie"
           }
          ],
          "scatter": [
           {
            "fillpattern": {
             "fillmode": "overlay",
             "size": 10,
             "solidity": 0.2
            },
            "type": "scatter"
           }
          ],
          "scatter3d": [
           {
            "line": {
             "colorbar": {
              "outlinewidth": 0,
              "ticks": ""
             }
            },
            "marker": {
             "colorbar": {
              "outlinewidth": 0,
              "ticks": ""
             }
            },
            "type": "scatter3d"
           }
          ],
          "scattercarpet": [
           {
            "marker": {
             "colorbar": {
              "outlinewidth": 0,
              "ticks": ""
             }
            },
            "type": "scattercarpet"
           }
          ],
          "scattergeo": [
           {
            "marker": {
             "colorbar": {
              "outlinewidth": 0,
              "ticks": ""
             }
            },
            "type": "scattergeo"
           }
          ],
          "scattergl": [
           {
            "marker": {
             "colorbar": {
              "outlinewidth": 0,
              "ticks": ""
             }
            },
            "type": "scattergl"
           }
          ],
          "scattermapbox": [
           {
            "marker": {
             "colorbar": {
              "outlinewidth": 0,
              "ticks": ""
             }
            },
            "type": "scattermapbox"
           }
          ],
          "scatterpolar": [
           {
            "marker": {
             "colorbar": {
              "outlinewidth": 0,
              "ticks": ""
             }
            },
            "type": "scatterpolar"
           }
          ],
          "scatterpolargl": [
           {
            "marker": {
             "colorbar": {
              "outlinewidth": 0,
              "ticks": ""
             }
            },
            "type": "scatterpolargl"
           }
          ],
          "scatterternary": [
           {
            "marker": {
             "colorbar": {
              "outlinewidth": 0,
              "ticks": ""
             }
            },
            "type": "scatterternary"
           }
          ],
          "surface": [
           {
            "colorbar": {
             "outlinewidth": 0,
             "ticks": ""
            },
            "colorscale": [
             [
              0,
              "#0d0887"
             ],
             [
              0.1111111111111111,
              "#46039f"
             ],
             [
              0.2222222222222222,
              "#7201a8"
             ],
             [
              0.3333333333333333,
              "#9c179e"
             ],
             [
              0.4444444444444444,
              "#bd3786"
             ],
             [
              0.5555555555555556,
              "#d8576b"
             ],
             [
              0.6666666666666666,
              "#ed7953"
             ],
             [
              0.7777777777777778,
              "#fb9f3a"
             ],
             [
              0.8888888888888888,
              "#fdca26"
             ],
             [
              1,
              "#f0f921"
             ]
            ],
            "type": "surface"
           }
          ],
          "table": [
           {
            "cells": {
             "fill": {
              "color": "#EBF0F8"
             },
             "line": {
              "color": "white"
             }
            },
            "header": {
             "fill": {
              "color": "#C8D4E3"
             },
             "line": {
              "color": "white"
             }
            },
            "type": "table"
           }
          ]
         },
         "layout": {
          "annotationdefaults": {
           "arrowcolor": "#2a3f5f",
           "arrowhead": 0,
           "arrowwidth": 1
          },
          "autotypenumbers": "strict",
          "coloraxis": {
           "colorbar": {
            "outlinewidth": 0,
            "ticks": ""
           }
          },
          "colorscale": {
           "diverging": [
            [
             0,
             "#8e0152"
            ],
            [
             0.1,
             "#c51b7d"
            ],
            [
             0.2,
             "#de77ae"
            ],
            [
             0.3,
             "#f1b6da"
            ],
            [
             0.4,
             "#fde0ef"
            ],
            [
             0.5,
             "#f7f7f7"
            ],
            [
             0.6,
             "#e6f5d0"
            ],
            [
             0.7,
             "#b8e186"
            ],
            [
             0.8,
             "#7fbc41"
            ],
            [
             0.9,
             "#4d9221"
            ],
            [
             1,
             "#276419"
            ]
           ],
           "sequential": [
            [
             0,
             "#0d0887"
            ],
            [
             0.1111111111111111,
             "#46039f"
            ],
            [
             0.2222222222222222,
             "#7201a8"
            ],
            [
             0.3333333333333333,
             "#9c179e"
            ],
            [
             0.4444444444444444,
             "#bd3786"
            ],
            [
             0.5555555555555556,
             "#d8576b"
            ],
            [
             0.6666666666666666,
             "#ed7953"
            ],
            [
             0.7777777777777778,
             "#fb9f3a"
            ],
            [
             0.8888888888888888,
             "#fdca26"
            ],
            [
             1,
             "#f0f921"
            ]
           ],
           "sequentialminus": [
            [
             0,
             "#0d0887"
            ],
            [
             0.1111111111111111,
             "#46039f"
            ],
            [
             0.2222222222222222,
             "#7201a8"
            ],
            [
             0.3333333333333333,
             "#9c179e"
            ],
            [
             0.4444444444444444,
             "#bd3786"
            ],
            [
             0.5555555555555556,
             "#d8576b"
            ],
            [
             0.6666666666666666,
             "#ed7953"
            ],
            [
             0.7777777777777778,
             "#fb9f3a"
            ],
            [
             0.8888888888888888,
             "#fdca26"
            ],
            [
             1,
             "#f0f921"
            ]
           ]
          },
          "colorway": [
           "#636efa",
           "#EF553B",
           "#00cc96",
           "#ab63fa",
           "#FFA15A",
           "#19d3f3",
           "#FF6692",
           "#B6E880",
           "#FF97FF",
           "#FECB52"
          ],
          "font": {
           "color": "#2a3f5f"
          },
          "geo": {
           "bgcolor": "white",
           "lakecolor": "white",
           "landcolor": "#E5ECF6",
           "showlakes": true,
           "showland": true,
           "subunitcolor": "white"
          },
          "hoverlabel": {
           "align": "left"
          },
          "hovermode": "closest",
          "mapbox": {
           "style": "light"
          },
          "paper_bgcolor": "white",
          "plot_bgcolor": "#E5ECF6",
          "polar": {
           "angularaxis": {
            "gridcolor": "white",
            "linecolor": "white",
            "ticks": ""
           },
           "bgcolor": "#E5ECF6",
           "radialaxis": {
            "gridcolor": "white",
            "linecolor": "white",
            "ticks": ""
           }
          },
          "scene": {
           "xaxis": {
            "backgroundcolor": "#E5ECF6",
            "gridcolor": "white",
            "gridwidth": 2,
            "linecolor": "white",
            "showbackground": true,
            "ticks": "",
            "zerolinecolor": "white"
           },
           "yaxis": {
            "backgroundcolor": "#E5ECF6",
            "gridcolor": "white",
            "gridwidth": 2,
            "linecolor": "white",
            "showbackground": true,
            "ticks": "",
            "zerolinecolor": "white"
           },
           "zaxis": {
            "backgroundcolor": "#E5ECF6",
            "gridcolor": "white",
            "gridwidth": 2,
            "linecolor": "white",
            "showbackground": true,
            "ticks": "",
            "zerolinecolor": "white"
           }
          },
          "shapedefaults": {
           "line": {
            "color": "#2a3f5f"
           }
          },
          "ternary": {
           "aaxis": {
            "gridcolor": "white",
            "linecolor": "white",
            "ticks": ""
           },
           "baxis": {
            "gridcolor": "white",
            "linecolor": "white",
            "ticks": ""
           },
           "bgcolor": "#E5ECF6",
           "caxis": {
            "gridcolor": "white",
            "linecolor": "white",
            "ticks": ""
           }
          },
          "title": {
           "x": 0.05
          },
          "xaxis": {
           "automargin": true,
           "gridcolor": "white",
           "linecolor": "white",
           "ticks": "",
           "title": {
            "standoff": 15
           },
           "zerolinecolor": "white",
           "zerolinewidth": 2
          },
          "yaxis": {
           "automargin": true,
           "gridcolor": "white",
           "linecolor": "white",
           "ticks": "",
           "title": {
            "standoff": 15
           },
           "zerolinecolor": "white",
           "zerolinewidth": 2
          }
         }
        },
        "title": {
         "text": "Estadísticas de cada campeón"
        },
        "xaxis": {
         "title": {
          "text": "Nombre"
         }
        },
        "yaxis": {
         "title": {
          "text": "Porcentaje"
         }
        }
       }
      }
     },
     "metadata": {},
     "output_type": "display_data"
    }
   ],
   "source": [
    "# Aquí el gráfico para el parche 23\n",
    "\n",
    "trace4 = go.Bar(x = mask2[\"Name\"],\n",
    "               y = mask2['Win %'],\n",
    "               name = 'Win %',\n",
    "               marker = dict(color = 'rgba(255, 174, 255, 0.5)',\n",
    "                            line = dict(color='rgb(0,0,0)', width = 1.5)),\n",
    "               text = mask2[\"Win %\"])\n",
    "\n",
    "trace5 = go.Bar(x = mask2[\"Name\"],\n",
    "               y = mask2[\"Pick %\"],\n",
    "               name = 'Pick %',\n",
    "               marker = dict(color = 'rgba(255, 255, 128, 0.5)',\n",
    "                            line = dict(color='rgb(0,0,0)', width = 1.5)),\n",
    "               text = mask2['Pick %'])\n",
    "\n",
    "trace6 = go.Bar(x = mask2[\"Name\"],\n",
    "               y = mask2[\"Ban %\"],\n",
    "               name = 'Ban %',\n",
    "               marker = dict(color = 'rgba(140, 230, 50, 0.5)',\n",
    "                            line = dict(color='rgb(0,0,0)', width = 1.5)),\n",
    "               text = mask2['Ban %'])\n",
    "\n",
    "\n",
    "\n",
    "\n",
    "data = [trace4, trace5, trace6]\n",
    "\n",
    "\n",
    "layout = {\n",
    "    'xaxis': {'title': 'Nombre'},\n",
    "    'yaxis': {'title': 'Porcentaje'},\n",
    "    'barmode': 'group',\n",
    "    'title': 'Estadísticas de cada campeón'\n",
    "}\n",
    "\n",
    "fig = go.Figure(data = data, layout = layout)\n",
    "\n",
    "fig"
   ]
  },
  {
   "attachments": {},
   "cell_type": "markdown",
   "metadata": {},
   "source": [
    "### Con ambas tablas, mostramos como aquellos personajes que se introducen también durante una temporada varían sus estadísticas de la siguiente manera, así como en el caso de Zeri se suprime un rol y su Win Rate aumenta"
   ]
  },
  {
   "attachments": {},
   "cell_type": "markdown",
   "metadata": {},
   "source": [
    "## Con los mismos campeones del último gráfico, vamos a ver si los cambios producidos en sus KDA afecta al Win %.\n"
   ]
  },
  {
   "cell_type": "code",
   "execution_count": 54,
   "metadata": {},
   "outputs": [
    {
     "data": {
      "text/plain": [
       "<AxesSubplot:>"
      ]
     },
     "execution_count": 54,
     "metadata": {},
     "output_type": "execute_result"
    },
    {
     "data": {
      "image/png": "[encoded data removed]",
      "text/plain": [
       "<Figure size 640x480 with 2 Axes>"
      ]
     },
     "metadata": {},
     "output_type": "display_data"
    }
   ],
   "source": [
    "# Mostramos que tienen alta correlación, ya que a partir de 0.3 se considera alta.\n",
    "\n",
    "col_corr=p23[[\"KDA\",\"Win %\"]]\n",
    "corr_matrix=col_corr.corr()\n",
    "sns.heatmap(corr_matrix, annot=True, cmap=\"coolwarm\")"
   ]
  },
  {
   "cell_type": "code",
   "execution_count": 38,
   "metadata": {},
   "outputs": [
    {
     "data": {
      "text/html": [
       "<div>\n",
       "<style scoped>\n",
       "    .dataframe tbody tr th:only-of-type {\n",
       "        vertical-align: middle;\n",
       "    }\n",
       "\n",
       "    .dataframe tbody tr th {\n",
       "        vertical-align: top;\n",
       "    }\n",
       "\n",
       "    .dataframe thead th {\n",
       "        text-align: right;\n",
       "    }\n",
       "</style>\n",
       "<table border=\"1\" class=\"dataframe\">\n",
       "  <thead>\n",
       "    <tr style=\"text-align: right;\">\n",
       "      <th></th>\n",
       "      <th>Name</th>\n",
       "      <th>Win %</th>\n",
       "      <th>KDA</th>\n",
       "    </tr>\n",
       "  </thead>\n",
       "  <tbody>\n",
       "    <tr>\n",
       "      <th>19</th>\n",
       "      <td>Bel'Veth</td>\n",
       "      <td>51.38</td>\n",
       "      <td>2.38</td>\n",
       "    </tr>\n",
       "    <tr>\n",
       "      <th>119</th>\n",
       "      <td>Nilah</td>\n",
       "      <td>50.72</td>\n",
       "      <td>2.17</td>\n",
       "    </tr>\n",
       "    <tr>\n",
       "      <th>139</th>\n",
       "      <td>Renata Glasc</td>\n",
       "      <td>52.87</td>\n",
       "      <td>2.93</td>\n",
       "    </tr>\n",
       "    <tr>\n",
       "      <th>232</th>\n",
       "      <td>Zeri</td>\n",
       "      <td>49.45</td>\n",
       "      <td>2.44</td>\n",
       "    </tr>\n",
       "    <tr>\n",
       "      <th>233</th>\n",
       "      <td>Zeri</td>\n",
       "      <td>48.43</td>\n",
       "      <td>2.33</td>\n",
       "    </tr>\n",
       "  </tbody>\n",
       "</table>\n",
       "</div>"
      ],
      "text/plain": [
       "             Name  Win %   KDA\n",
       "19       Bel'Veth  51.38  2.38\n",
       "119         Nilah  50.72  2.17\n",
       "139  Renata Glasc  52.87  2.93\n",
       "232          Zeri  49.45  2.44\n",
       "233          Zeri  48.43  2.33"
      ]
     },
     "execution_count": 38,
     "metadata": {},
     "output_type": "execute_result"
    }
   ],
   "source": [
    "# Ponemos las columnas de Win y KDA para ver si están relacionadas\n",
    "\n",
    "# Parche 13\n",
    "\n",
    "wk1=p13[p13[\"Name\"].isin([\"Bel'Veth\",\"Nilah\",\"Renata Glasc\", \"Zeri\",\"K'Sante\"])]\n",
    "wk1=wk1.iloc[:,[0,6,10]]\n",
    "wk1"
   ]
  },
  {
   "cell_type": "code",
   "execution_count": 39,
   "metadata": {},
   "outputs": [
    {
     "data": {
      "text/html": [
       "<div>\n",
       "<style scoped>\n",
       "    .dataframe tbody tr th:only-of-type {\n",
       "        vertical-align: middle;\n",
       "    }\n",
       "\n",
       "    .dataframe tbody tr th {\n",
       "        vertical-align: top;\n",
       "    }\n",
       "\n",
       "    .dataframe thead th {\n",
       "        text-align: right;\n",
       "    }\n",
       "</style>\n",
       "<table border=\"1\" class=\"dataframe\">\n",
       "  <thead>\n",
       "    <tr style=\"text-align: right;\">\n",
       "      <th></th>\n",
       "      <th>Name</th>\n",
       "      <th>Win %</th>\n",
       "      <th>KDA</th>\n",
       "    </tr>\n",
       "  </thead>\n",
       "  <tbody>\n",
       "    <tr>\n",
       "      <th>19</th>\n",
       "      <td>Bel'Veth</td>\n",
       "      <td>51.20</td>\n",
       "      <td>2.35</td>\n",
       "    </tr>\n",
       "    <tr>\n",
       "      <th>77</th>\n",
       "      <td>K'Sante</td>\n",
       "      <td>48.94</td>\n",
       "      <td>2.03</td>\n",
       "    </tr>\n",
       "    <tr>\n",
       "      <th>126</th>\n",
       "      <td>Nilah</td>\n",
       "      <td>54.28</td>\n",
       "      <td>2.22</td>\n",
       "    </tr>\n",
       "    <tr>\n",
       "      <th>149</th>\n",
       "      <td>Renata Glasc</td>\n",
       "      <td>51.53</td>\n",
       "      <td>2.66</td>\n",
       "    </tr>\n",
       "    <tr>\n",
       "      <th>243</th>\n",
       "      <td>Zeri</td>\n",
       "      <td>51.48</td>\n",
       "      <td>2.44</td>\n",
       "    </tr>\n",
       "  </tbody>\n",
       "</table>\n",
       "</div>"
      ],
      "text/plain": [
       "             Name  Win %   KDA\n",
       "19       Bel'Veth  51.20  2.35\n",
       "77        K'Sante  48.94  2.03\n",
       "126         Nilah  54.28  2.22\n",
       "149  Renata Glasc  51.53  2.66\n",
       "243          Zeri  51.48  2.44"
      ]
     },
     "execution_count": 39,
     "metadata": {},
     "output_type": "execute_result"
    }
   ],
   "source": [
    "# Parche 23\n",
    "\n",
    "wk2=p23[p23[\"Name\"].isin([\"Bel'Veth\",\"Nilah\",\"Renata Glasc\", \"Zeri\",\"K'Sante\"])]\n",
    "wk2=wk2.iloc[:,[0,6,10]]\n",
    "wk2"
   ]
  },
  {
   "cell_type": "code",
   "execution_count": 56,
   "metadata": {},
   "outputs": [
    {
     "data": {
      "image/png": "[encoded data removed]",
      "text/plain": [
       "<Figure size 640x480 with 1 Axes>"
      ]
     },
     "metadata": {},
     "output_type": "display_data"
    }
   ],
   "source": [
    "bel1=wk1.loc[wk1[\"Name\"]==\"Bel'Veth\"]\n",
    "nil1=wk1.loc[wk1[\"Name\"]==\"Nilah\"]\n",
    "ren1=wk1.loc[wk1[\"Name\"]==\"Renata Glasc\"]\n",
    "zeri1=wk1.loc[wk1[\"Name\"]==\"Zeri\"]\n",
    "\n",
    "fig, ax = plt.subplots()\n",
    "\n",
    "ax.scatter(bel1['KDA'], bel1['Win %'], label=\"Bel'Veth\")\n",
    "ax.scatter(nil1['KDA'], nil1['Win %'], label=\"Nilah\")\n",
    "ax.scatter(ren1['KDA'], ren1['Win %'], label=\"Renata Glasc\")\n",
    "ax.scatter(zeri1['KDA'], zeri1['Win %'], label=\"Zeri\")\n",
    "\n",
    "ax.set_xlabel(\"KDA\")\n",
    "ax.set_ylabel(\"Win %\")\n",
    "ax.set_title(\"RELACIÓN KDA/WIN % P13\")\n",
    "\n",
    "ax.legend()\n",
    "\n",
    "plt.show()"
   ]
  },
  {
   "cell_type": "code",
   "execution_count": 55,
   "metadata": {},
   "outputs": [
    {
     "data": {
      "image/png": "[encoded data removed]",
      "text/plain": [
       "<Figure size 640x480 with 1 Axes>"
      ]
     },
     "metadata": {},
     "output_type": "display_data"
    }
   ],
   "source": [
    "# Parche 23\n",
    "\n",
    "bel2=wk2.loc[wk2[\"Name\"]==\"Bel'Veth\"]\n",
    "nil2=wk2.loc[wk2[\"Name\"]==\"Nilah\"]\n",
    "ren2=wk2.loc[wk2[\"Name\"]==\"Renata Glasc\"]\n",
    "zeri2=wk2.loc[wk2[\"Name\"]==\"Zeri\"]\n",
    "ksant2=wk2.loc[wk2[\"Name\"]== \"K'Sante\"]\n",
    "\n",
    "fig, ax = plt.subplots()\n",
    "\n",
    "ax.scatter(bel2['KDA'], bel2['Win %'], label=\"Bel'Veth\")\n",
    "ax.scatter(nil2['KDA'], nil2['Win %'], label=\"Nilah\")\n",
    "ax.scatter(ren2['KDA'], ren2['Win %'], label=\"Renata Glasc\")\n",
    "ax.scatter(zeri2['KDA'], zeri2['Win %'], label=\"Zeri\")\n",
    "ax.scatter(ksant2['KDA'], ksant2['Win %'], label=\"K'Sante\")\n",
    "\n",
    "ax.set_xlabel(\"KDA\")\n",
    "ax.set_ylabel(\"Win %\")\n",
    "ax.set_title(\"RELACIÓN KDA/WIN % P23\")\n",
    "\n",
    "ax.legend()\n",
    "\n",
    "plt.show()"
   ]
  },
  {
   "attachments": {},
   "cell_type": "markdown",
   "metadata": {},
   "source": [
    "### Como podemos ver al disminuir el KDA, se reduce también el ratio de victorias, por lo que su pick % hará que se vea influenciado por esto, ya que mucha menos gente lo jugará."
   ]
  },
  {
   "attachments": {},
   "cell_type": "markdown",
   "metadata": {},
   "source": [
    "# EXTRA"
   ]
  },
  {
   "attachments": {},
   "cell_type": "markdown",
   "metadata": {},
   "source": [
    "## Vamos a mostrar la repercusión que tiene el League Of Legends a nivel mundial."
   ]
  },
  {
   "attachments": {},
   "cell_type": "markdown",
   "metadata": {},
   "source": [
    "### Aquí podemos ver un ranking sacado de la plataforma Twitch, la cual emite contenido de todo tipo, principalmente enfocándose en Videojuegos y podemos observar claramente que juego ha sido el más visto en 2022"
   ]
  },
  {
   "cell_type": "code",
   "execution_count": 42,
   "metadata": {},
   "outputs": [
    {
     "data": {
      "text/html": [
       "<div>\n",
       "<style scoped>\n",
       "    .dataframe tbody tr th:only-of-type {\n",
       "        vertical-align: middle;\n",
       "    }\n",
       "\n",
       "    .dataframe tbody tr th {\n",
       "        vertical-align: top;\n",
       "    }\n",
       "\n",
       "    .dataframe thead th {\n",
       "        text-align: right;\n",
       "    }\n",
       "</style>\n",
       "<table border=\"1\" class=\"dataframe\">\n",
       "  <thead>\n",
       "    <tr style=\"text-align: right;\">\n",
       "      <th></th>\n",
       "      <th>Game</th>\n",
       "      <th>Hours_watched</th>\n",
       "    </tr>\n",
       "  </thead>\n",
       "  <tbody>\n",
       "    <tr>\n",
       "      <th>0</th>\n",
       "      <td>League of Legends</td>\n",
       "      <td>1.556700e+09</td>\n",
       "    </tr>\n",
       "    <tr>\n",
       "      <th>1</th>\n",
       "      <td>Grand Theft Auto V</td>\n",
       "      <td>1.414287e+09</td>\n",
       "    </tr>\n",
       "    <tr>\n",
       "      <th>2</th>\n",
       "      <td>VALORANT</td>\n",
       "      <td>1.159769e+09</td>\n",
       "    </tr>\n",
       "    <tr>\n",
       "      <th>3</th>\n",
       "      <td>Counter-Strike: Global Offensive</td>\n",
       "      <td>6.997839e+08</td>\n",
       "    </tr>\n",
       "    <tr>\n",
       "      <th>4</th>\n",
       "      <td>Apex Legends</td>\n",
       "      <td>6.584776e+08</td>\n",
       "    </tr>\n",
       "    <tr>\n",
       "      <th>5</th>\n",
       "      <td>Fortnite</td>\n",
       "      <td>6.208067e+08</td>\n",
       "    </tr>\n",
       "    <tr>\n",
       "      <th>6</th>\n",
       "      <td>Minecraft</td>\n",
       "      <td>5.477535e+08</td>\n",
       "    </tr>\n",
       "    <tr>\n",
       "      <th>7</th>\n",
       "      <td>Dota 2</td>\n",
       "      <td>5.322532e+08</td>\n",
       "    </tr>\n",
       "    <tr>\n",
       "      <th>8</th>\n",
       "      <td>Call of Duty: Warzone</td>\n",
       "      <td>4.383060e+08</td>\n",
       "    </tr>\n",
       "    <tr>\n",
       "      <th>9</th>\n",
       "      <td>World of Warcraft</td>\n",
       "      <td>4.075718e+08</td>\n",
       "    </tr>\n",
       "  </tbody>\n",
       "</table>\n",
       "</div>"
      ],
      "text/plain": [
       "                               Game  Hours_watched\n",
       "0                 League of Legends   1.556700e+09\n",
       "1                Grand Theft Auto V   1.414287e+09\n",
       "2                          VALORANT   1.159769e+09\n",
       "3  Counter-Strike: Global Offensive   6.997839e+08\n",
       "4                      Apex Legends   6.584776e+08\n",
       "5                          Fortnite   6.208067e+08\n",
       "6                         Minecraft   5.477535e+08\n",
       "7                            Dota 2   5.322532e+08\n",
       "8             Call of Duty: Warzone   4.383060e+08\n",
       "9                 World of Warcraft   4.075718e+08"
      ]
     },
     "execution_count": 42,
     "metadata": {},
     "output_type": "execute_result"
    }
   ],
   "source": [
    "j22=pd.read_csv(\"/Users/antoniojaenarias/Desktop/DATA SCIENCE/TODO/EDA/EDA-LOL/twitch/juegos2022.csv\")\n",
    "j22=j22.drop(columns=\"Unnamed: 0\")\n",
    "j22"
   ]
  },
  {
   "cell_type": "code",
   "execution_count": 43,
   "metadata": {},
   "outputs": [
    {
     "data": {
      "text/plain": [
       "Text(0.5, 1.0, 'Contenido más visto en Twitch en 2022')"
      ]
     },
     "execution_count": 43,
     "metadata": {},
     "output_type": "execute_result"
    },
    {
     "data": {
      "image/png": "[encoded data removed]",
      "text/plain": [
       "<Figure size 640x480 with 1 Axes>"
      ]
     },
     "metadata": {},
     "output_type": "display_data"
    }
   ],
   "source": [
    "ax=j22.plot.bar(x=\"Game\", y=\"Hours_watched\")\n",
    "ax.set_xticklabels(j22['Game'],\n",
    "    rotation=45, ha='right')\n",
    "ax.set_title(\"Contenido más visto en Twitch en 2022\")\n"
   ]
  },
  {
   "attachments": {},
   "cell_type": "markdown",
   "metadata": {},
   "source": [
    "### Procedemos a mostrar el mayor pico de viewers que ha tenido el League of Legends en la plataforma Twitch, en comparación a los siguientes eventos como son la final del mundial de 2022 en Francia, España y la final del mundial de 2010 desde España."
   ]
  },
  {
   "cell_type": "code",
   "execution_count": 44,
   "metadata": {},
   "outputs": [
    {
     "data": {
      "text/html": [
       "<div>\n",
       "<style scoped>\n",
       "    .dataframe tbody tr th:only-of-type {\n",
       "        vertical-align: middle;\n",
       "    }\n",
       "\n",
       "    .dataframe tbody tr th {\n",
       "        vertical-align: top;\n",
       "    }\n",
       "\n",
       "    .dataframe thead th {\n",
       "        text-align: right;\n",
       "    }\n",
       "</style>\n",
       "<table border=\"1\" class=\"dataframe\">\n",
       "  <thead>\n",
       "    <tr style=\"text-align: right;\">\n",
       "      <th></th>\n",
       "      <th>Game</th>\n",
       "      <th>Peak_viewers</th>\n",
       "    </tr>\n",
       "  </thead>\n",
       "  <tbody>\n",
       "    <tr>\n",
       "      <th>0</th>\n",
       "      <td>Final mundial 2022 (ESPAÑA)</td>\n",
       "      <td>13005000</td>\n",
       "    </tr>\n",
       "    <tr>\n",
       "      <th>1</th>\n",
       "      <td>League of Legends</td>\n",
       "      <td>13220095</td>\n",
       "    </tr>\n",
       "    <tr>\n",
       "      <th>2</th>\n",
       "      <td>Final mundial 2010 (ESPAÑA)</td>\n",
       "      <td>13933000</td>\n",
       "    </tr>\n",
       "    <tr>\n",
       "      <th>3</th>\n",
       "      <td>Final mundial 2022 (FRANCIA)</td>\n",
       "      <td>29400000</td>\n",
       "    </tr>\n",
       "  </tbody>\n",
       "</table>\n",
       "</div>"
      ],
      "text/plain": [
       "                           Game  Peak_viewers\n",
       "0   Final mundial 2022 (ESPAÑA)      13005000\n",
       "1             League of Legends      13220095\n",
       "2   Final mundial 2010 (ESPAÑA)      13933000\n",
       "3  Final mundial 2022 (FRANCIA)      29400000"
      ]
     },
     "execution_count": 44,
     "metadata": {},
     "output_type": "execute_result"
    }
   ],
   "source": [
    "# Comparativa\n",
    "\n",
    "comp=pd.read_csv(\"/Users/antoniojaenarias/Desktop/DATA SCIENCE/TODO/EDA/EDA-LOL/twitch/comparativa.csv\")\n",
    "comp=comp.drop(columns=\"Unnamed: 0\")\n",
    "comp"
   ]
  },
  {
   "cell_type": "code",
   "execution_count": 45,
   "metadata": {},
   "outputs": [
    {
     "data": {
      "image/png": "[encoded data removed]",
      "text/plain": [
       "<Figure size 640x480 with 1 Axes>"
      ]
     },
     "metadata": {},
     "output_type": "display_data"
    }
   ],
   "source": [
    "ax=comp.plot.bar(x=\"Game\", y=\"Peak_viewers\")\n",
    "ax.set_xticklabels(comp['Game'], rotation=45, size=10,ha='right')\n",
    "\n",
    "for i, val in enumerate(comp['Peak_viewers']):\n",
    "    ax.annotate(str(val), xy=(i, val), ha='center', va='bottom', color=\"red\")"
   ]
  },
  {
   "attachments": {},
   "cell_type": "markdown",
   "metadata": {},
   "source": [
    "### Como se puede ver claramente el mayor pico de espectadores viendo alguna partida de League of Legends en Twitch no tiene nada que envidiar a eventos mundiales tales como los mostrados en el gráfico."
   ]
  }
 ],
 "metadata": {
  "kernelspec": {
   "display_name": "Python 3",
   "language": "python",
   "name": "python3"
  },
  "language_info": {
   "codemirror_mode": {
    "name": "ipython",
    "version": 3
   },
   "file_extension": ".py",
   "mimetype": "text/x-python",
   "name": "python",
   "nbconvert_exporter": "python",
   "pygments_lexer": "ipython3",
   "version": "3.7.4"
  },
  "orig_nbformat": 4
 },
 "nbformat": 4,
 "nbformat_minor": 2
}
